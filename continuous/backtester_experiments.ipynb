{
 "cells": [
  {
   "cell_type": "code",
   "execution_count": 1,
   "id": "initial_id",
   "metadata": {
    "collapsed": true,
    "ExecuteTime": {
     "end_time": "2024-03-26T10:29:20.951131Z",
     "start_time": "2024-03-26T10:29:20.093780Z"
    }
   },
   "outputs": [],
   "source": [
    "from wootrade import Client as Client_w\n",
    "from binance.client import Client as Client_b\n",
    "import binance.enums as be\n",
    "import mt.resources.keys as keys\n",
    "from datetime import datetime, timedelta, timezone\n",
    "import polars as pl\n",
    "import polars.selectors as cs\n",
    "import plotly.graph_objects as go\n",
    "import plotly.express as px\n",
    "import seaborn as sns\n",
    "import matplotlib.pyplot as plt\n",
    "import math\n",
    "import statistics as stats\n",
    "from pathlib import Path"
   ]
  },
  {
   "cell_type": "code",
   "outputs": [
    {
     "data": {
      "text/plain": "<polars.config.Config at 0x7f659bafc190>"
     },
     "execution_count": 2,
     "metadata": {},
     "output_type": "execute_result"
    }
   ],
   "source": [
    "pl.Config(tbl_cols=20, tbl_rows=50, tbl_width_chars=180)"
   ],
   "metadata": {
    "collapsed": false,
    "ExecuteTime": {
     "end_time": "2024-03-26T10:29:20.960041Z",
     "start_time": "2024-03-26T10:29:20.952332Z"
    }
   },
   "id": "ce2cd74ba9846a6a",
   "execution_count": 2
  },
  {
   "cell_type": "code",
   "outputs": [],
   "source": [
    "# client = Client_w(keys.woo_key, keys.woo_secret, keys.woo_app_id, testnet=True)\n",
    "client = Client_b(keys.bPkey, keys.bSkey)"
   ],
   "metadata": {
    "collapsed": false,
    "ExecuteTime": {
     "end_time": "2024-03-26T10:29:21.326345Z",
     "start_time": "2024-03-26T10:29:20.961498Z"
    }
   },
   "id": "5811045fcabdebd0",
   "execution_count": 3
  },
  {
   "cell_type": "code",
   "outputs": [],
   "source": [
    "def time_bars(pair, period):\n",
    "    datapath = Path(f\"/home/ross/coding/modular_trader/bin_ohlc_5m/{pair}.parquet\")\n",
    "    df = pl.read_parquet(datapath).set_sorted('timestamp')\n",
    "    \n",
    "    df = (df.group_by_dynamic(pl.col('timestamp'), every=period).agg(\n",
    "            pl.first('open'),\n",
    "            pl.max('high'),\n",
    "            pl.min('low'),\n",
    "            pl.last('close'),\n",
    "            pl.sum('base_vol'),\n",
    "            pl.sum('quote_vol'),\n",
    "            pl.sum('num_trades'),\n",
    "            pl.sum('taker_buy_base_vol'),\n",
    "            pl.sum('taker_buy_quote_vol'),\n",
    "        ))\n",
    "    \n",
    "    df = df.sort('timestamp')\n",
    "    \n",
    "    df = df.with_columns(\n",
    "        pl.col('taker_buy_base_vol').mul(2).sub(pl.col('base_vol')).alias('base_vol_delta'),\n",
    "        pl.col('close').pct_change().fill_null(0).alias('pct_change')\n",
    "    )\n",
    "        \n",
    "    return df.select(['timestamp', 'open', 'high', 'low', 'close', 'quote_vol', 'base_vol_delta', 'pct_change'])\n",
    "\n",
    "def vol_bars(pair, volume):\n",
    "    datapath = Path(f\"/home/ross/coding/modular_trader/bin_ohlc_5m/{pair}.parquet\")\n",
    "    df = pl.read_parquet(datapath)\n",
    "    \n",
    "    df = df.with_columns(pl.col('base_vol').cum_sum().floordiv(volume).alias('groups'))\n",
    "    \n",
    "    df = (df.group_by(pl.col('groups')).agg(\n",
    "            pl.first('timestamp'),\n",
    "            pl.first('open'),\n",
    "            pl.max('high'),\n",
    "            pl.min('low'),\n",
    "            pl.last('close'),\n",
    "            pl.sum('base_vol'),\n",
    "            pl.sum('quote_vol'),\n",
    "            pl.sum('num_trades'),\n",
    "            pl.sum('taker_buy_base_vol'),\n",
    "            pl.sum('taker_buy_quote_vol'),\n",
    "        ))\n",
    "    \n",
    "    df = df.sort('timestamp')\n",
    "    \n",
    "    df = df.with_columns(\n",
    "        pl.col('taker_buy_base_vol').mul(2).sub(pl.col('base_vol')).alias('base_vol_delta'),\n",
    "        pl.col('close').pct_change().alias('pct_change')\n",
    "    )\n",
    "        \n",
    "    return df.select(['timestamp', 'close', 'quote_vol', 'base_vol_delta', 'pct_change'])\n",
    "\n",
    "def ha_bars(pair, period):\n",
    "    \"\"\"i haven't bothered to calculate heikin ashi high and low because they are essentially the same as regular high and low\"\"\"\n",
    "    \n",
    "    datapath = Path(f\"/home/ross/coding/modular_trader/bin_ohlc_5m/{pair}.parquet\")\n",
    "    df = pl.read_parquet(datapath).set_sorted('timestamp')\n",
    "    \n",
    "    df = (df.group_by_dynamic(pl.col('timestamp'), every=period).agg(\n",
    "            pl.first('open'),\n",
    "            pl.max('high'),\n",
    "            pl.min('low'),\n",
    "            pl.last('close'),\n",
    "            pl.sum('base_vol'),\n",
    "            pl.sum('quote_vol'),\n",
    "            pl.sum('num_trades'),\n",
    "            pl.sum('taker_buy_base_vol'),\n",
    "            pl.sum('taker_buy_quote_vol'),\n",
    "        ))\n",
    "    \n",
    "    df = df.sort('timestamp')\n",
    "    \n",
    "    df = df.with_columns(\n",
    "        df.select(['open', 'close']).mean_horizontal().shift(1).fill_null(df.item(0, 'open')).alias('ha_open'),\n",
    "        df.select(['open', 'high', 'low', 'close']).mean_horizontal().alias('ha_close')\n",
    "        \n",
    "    )\n",
    "    \n",
    "    df = df.with_columns(\n",
    "        pl.col('taker_buy_base_vol').mul(2).sub(pl.col('base_vol')).alias('base_vol_delta'),\n",
    "        pl.col('ha_close').pct_change().fill_null(0).alias('ha_pct_change'),\n",
    "        pl.col('close').pct_change().fill_null(0).alias('pct_change')\n",
    "    )\n",
    "    \n",
    "    return df.select('timestamp', 'ha_open', 'ha_close', 'close', 'high', 'low', 'quote_vol', 'num_trades', 'base_vol_delta', 'ha_pct_change', 'pct_change')\n",
    "\n",
    "def hma(data, length):\n",
    "    half_len = length / 2\n",
    "    root_len = round(math.sqrt(length))\n",
    "    data = data.with_columns(\n",
    "        ((pl.col('close').ewm_mean(span=half_len) * 2) - pl.col('close').ewm_mean(span=length))\n",
    "        .ewm_mean(span=root_len)\n",
    "        .alias(f'hma_{length}')\n",
    "    )\n",
    "    return data\n",
    "\n",
    "def ema(data, length):\n",
    "    data = data.with_columns(pl.col('close').ewm_mean(span=length).alias(f'ema_{length}'))\n",
    "                              \n",
    "    return data\n",
    "\n",
    "def ichimoku(data, f=9, s=26):\n",
    "    \"\"\"t is the periods for the tenkan calculation, k is for the kijun calculation, c is for the chikou (lagging) span, and s is for the senkou (cloud) shift\"\"\"\n",
    "    \n",
    "    # indicators\n",
    "    data = data.with_columns(\n",
    "        ((pl.col('high').rolling_max(f) + pl.col('low').rolling_min(f)) / 2).shift(1).alias('tenkan'),\n",
    "        ((pl.col('high').rolling_max(s) + pl.col('low').rolling_min(s)) / 2).shift(1).alias('kijun'),\n",
    "        ((pl.col('high').rolling_max(s) + pl.col('low').rolling_min(s*2)) / 2).shift(1+s).alias('senkou_b'),\n",
    "        pl.col('close').shift(1-s).alias('chikou')\n",
    "    )\n",
    "    data = data.with_columns(\n",
    "        ((pl.col('tenkan') + pl.col('kijun')) / 2).shift(1+s).alias('senkou_a')\n",
    "    )\n",
    "    \n",
    "    return data\n",
    "\n",
    "def standard_forecast(data, name, flip):\n",
    "    \"\"\"scales a forecast by dynamic standard deviation\"\"\"\n",
    "    \n",
    "    flipper = -1 if flip else 1\n",
    "        \n",
    "    data = data.with_columns(pl.col(name).truediv(pl.col('dyn_std')))\n",
    "    data = data.with_columns(pl.col(name).mul(flipper).truediv(pl.col(name).abs().mean()).clip(lower_bound=-2, upper_bound=2).alias(name))\n",
    "    \n",
    "    return data\n",
    "\n",
    "def dyn_risk_target(data, tau, lookback, annualiser):\n",
    "    \n",
    "    data = data.with_columns((pl.col('pct_change').rolling_std(lookback, min_periods=3) * annualiser).alias(f'dyn_std'))\n",
    "    data = data.with_columns((tau / pl.col(f'dyn_std')).fill_null(0).alias(f'dyn_risk_mult'))\n",
    "    data = data.with_columns((pl.col(f'dyn_risk_mult') / pl.col(f'dyn_risk_mult').mean())\n",
    "                             .truediv(2)\n",
    "                             .clip(0, 1)\n",
    "                             .alias(f'dyn_risk_mult'))\n",
    "    \n",
    "    return data\n",
    "\n",
    "def size_to_pnl(data, pattern, costs):\n",
    "    \"\"\"all ideal size, pnl and cum_pnl columns follow the same convention, pattern tells the function \n",
    "    what prefix to look for and use when finding the input column and creating the output columns\"\"\"\n",
    "    \n",
    "    data = data.with_columns(pl.col(f'{pattern}_size').shift(1).fill_null(0).alias(f'{pattern}_size'))\n",
    "    \n",
    "    data = data.with_columns(pl.col(f'{pattern}_size').diff().fill_null(0).alias(f'{pattern}_trade_size'))\n",
    "    data = data.with_columns(pl.col(f'{pattern}_trade_size').mul(costs).alias(f'{pattern}_trade_costs'))\n",
    "    \n",
    "    data = data.with_columns(pl.col(f'{pattern}_returns').mul(pl.col(f'{pattern}_size'))\n",
    "                             .add(1).mul(pl.lit(1) - pl.col(f'{pattern}_trade_costs'))\n",
    "                             .alias(f'{pattern}_pnl'))\n",
    "    \n",
    "    return data\n",
    "\n",
    "def perf_stats(name, s, ann):\n",
    "    \n",
    "    ann_mean = s.pct_change().mean() * (ann ** 2)\n",
    "    ann_std = s.pct_change().std() * ann\n",
    "    ann_sharpe = ann_mean / ann_std\n",
    "    \n",
    "    dd = (s.cum_max() - s) / s.cum_max()\n",
    "    \n",
    "    print(f\"{name} Sharpe: {ann_sharpe:.2f}, \"\n",
    "          f\"Mean Rtn: {ann_mean:.1%}, \"\n",
    "          f\"Stdev: {ann_std:.2f}, \"\n",
    "          f\"Skew: {s.skew():.2f}, \"\n",
    "          f\"Max Drawdown: {dd.max():.1%},\"\n",
    "          f\"Avg Drawdown: {dd.mean():.1%}\")\n",
    "\n",
    "def ma_cross_forecast(data, l, func, name):\n",
    "    f = int(l * 0.5)\n",
    "    data = func(data, f)\n",
    "    data = func(data, l)\n",
    "    data = data.with_columns(\n",
    "        ((pl.col(f'{name}_{f}') - pl.col(f'{name}_{l}')) / pl.col(f'{name}_{l}'))\n",
    "        .alias(f'{name}_diff_{f}_{l}')\n",
    "    )\n",
    "    \n",
    "    flip = False#l < 20\n",
    "    \n",
    "    return standard_forecast(data, f'{name}_diff_{f}_{l}', flip)\n",
    "\n",
    "def rsi_forecast(data, l):\n",
    "    \n",
    "    # calculate rsi\n",
    "    data = data.with_columns(pl.col('pct_change').clip(lower_bound=0).rolling_max(l).alias('u'))\n",
    "    data = data.with_columns(pl.col('pct_change').clip(upper_bound=0).abs().rolling_max(l).alias('v'))\n",
    "    data = data.with_columns(pl.lit(100).mul(pl.col('u') / (pl.col('u') + pl.col('v'))).fill_nan(50).alias(f'rsi_{l}'))\n",
    "    \n",
    "    # apply trading rule\n",
    "    data = data.with_columns(pl.col(f\"rsi_{l}\").pct_change().alias(f\"rsi_{l}_up\")) # .gt(0).mul(2).sub(1)\n",
    "    # data = data.with_columns(pl.col(f\"rsi_{l}\").ewm_mean(span=l).pct_change().alias(f\"rsi_{l}_up\")) # .gt(0).mul(2).sub(1)\n",
    "    data = data.with_columns((pl.lit(1) - (((pl.col(f'rsi_{l}') - 50).abs() / 50))).alias(f\"rsi_{l}_excur\"))\n",
    "    \n",
    "    # plt.figure(figsize=(19, 8))\n",
    "    # sns.lineplot(data=data, x='timestamp', y=f'rsi_{l}', label=f'rsi_{l}')\n",
    "    # plt.show()\n",
    "    # plt.figure(figsize=(19, 8))\n",
    "    # sns.lineplot(data=data, x='timestamp', y=f'rsi_{l}_up', label=f'rsi_{l}_up')\n",
    "    # # sns.lineplot(data=data, x='timestamp', y=f'rsi_{l}_excur', label=f'rsi_{l}_excur')\n",
    "    # plt.show()\n",
    "    \n",
    "    data = data.with_columns(pl.col(f\"rsi_{l}_up\").mul(pl.col(f\"rsi_{l}_excur\")).ewm_mean(span=3).alias(f\"rsi_{l}_combined\"))\n",
    "    \n",
    "    return standard_forecast(data, f'rsi_{l}_combined', flip=False)\n",
    "\n",
    "def ichi_trend_forecast(data, a, b):\n",
    "    \"\"\"turns the ichimoku cloud indicators into a trend-following strategy\"\"\"\n",
    "    \n",
    "    data = ichimoku(data, a, b)\n",
    "    \n",
    "    # trend following strategy\n",
    "    data = data.with_columns(\n",
    "        pl.col('tenkan').gt(pl.col('kijun')).alias('tk_up'),\n",
    "        pl.col('senkou_a').gt(pl.col('senkou_b')).alias('cloud_up'),\n",
    "        (pl.col('close').gt(pl.col('senkou_a')) & pl.col('close').gt(pl.col('tenkan'))).alias('price_above_tenkan'),\n",
    "        (pl.col('close').gt(pl.col('senkou_a')) & pl.col('close').gt(pl.col('kijun'))).alias('price_above_kijun'),\n",
    "        (pl.col('close').gt(pl.col('senkou_a')) & pl.col('close').gt(pl.col('senkou_b'))).alias('price_above_cloud'),\n",
    "        pl.col('close').gt(pl.col('close').shift(b)).alias('chikou_above_price')\n",
    "    )\n",
    "    data = data.with_columns(\n",
    "        data.select(\n",
    "            ['tk_up', 'cloud_up', 'price_above_tenkan', 'price_above_kijun', 'price_above_cloud', 'chikou_above_price']\n",
    "        ).mean_horizontal().alias(f'ichi_trend_{a}_{b}')\n",
    "    )\n",
    "\n",
    "    return standard_forecast(data, f'ichi_trend_{a}_{b}', False)\n",
    "\n",
    "def ichi_e2e():\n",
    "    # edge to edge - i could have it increase position to 1 when the trade is triggered, then resize according to position in the cloud, a resizing can only decrease size, never increase\n",
    "    pass\n",
    "\n",
    "def ichi_mean_rev():    \n",
    "    # kijun extension - same idea as e2e, increase size to 1 (or -1) when rule is triggered, then reduce position as things return to normal, and don't increase position if it goes the wrong way.\n",
    "    pass\n",
    "    "
   ],
   "metadata": {
    "collapsed": false,
    "ExecuteTime": {
     "end_time": "2024-03-26T10:30:10.371693Z",
     "start_time": "2024-03-26T10:30:10.335538Z"
    }
   },
   "id": "c9fe22536539db1d",
   "execution_count": 4
  },
  {
   "cell_type": "code",
   "outputs": [],
   "source": [
    "df = time_bars('BTCUSDT', '1h')"
   ],
   "metadata": {
    "collapsed": false,
    "ExecuteTime": {
     "end_time": "2024-03-26T10:53:22.408857Z",
     "start_time": "2024-03-26T10:53:22.372515Z"
    }
   },
   "id": "5a0e6d6eaafa1a02",
   "execution_count": 32
  },
  {
   "cell_type": "code",
   "outputs": [],
   "source": [
    "lb = 10\n",
    "col = 'close'\n",
    "df = df.with_columns(\n",
    "            pl.col(col).rolling_max(lb).shift(1)\n",
    "            .alias('chan_hi'),\n",
    "            pl.col(col).rolling_min(lb).shift(1)\n",
    "            .alias('chan_lo'),\n",
    "    \n",
    "            pl.col(col).rolling_max(lb).shift(1)\n",
    "            .lt(pl.col(col))\n",
    "            .cast(pl.Int64)\n",
    "            .diff()\n",
    "            .alias('above'),\n",
    "            pl.col(col).rolling_min(lb).shift(1)\n",
    "            .gt(pl.col(col))\n",
    "            .cast(pl.Int64)\n",
    "            .diff()\n",
    "            .alias('below'),\n",
    "        )\n",
    "df = df.with_columns(\n",
    "    pl.when(pl.col('above') == 1).then(pl.lit(1))\n",
    "    .when(pl.col('below') == 1).then(pl.lit(-1))\n",
    "    .fill_null(strategy='forward')\n",
    "    .fill_null(0)\n",
    "    .alias('forecast')\n",
    ")"
   ],
   "metadata": {
    "collapsed": false,
    "ExecuteTime": {
     "end_time": "2024-03-26T11:05:17.049190Z",
     "start_time": "2024-03-26T11:05:16.775590Z"
    }
   },
   "id": "c28910b1f976c451",
   "execution_count": 41
  },
  {
   "cell_type": "code",
   "outputs": [
    {
     "data": {
      "text/plain": "shape: (35_006, 15)\n┌──────────────┬──────────┬──────────┬──────────┬──────────┬───────────┬────────────────┬────────────┬──────────┬──────────┬────────────┬────────────┬──────────┬───────┬───────┐\n│ timestamp    ┆ open     ┆ high     ┆ low      ┆ close    ┆ quote_vol ┆ base_vol_delta ┆ pct_change ┆ chan_hi  ┆ chan_lo  ┆ above_diff ┆ below_diff ┆ forecast ┆ above ┆ below │\n│ ---          ┆ ---      ┆ ---      ┆ ---      ┆ ---      ┆ ---       ┆ ---            ┆ ---        ┆ ---      ┆ ---      ┆ ---        ┆ ---        ┆ ---      ┆ ---   ┆ ---   │\n│ datetime[ns, ┆ f64      ┆ f64      ┆ f64      ┆ f64      ┆ f64       ┆ f64            ┆ f64        ┆ f64      ┆ f64      ┆ i64        ┆ i64        ┆ i32      ┆ i64   ┆ i64   │\n│ UTC]         ┆          ┆          ┆          ┆          ┆           ┆                ┆            ┆          ┆          ┆            ┆            ┆          ┆       ┆       │\n╞══════════════╪══════════╪══════════╪══════════╪══════════╪═══════════╪════════════════╪════════════╪══════════╪══════════╪════════════╪════════════╪══════════╪═══════╪═══════╡\n│ 2020-03-27   ┆ 6636.62  ┆ 6676.76  ┆ 6635.0   ┆ 6676.74  ┆ 7.6299e6  ┆ 62.47983       ┆ 0.0        ┆ null     ┆ null     ┆ null       ┆ null       ┆ 0        ┆ null  ┆ null  │\n│ 20:00:00 UTC ┆          ┆          ┆          ┆          ┆           ┆                ┆            ┆          ┆          ┆            ┆            ┆          ┆       ┆       │\n│ 2020-03-27   ┆ 6676.74  ┆ 6700.0   ┆ 6653.75  ┆ 6675.64  ┆ 1.3600e7  ┆ 171.663183     ┆ -0.000165  ┆ null     ┆ null     ┆ null       ┆ null       ┆ 0        ┆ null  ┆ null  │\n│ 21:00:00 UTC ┆          ┆          ┆          ┆          ┆           ┆                ┆            ┆          ┆          ┆            ┆            ┆          ┆       ┆       │\n│ 2020-03-27   ┆ 6675.67  ┆ 6680.42  ┆ 6642.44  ┆ 6658.17  ┆ 9.3552e6  ┆ -265.205111    ┆ -0.002617  ┆ null     ┆ null     ┆ null       ┆ null       ┆ 0        ┆ null  ┆ null  │\n│ 22:00:00 UTC ┆          ┆          ┆          ┆          ┆           ┆                ┆            ┆          ┆          ┆            ┆            ┆          ┆       ┆       │\n│ 2020-03-27   ┆ 6658.3   ┆ 6660.83  ┆ 6261.0   ┆ 6359.11  ┆ 7.0419e7  ┆ -2633.243263   ┆ -0.044916  ┆ null     ┆ null     ┆ null       ┆ null       ┆ 0        ┆ null  ┆ null  │\n│ 23:00:00 UTC ┆          ┆          ┆          ┆          ┆           ┆                ┆            ┆          ┆          ┆            ┆            ┆          ┆       ┆       │\n│ 2020-03-28   ┆ 6359.11  ┆ 6360.0   ┆ 6200.0   ┆ 6306.54  ┆ 7.3715e7  ┆ -216.911044    ┆ -0.008267  ┆ null     ┆ null     ┆ null       ┆ null       ┆ 0        ┆ null  ┆ null  │\n│ 00:00:00 UTC ┆          ┆          ┆          ┆          ┆           ┆                ┆            ┆          ┆          ┆            ┆            ┆          ┆       ┆       │\n│ 2020-03-28   ┆ 6305.27  ┆ 6307.22  ┆ 6250.0   ┆ 6274.7   ┆ 2.0130e7  ┆ -323.310086    ┆ -0.005049  ┆ null     ┆ null     ┆ null       ┆ null       ┆ 0        ┆ null  ┆ null  │\n│ 01:00:00 UTC ┆          ┆          ┆          ┆          ┆           ┆                ┆            ┆          ┆          ┆            ┆            ┆          ┆       ┆       │\n│ 2020-03-28   ┆ 6275.15  ┆ 6282.0   ┆ 6232.06  ┆ 6254.3   ┆ 1.5703e7  ┆ -303.235072    ┆ -0.003251  ┆ null     ┆ null     ┆ null       ┆ null       ┆ 0        ┆ null  ┆ null  │\n│ 02:00:00 UTC ┆          ┆          ┆          ┆          ┆           ┆                ┆            ┆          ┆          ┆            ┆            ┆          ┆       ┆       │\n│ 2020-03-28   ┆ 6254.39  ┆ 6264.24  ┆ 6068.88  ┆ 6116.92  ┆ 6.0685e7  ┆ -1996.420713   ┆ -0.021966  ┆ null     ┆ null     ┆ null       ┆ null       ┆ 0        ┆ null  ┆ null  │\n│ 03:00:00 UTC ┆          ┆          ┆          ┆          ┆           ┆                ┆            ┆          ┆          ┆            ┆            ┆          ┆       ┆       │\n│ 2020-03-28   ┆ 6116.88  ┆ 6203.47  ┆ 6095.0   ┆ 6171.98  ┆ 2.9433e7  ┆ 115.292762     ┆ 0.009001   ┆ null     ┆ null     ┆ null       ┆ null       ┆ 0        ┆ null  ┆ null  │\n│ 04:00:00 UTC ┆          ┆          ┆          ┆          ┆           ┆                ┆            ┆          ┆          ┆            ┆            ┆          ┆       ┆       │\n│ 2020-03-28   ┆ 6172.11  ┆ 6195.0   ┆ 6144.5   ┆ 6165.01  ┆ 1.5565e7  ┆ -174.297819    ┆ -0.001129  ┆ null     ┆ null     ┆ null       ┆ null       ┆ 0        ┆ null  ┆ null  │\n│ 05:00:00 UTC ┆          ┆          ┆          ┆          ┆           ┆                ┆            ┆          ┆          ┆            ┆            ┆          ┆       ┆       │\n│ 2020-03-28   ┆ 6165.0   ┆ 6187.78  ┆ 6117.0   ┆ 6167.56  ┆ 2.1213e7  ┆ 396.816347     ┆ 0.000414   ┆ 6676.74  ┆ 6116.92  ┆ null       ┆ null       ┆ 0        ┆ null  ┆ null  │\n│ 06:00:00 UTC ┆          ┆          ┆          ┆          ┆           ┆                ┆            ┆          ┆          ┆            ┆            ┆          ┆       ┆       │\n│ 2020-03-28   ┆ 6166.69  ┆ 6194.0   ┆ 6165.0   ┆ 6184.31  ┆ 1.3741e7  ┆ -134.233247    ┆ 0.002716   ┆ 6675.64  ┆ 6116.92  ┆ 0          ┆ 0          ┆ 0        ┆ 0     ┆ 0     │\n│ 07:00:00 UTC ┆          ┆          ┆          ┆          ┆           ┆                ┆            ┆          ┆          ┆            ┆            ┆          ┆       ┆       │\n│ 2020-03-28   ┆ 6184.31  ┆ 6268.0   ┆ 6165.0   ┆ 6256.4   ┆ 2.6244e7  ┆ 368.549663     ┆ 0.011657   ┆ 6658.17  ┆ 6116.92  ┆ 0          ┆ 0          ┆ 0        ┆ 0     ┆ 0     │\n│ 08:00:00 UTC ┆          ┆          ┆          ┆          ┆           ┆                ┆            ┆          ┆          ┆            ┆            ┆          ┆       ┆       │\n│ 2020-03-28   ┆ 6257.0   ┆ 6290.0   ┆ 6233.96  ┆ 6251.54  ┆ 1.8457e7  ┆ -189.329303    ┆ -0.000777  ┆ 6359.11  ┆ 6116.92  ┆ 0          ┆ 0          ┆ 0        ┆ 0     ┆ 0     │\n│ 09:00:00 UTC ┆          ┆          ┆          ┆          ┆           ┆                ┆            ┆          ┆          ┆            ┆            ┆          ┆       ┆       │\n│ 2020-03-28   ┆ 6251.53  ┆ 6277.58  ┆ 6215.0   ┆ 6260.32  ┆ 1.3762e7  ┆ -111.440476    ┆ 0.001404   ┆ 6306.54  ┆ 6116.92  ┆ 0          ┆ 0          ┆ 0        ┆ 0     ┆ 0     │\n│ 10:00:00 UTC ┆          ┆          ┆          ┆          ┆           ┆                ┆            ┆          ┆          ┆            ┆            ┆          ┆       ┆       │\n│ 2020-03-28   ┆ 6260.3   ┆ 6319.86  ┆ 6225.01  ┆ 6236.78  ┆ 2.5315e7  ┆ 454.205207     ┆ -0.00376   ┆ 6274.7   ┆ 6116.92  ┆ 0          ┆ 0          ┆ 0        ┆ 0     ┆ 0     │\n│ 11:00:00 UTC ┆          ┆          ┆          ┆          ┆           ┆                ┆            ┆          ┆          ┆            ┆            ┆          ┆       ┆       │\n│ 2020-03-28   ┆ 6237.01  ┆ 6257.53  ┆ 6211.21  ┆ 6233.1   ┆ 1.3317e7  ┆ -117.924302    ┆ -0.00059   ┆ 6260.32  ┆ 6116.92  ┆ 0          ┆ 0          ┆ 0        ┆ 0     ┆ 0     │\n│ 12:00:00 UTC ┆          ┆          ┆          ┆          ┆           ┆                ┆            ┆          ┆          ┆            ┆            ┆          ┆       ┆       │\n│ 2020-03-28   ┆ 6234.5   ┆ 6247.56  ┆ 6155.39  ┆ 6223.84  ┆ 2.1244e7  ┆ 2.830471       ┆ -0.001486  ┆ 6260.32  ┆ 6116.92  ┆ 0          ┆ 0          ┆ 0        ┆ 0     ┆ 0     │\n│ 13:00:00 UTC ┆          ┆          ┆          ┆          ┆           ┆                ┆            ┆          ┆          ┆            ┆            ┆          ┆       ┆       │\n│ 2020-03-28   ┆ 6223.9   ┆ 6252.98  ┆ 6220.01  ┆ 6238.64  ┆ 1.0735e7  ┆ 63.647488      ┆ 0.002378   ┆ 6260.32  ┆ 6165.01  ┆ 0          ┆ 0          ┆ 0        ┆ 0     ┆ 0     │\n│ 14:00:00 UTC ┆          ┆          ┆          ┆          ┆           ┆                ┆            ┆          ┆          ┆            ┆            ┆          ┆       ┆       │\n│ 2020-03-28   ┆ 6238.6   ┆ 6274.12  ┆ 6210.0   ┆ 6215.0   ┆ 1.3614e7  ┆ 16.761791      ┆ -0.003789  ┆ 6260.32  ┆ 6165.01  ┆ 0          ┆ 0          ┆ 0        ┆ 0     ┆ 0     │\n│ 15:00:00 UTC ┆          ┆          ┆          ┆          ┆           ┆                ┆            ┆          ┆          ┆            ┆            ┆          ┆       ┆       │\n│ 2020-03-28   ┆ 6215.0   ┆ 6240.64  ┆ 6196.0   ┆ 6230.96  ┆ 1.2024e7  ┆ -206.367989    ┆ 0.002568   ┆ 6260.32  ┆ 6167.56  ┆ 0          ┆ 0          ┆ 0        ┆ 0     ┆ 0     │\n│ 16:00:00 UTC ┆          ┆          ┆          ┆          ┆           ┆                ┆            ┆          ┆          ┆            ┆            ┆          ┆       ┆       │\n│ 2020-03-28   ┆ 6230.96  ┆ 6238.34  ┆ 6024.0   ┆ 6025.79  ┆ 5.1150e7  ┆ -1326.195747   ┆ -0.032928  ┆ 6260.32  ┆ 6184.31  ┆ 0          ┆ 1          ┆ -1       ┆ 0     ┆ 1     │\n│ 17:00:00 UTC ┆          ┆          ┆          ┆          ┆           ┆                ┆            ┆          ┆          ┆            ┆            ┆          ┆       ┆       │\n│ 2020-03-28   ┆ 6024.16  ┆ 6249.71  ┆ 6024.0   ┆ 6163.97  ┆ 4.7609e7  ┆ 388.907011     ┆ 0.022931   ┆ 6260.32  ┆ 6025.79  ┆ 0          ┆ 0          ┆ -1       ┆ 0     ┆ -1    │\n│ 18:00:00 UTC ┆          ┆          ┆          ┆          ┆           ┆                ┆            ┆          ┆          ┆            ┆            ┆          ┆       ┆       │\n│ 2020-03-28   ┆ 6162.96  ┆ 6231.9   ┆ 6162.96  ┆ 6210.77  ┆ 1.5842e7  ┆ -28.803192     ┆ 0.007593   ┆ 6260.32  ┆ 6025.79  ┆ 0          ┆ 0          ┆ -1       ┆ 0     ┆ 0     │\n│ 19:00:00 UTC ┆          ┆          ┆          ┆          ┆           ┆                ┆            ┆          ┆          ┆            ┆            ┆          ┆       ┆       │\n│ 2020-03-28   ┆ 6210.5   ┆ 6295.0   ┆ 6210.11  ┆ 6244.12  ┆ 2.4375e7  ┆ 167.784866     ┆ 0.00537    ┆ 6260.32  ┆ 6025.79  ┆ 0          ┆ 0          ┆ -1       ┆ 0     ┆ 0     │\n│ 20:00:00 UTC ┆          ┆          ┆          ┆          ┆           ┆                ┆            ┆          ┆          ┆            ┆            ┆          ┆       ┆       │\n│ …            ┆ …        ┆ …        ┆ …        ┆ …        ┆ …         ┆ …              ┆ …          ┆ …        ┆ …        ┆ …          ┆ …          ┆ …        ┆ …     ┆ …     │\n│ 2024-03-25   ┆ 67055.96 ┆ 67324.15 ┆ 66840.9  ┆ 66994.33 ┆ 5.4255e7  ┆ -106.14555     ┆ -0.000919  ┆ 67505.99 ┆ 66556.0  ┆ 0          ┆ 0          ┆ 1        ┆ 0     ┆ 0     │\n│ 10:00:00 UTC ┆          ┆          ┆          ┆          ┆           ┆                ┆            ┆          ┆          ┆            ┆            ┆          ┆       ┆       │\n│ 2024-03-25   ┆ 66994.32 ┆ 67008.0  ┆ 66760.0  ┆ 66810.15 ┆ 5.6844e7  ┆ -56.08311      ┆ -0.002749  ┆ 67505.99 ┆ 66556.0  ┆ 0          ┆ 0          ┆ 1        ┆ 0     ┆ 0     │\n│ 11:00:00 UTC ┆          ┆          ┆          ┆          ┆           ┆                ┆            ┆          ┆          ┆            ┆            ┆          ┆       ┆       │\n│ 2024-03-25   ┆ 66810.15 ┆ 67267.92 ┆ 66780.0  ┆ 67079.99 ┆ 2.5017e7  ┆ 49.99304       ┆ 0.004039   ┆ 67505.99 ┆ 66700.01 ┆ 0          ┆ 0          ┆ 1        ┆ 0     ┆ 0     │\n│ 12:00:00 UTC ┆          ┆          ┆          ┆          ┆           ┆                ┆            ┆          ┆          ┆            ┆            ┆          ┆       ┆       │\n│ 2024-03-25   ┆ 67079.99 ┆ 68000.0  ┆ 66843.61 ┆ 67984.0  ┆ 1.8639e8  ┆ 574.34178      ┆ 0.013477   ┆ 67505.99 ┆ 66810.15 ┆ 1          ┆ 0          ┆ 1        ┆ 1     ┆ 0     │\n│ 13:00:00 UTC ┆          ┆          ┆          ┆          ┆           ┆                ┆            ┆          ┆          ┆            ┆            ┆          ┆       ┆       │\n│ 2024-03-25   ┆ 67984.01 ┆ 69450.0  ┆ 67838.0  ┆ 69377.19 ┆ 5.7420e8  ┆ 697.37671      ┆ 0.020493   ┆ 67984.0  ┆ 66810.15 ┆ 0          ┆ 0          ┆ 1        ┆ 0     ┆ 0     │\n│ 14:00:00 UTC ┆          ┆          ┆          ┆          ┆           ┆                ┆            ┆          ┆          ┆            ┆            ┆          ┆       ┆       │\n│ 2024-03-25   ┆ 69377.2  ┆ 70000.0  ┆ 69136.88 ┆ 69792.05 ┆ 3.2340e8  ┆ 360.9754       ┆ 0.00598    ┆ 69377.19 ┆ 66810.15 ┆ 0          ┆ 0          ┆ 1        ┆ 0     ┆ 0     │\n│ 15:00:00 UTC ┆          ┆          ┆          ┆          ┆           ┆                ┆            ┆          ┆          ┆            ┆            ┆          ┆       ┆       │\n│ 2024-03-25   ┆ 69792.06 ┆ 70273.0  ┆ 69440.18 ┆ 70154.42 ┆ 2.5817e8  ┆ 346.42828      ┆ 0.005192   ┆ 69792.05 ┆ 66810.15 ┆ 0          ┆ 0          ┆ 1        ┆ 0     ┆ 0     │\n│ 16:00:00 UTC ┆          ┆          ┆          ┆          ┆           ┆                ┆            ┆          ┆          ┆            ┆            ┆          ┆       ┆       │\n│ 2024-03-25   ┆ 70154.41 ┆ 70844.44 ┆ 70133.18 ┆ 70559.09 ┆ 2.3003e8  ┆ 132.43219      ┆ 0.005768   ┆ 70154.42 ┆ 66810.15 ┆ 0          ┆ 0          ┆ 1        ┆ 0     ┆ 0     │\n│ 17:00:00 UTC ┆          ┆          ┆          ┆          ┆           ┆                ┆            ┆          ┆          ┆            ┆            ┆          ┆       ┆       │\n│ 2024-03-25   ┆ 70559.08 ┆ 70913.73 ┆ 70364.8  ┆ 70857.09 ┆ 1.5397e8  ┆ 43.42549       ┆ 0.004223   ┆ 70559.09 ┆ 66810.15 ┆ 0          ┆ 0          ┆ 1        ┆ 0     ┆ 0     │\n│ 18:00:00 UTC ┆          ┆          ┆          ┆          ┆           ┆                ┆            ┆          ┆          ┆            ┆            ┆          ┆       ┆       │\n│ 2024-03-25   ┆ 70857.1  ┆ 71000.0  ┆ 70516.87 ┆ 70960.89 ┆ 1.9770e8  ┆ 102.20802      ┆ 0.001465   ┆ 70857.09 ┆ 66810.15 ┆ 0          ┆ 0          ┆ 1        ┆ 0     ┆ 0     │\n│ 19:00:00 UTC ┆          ┆          ┆          ┆          ┆           ┆                ┆            ┆          ┆          ┆            ┆            ┆          ┆       ┆       │\n│ 2024-03-25   ┆ 70960.89 ┆ 71150.0  ┆ 70684.84 ┆ 70907.21 ┆ 1.1657e8  ┆ 127.05372      ┆ -0.000756  ┆ 70960.89 ┆ 66810.15 ┆ 0          ┆ 0          ┆ 1        ┆ -1    ┆ 0     │\n│ 20:00:00 UTC ┆          ┆          ┆          ┆          ┆           ┆                ┆            ┆          ┆          ┆            ┆            ┆          ┆       ┆       │\n│ 2024-03-25   ┆ 70907.21 ┆ 70941.1  ┆ 69562.09 ┆ 69853.57 ┆ 1.8090e8  ┆ -418.26244     ┆ -0.014859  ┆ 70960.89 ┆ 66810.15 ┆ 0          ┆ 0          ┆ 1        ┆ 0     ┆ 0     │\n│ 21:00:00 UTC ┆          ┆          ┆          ┆          ┆           ┆                ┆            ┆          ┆          ┆            ┆            ┆          ┆       ┆       │\n│ 2024-03-25   ┆ 69853.58 ┆ 70681.03 ┆ 69850.0  ┆ 70310.0  ┆ 9.6759e7  ┆ 137.01313      ┆ 0.006534   ┆ 70960.89 ┆ 67079.99 ┆ 0          ┆ 0          ┆ 1        ┆ 0     ┆ 0     │\n│ 22:00:00 UTC ┆          ┆          ┆          ┆          ┆           ┆                ┆            ┆          ┆          ┆            ┆            ┆          ┆       ┆       │\n│ 2024-03-25   ┆ 70309.99 ┆ 70469.99 ┆ 69725.51 ┆ 69880.01 ┆ 5.5378e7  ┆ -58.90734      ┆ -0.006116  ┆ 70960.89 ┆ 67984.0  ┆ 0          ┆ 0          ┆ 1        ┆ 0     ┆ 0     │\n│ 23:00:00 UTC ┆          ┆          ┆          ┆          ┆           ┆                ┆            ┆          ┆          ┆            ┆            ┆          ┆       ┆       │\n│ 2024-03-26   ┆ 69880.0  ┆ 70221.1  ┆ 69742.08 ┆ 69893.0  ┆ 7.7336e7  ┆ -62.05095      ┆ 0.000186   ┆ 70960.89 ┆ 69377.19 ┆ 0          ┆ 0          ┆ 1        ┆ 0     ┆ 0     │\n│ 00:00:00 UTC ┆          ┆          ┆          ┆          ┆           ┆                ┆            ┆          ┆          ┆            ┆            ┆          ┆       ┆       │\n│ 2024-03-26   ┆ 69892.99 ┆ 70323.79 ┆ 69800.0  ┆ 70284.19 ┆ 7.0596e7  ┆ 4.68376        ┆ 0.005597   ┆ 70960.89 ┆ 69792.05 ┆ 0          ┆ 0          ┆ 1        ┆ 0     ┆ 0     │\n│ 01:00:00 UTC ┆          ┆          ┆          ┆          ┆           ┆                ┆            ┆          ┆          ┆            ┆            ┆          ┆       ┆       │\n│ 2024-03-26   ┆ 70284.19 ┆ 70549.54 ┆ 70045.0  ┆ 70530.0  ┆ 7.7164e7  ┆ -75.832        ┆ 0.003497   ┆ 70960.89 ┆ 69853.57 ┆ 0          ┆ 0          ┆ 1        ┆ 0     ┆ 0     │\n│ 02:00:00 UTC ┆          ┆          ┆          ┆          ┆           ┆                ┆            ┆          ┆          ┆            ┆            ┆          ┆       ┆       │\n│ 2024-03-26   ┆ 70529.99 ┆ 70606.0  ┆ 70288.0  ┆ 70423.11 ┆ 6.4012e7  ┆ -62.9518       ┆ -0.001516  ┆ 70960.89 ┆ 69853.57 ┆ 0          ┆ 0          ┆ 1        ┆ 0     ┆ 0     │\n│ 03:00:00 UTC ┆          ┆          ┆          ┆          ┆           ┆                ┆            ┆          ┆          ┆            ┆            ┆          ┆       ┆       │\n│ 2024-03-26   ┆ 70423.11 ┆ 70665.83 ┆ 70401.11 ┆ 70600.83 ┆ 5.2254e7  ┆ 26.93711       ┆ 0.002524   ┆ 70960.89 ┆ 69853.57 ┆ 0          ┆ 0          ┆ 1        ┆ 0     ┆ 0     │\n│ 04:00:00 UTC ┆          ┆          ┆          ┆          ┆           ┆                ┆            ┆          ┆          ┆            ┆            ┆          ┆       ┆       │\n│ 2024-03-26   ┆ 70600.82 ┆ 70609.17 ┆ 70274.55 ┆ 70300.0  ┆ 5.8785e7  ┆ -184.14572     ┆ -0.004261  ┆ 70960.89 ┆ 69853.57 ┆ 0          ┆ 0          ┆ 1        ┆ 0     ┆ 0     │\n│ 05:00:00 UTC ┆          ┆          ┆          ┆          ┆           ┆                ┆            ┆          ┆          ┆            ┆            ┆          ┆       ┆       │\n│ 2024-03-26   ┆ 70300.0  ┆ 70616.64 ┆ 70260.3  ┆ 70616.01 ┆ 6.5858e7  ┆ 73.6267        ┆ 0.004495   ┆ 70907.21 ┆ 69853.57 ┆ 0          ┆ 0          ┆ 1        ┆ 0     ┆ 0     │\n│ 06:00:00 UTC ┆          ┆          ┆          ┆          ┆           ┆                ┆            ┆          ┆          ┆            ┆            ┆          ┆       ┆       │\n│ 2024-03-26   ┆ 70616.01 ┆ 71561.1  ┆ 70412.33 ┆ 70486.38 ┆ 2.5652e8  ┆ 95.73072       ┆ -0.001836  ┆ 70616.01 ┆ 69853.57 ┆ 0          ┆ 0          ┆ 1        ┆ 0     ┆ 0     │\n│ 07:00:00 UTC ┆          ┆          ┆          ┆          ┆           ┆                ┆            ┆          ┆          ┆            ┆            ┆          ┆       ┆       │\n│ 2024-03-26   ┆ 70486.38 ┆ 70820.0  ┆ 70268.66 ┆ 70693.66 ┆ 1.1766e8  ┆ -3.2879        ┆ 0.002941   ┆ 70616.01 ┆ 69880.01 ┆ 1          ┆ 0          ┆ 1        ┆ 1     ┆ 0     │\n│ 08:00:00 UTC ┆          ┆          ┆          ┆          ┆           ┆                ┆            ┆          ┆          ┆            ┆            ┆          ┆       ┆       │\n│ 2024-03-26   ┆ 70693.66 ┆ 71280.0  ┆ 70620.0  ┆ 71142.23 ┆ 1.0084e8  ┆ 209.42945      ┆ 0.006345   ┆ 70693.66 ┆ 69880.01 ┆ 0          ┆ 0          ┆ 1        ┆ 0     ┆ 0     │\n│ 09:00:00 UTC ┆          ┆          ┆          ┆          ┆           ┆                ┆            ┆          ┆          ┆            ┆            ┆          ┆       ┆       │\n│ 2024-03-26   ┆ 71142.24 ┆ 71194.99 ┆ 71046.81 ┆ 71046.81 ┆ 1.2193e7  ┆ -28.16402      ┆ -0.001341  ┆ 71142.23 ┆ 69893.0  ┆ 0          ┆ 0          ┆ 1        ┆ -1    ┆ 0     │\n│ 10:00:00 UTC ┆          ┆          ┆          ┆          ┆           ┆                ┆            ┆          ┆          ┆            ┆            ┆          ┆       ┆       │\n└──────────────┴──────────┴──────────┴──────────┴──────────┴───────────┴────────────────┴────────────┴──────────┴──────────┴────────────┴────────────┴──────────┴───────┴───────┘",
      "text/html": "<div><style>\n.dataframe > thead > tr,\n.dataframe > tbody > tr {\n  text-align: right;\n  white-space: pre-wrap;\n}\n</style>\n<small>shape: (35_006, 15)</small><table border=\"1\" class=\"dataframe\"><thead><tr><th>timestamp</th><th>open</th><th>high</th><th>low</th><th>close</th><th>quote_vol</th><th>base_vol_delta</th><th>pct_change</th><th>chan_hi</th><th>chan_lo</th><th>above_diff</th><th>below_diff</th><th>forecast</th><th>above</th><th>below</th></tr><tr><td>datetime[ns, UTC]</td><td>f64</td><td>f64</td><td>f64</td><td>f64</td><td>f64</td><td>f64</td><td>f64</td><td>f64</td><td>f64</td><td>i64</td><td>i64</td><td>i32</td><td>i64</td><td>i64</td></tr></thead><tbody><tr><td>2020-03-27 20:00:00 UTC</td><td>6636.62</td><td>6676.76</td><td>6635.0</td><td>6676.74</td><td>7.6299e6</td><td>62.47983</td><td>0.0</td><td>null</td><td>null</td><td>null</td><td>null</td><td>0</td><td>null</td><td>null</td></tr><tr><td>2020-03-27 21:00:00 UTC</td><td>6676.74</td><td>6700.0</td><td>6653.75</td><td>6675.64</td><td>1.3600e7</td><td>171.663183</td><td>-0.000165</td><td>null</td><td>null</td><td>null</td><td>null</td><td>0</td><td>null</td><td>null</td></tr><tr><td>2020-03-27 22:00:00 UTC</td><td>6675.67</td><td>6680.42</td><td>6642.44</td><td>6658.17</td><td>9.3552e6</td><td>-265.205111</td><td>-0.002617</td><td>null</td><td>null</td><td>null</td><td>null</td><td>0</td><td>null</td><td>null</td></tr><tr><td>2020-03-27 23:00:00 UTC</td><td>6658.3</td><td>6660.83</td><td>6261.0</td><td>6359.11</td><td>7.0419e7</td><td>-2633.243263</td><td>-0.044916</td><td>null</td><td>null</td><td>null</td><td>null</td><td>0</td><td>null</td><td>null</td></tr><tr><td>2020-03-28 00:00:00 UTC</td><td>6359.11</td><td>6360.0</td><td>6200.0</td><td>6306.54</td><td>7.3715e7</td><td>-216.911044</td><td>-0.008267</td><td>null</td><td>null</td><td>null</td><td>null</td><td>0</td><td>null</td><td>null</td></tr><tr><td>2020-03-28 01:00:00 UTC</td><td>6305.27</td><td>6307.22</td><td>6250.0</td><td>6274.7</td><td>2.0130e7</td><td>-323.310086</td><td>-0.005049</td><td>null</td><td>null</td><td>null</td><td>null</td><td>0</td><td>null</td><td>null</td></tr><tr><td>2020-03-28 02:00:00 UTC</td><td>6275.15</td><td>6282.0</td><td>6232.06</td><td>6254.3</td><td>1.5703e7</td><td>-303.235072</td><td>-0.003251</td><td>null</td><td>null</td><td>null</td><td>null</td><td>0</td><td>null</td><td>null</td></tr><tr><td>2020-03-28 03:00:00 UTC</td><td>6254.39</td><td>6264.24</td><td>6068.88</td><td>6116.92</td><td>6.0685e7</td><td>-1996.420713</td><td>-0.021966</td><td>null</td><td>null</td><td>null</td><td>null</td><td>0</td><td>null</td><td>null</td></tr><tr><td>2020-03-28 04:00:00 UTC</td><td>6116.88</td><td>6203.47</td><td>6095.0</td><td>6171.98</td><td>2.9433e7</td><td>115.292762</td><td>0.009001</td><td>null</td><td>null</td><td>null</td><td>null</td><td>0</td><td>null</td><td>null</td></tr><tr><td>2020-03-28 05:00:00 UTC</td><td>6172.11</td><td>6195.0</td><td>6144.5</td><td>6165.01</td><td>1.5565e7</td><td>-174.297819</td><td>-0.001129</td><td>null</td><td>null</td><td>null</td><td>null</td><td>0</td><td>null</td><td>null</td></tr><tr><td>2020-03-28 06:00:00 UTC</td><td>6165.0</td><td>6187.78</td><td>6117.0</td><td>6167.56</td><td>2.1213e7</td><td>396.816347</td><td>0.000414</td><td>6676.74</td><td>6116.92</td><td>null</td><td>null</td><td>0</td><td>null</td><td>null</td></tr><tr><td>2020-03-28 07:00:00 UTC</td><td>6166.69</td><td>6194.0</td><td>6165.0</td><td>6184.31</td><td>1.3741e7</td><td>-134.233247</td><td>0.002716</td><td>6675.64</td><td>6116.92</td><td>0</td><td>0</td><td>0</td><td>0</td><td>0</td></tr><tr><td>2020-03-28 08:00:00 UTC</td><td>6184.31</td><td>6268.0</td><td>6165.0</td><td>6256.4</td><td>2.6244e7</td><td>368.549663</td><td>0.011657</td><td>6658.17</td><td>6116.92</td><td>0</td><td>0</td><td>0</td><td>0</td><td>0</td></tr><tr><td>2020-03-28 09:00:00 UTC</td><td>6257.0</td><td>6290.0</td><td>6233.96</td><td>6251.54</td><td>1.8457e7</td><td>-189.329303</td><td>-0.000777</td><td>6359.11</td><td>6116.92</td><td>0</td><td>0</td><td>0</td><td>0</td><td>0</td></tr><tr><td>2020-03-28 10:00:00 UTC</td><td>6251.53</td><td>6277.58</td><td>6215.0</td><td>6260.32</td><td>1.3762e7</td><td>-111.440476</td><td>0.001404</td><td>6306.54</td><td>6116.92</td><td>0</td><td>0</td><td>0</td><td>0</td><td>0</td></tr><tr><td>2020-03-28 11:00:00 UTC</td><td>6260.3</td><td>6319.86</td><td>6225.01</td><td>6236.78</td><td>2.5315e7</td><td>454.205207</td><td>-0.00376</td><td>6274.7</td><td>6116.92</td><td>0</td><td>0</td><td>0</td><td>0</td><td>0</td></tr><tr><td>2020-03-28 12:00:00 UTC</td><td>6237.01</td><td>6257.53</td><td>6211.21</td><td>6233.1</td><td>1.3317e7</td><td>-117.924302</td><td>-0.00059</td><td>6260.32</td><td>6116.92</td><td>0</td><td>0</td><td>0</td><td>0</td><td>0</td></tr><tr><td>2020-03-28 13:00:00 UTC</td><td>6234.5</td><td>6247.56</td><td>6155.39</td><td>6223.84</td><td>2.1244e7</td><td>2.830471</td><td>-0.001486</td><td>6260.32</td><td>6116.92</td><td>0</td><td>0</td><td>0</td><td>0</td><td>0</td></tr><tr><td>2020-03-28 14:00:00 UTC</td><td>6223.9</td><td>6252.98</td><td>6220.01</td><td>6238.64</td><td>1.0735e7</td><td>63.647488</td><td>0.002378</td><td>6260.32</td><td>6165.01</td><td>0</td><td>0</td><td>0</td><td>0</td><td>0</td></tr><tr><td>2020-03-28 15:00:00 UTC</td><td>6238.6</td><td>6274.12</td><td>6210.0</td><td>6215.0</td><td>1.3614e7</td><td>16.761791</td><td>-0.003789</td><td>6260.32</td><td>6165.01</td><td>0</td><td>0</td><td>0</td><td>0</td><td>0</td></tr><tr><td>2020-03-28 16:00:00 UTC</td><td>6215.0</td><td>6240.64</td><td>6196.0</td><td>6230.96</td><td>1.2024e7</td><td>-206.367989</td><td>0.002568</td><td>6260.32</td><td>6167.56</td><td>0</td><td>0</td><td>0</td><td>0</td><td>0</td></tr><tr><td>2020-03-28 17:00:00 UTC</td><td>6230.96</td><td>6238.34</td><td>6024.0</td><td>6025.79</td><td>5.1150e7</td><td>-1326.195747</td><td>-0.032928</td><td>6260.32</td><td>6184.31</td><td>0</td><td>1</td><td>-1</td><td>0</td><td>1</td></tr><tr><td>2020-03-28 18:00:00 UTC</td><td>6024.16</td><td>6249.71</td><td>6024.0</td><td>6163.97</td><td>4.7609e7</td><td>388.907011</td><td>0.022931</td><td>6260.32</td><td>6025.79</td><td>0</td><td>0</td><td>-1</td><td>0</td><td>-1</td></tr><tr><td>2020-03-28 19:00:00 UTC</td><td>6162.96</td><td>6231.9</td><td>6162.96</td><td>6210.77</td><td>1.5842e7</td><td>-28.803192</td><td>0.007593</td><td>6260.32</td><td>6025.79</td><td>0</td><td>0</td><td>-1</td><td>0</td><td>0</td></tr><tr><td>2020-03-28 20:00:00 UTC</td><td>6210.5</td><td>6295.0</td><td>6210.11</td><td>6244.12</td><td>2.4375e7</td><td>167.784866</td><td>0.00537</td><td>6260.32</td><td>6025.79</td><td>0</td><td>0</td><td>-1</td><td>0</td><td>0</td></tr><tr><td>&hellip;</td><td>&hellip;</td><td>&hellip;</td><td>&hellip;</td><td>&hellip;</td><td>&hellip;</td><td>&hellip;</td><td>&hellip;</td><td>&hellip;</td><td>&hellip;</td><td>&hellip;</td><td>&hellip;</td><td>&hellip;</td><td>&hellip;</td><td>&hellip;</td></tr><tr><td>2024-03-25 10:00:00 UTC</td><td>67055.96</td><td>67324.15</td><td>66840.9</td><td>66994.33</td><td>5.4255e7</td><td>-106.14555</td><td>-0.000919</td><td>67505.99</td><td>66556.0</td><td>0</td><td>0</td><td>1</td><td>0</td><td>0</td></tr><tr><td>2024-03-25 11:00:00 UTC</td><td>66994.32</td><td>67008.0</td><td>66760.0</td><td>66810.15</td><td>5.6844e7</td><td>-56.08311</td><td>-0.002749</td><td>67505.99</td><td>66556.0</td><td>0</td><td>0</td><td>1</td><td>0</td><td>0</td></tr><tr><td>2024-03-25 12:00:00 UTC</td><td>66810.15</td><td>67267.92</td><td>66780.0</td><td>67079.99</td><td>2.5017e7</td><td>49.99304</td><td>0.004039</td><td>67505.99</td><td>66700.01</td><td>0</td><td>0</td><td>1</td><td>0</td><td>0</td></tr><tr><td>2024-03-25 13:00:00 UTC</td><td>67079.99</td><td>68000.0</td><td>66843.61</td><td>67984.0</td><td>1.8639e8</td><td>574.34178</td><td>0.013477</td><td>67505.99</td><td>66810.15</td><td>1</td><td>0</td><td>1</td><td>1</td><td>0</td></tr><tr><td>2024-03-25 14:00:00 UTC</td><td>67984.01</td><td>69450.0</td><td>67838.0</td><td>69377.19</td><td>5.7420e8</td><td>697.37671</td><td>0.020493</td><td>67984.0</td><td>66810.15</td><td>0</td><td>0</td><td>1</td><td>0</td><td>0</td></tr><tr><td>2024-03-25 15:00:00 UTC</td><td>69377.2</td><td>70000.0</td><td>69136.88</td><td>69792.05</td><td>3.2340e8</td><td>360.9754</td><td>0.00598</td><td>69377.19</td><td>66810.15</td><td>0</td><td>0</td><td>1</td><td>0</td><td>0</td></tr><tr><td>2024-03-25 16:00:00 UTC</td><td>69792.06</td><td>70273.0</td><td>69440.18</td><td>70154.42</td><td>2.5817e8</td><td>346.42828</td><td>0.005192</td><td>69792.05</td><td>66810.15</td><td>0</td><td>0</td><td>1</td><td>0</td><td>0</td></tr><tr><td>2024-03-25 17:00:00 UTC</td><td>70154.41</td><td>70844.44</td><td>70133.18</td><td>70559.09</td><td>2.3003e8</td><td>132.43219</td><td>0.005768</td><td>70154.42</td><td>66810.15</td><td>0</td><td>0</td><td>1</td><td>0</td><td>0</td></tr><tr><td>2024-03-25 18:00:00 UTC</td><td>70559.08</td><td>70913.73</td><td>70364.8</td><td>70857.09</td><td>1.5397e8</td><td>43.42549</td><td>0.004223</td><td>70559.09</td><td>66810.15</td><td>0</td><td>0</td><td>1</td><td>0</td><td>0</td></tr><tr><td>2024-03-25 19:00:00 UTC</td><td>70857.1</td><td>71000.0</td><td>70516.87</td><td>70960.89</td><td>1.9770e8</td><td>102.20802</td><td>0.001465</td><td>70857.09</td><td>66810.15</td><td>0</td><td>0</td><td>1</td><td>0</td><td>0</td></tr><tr><td>2024-03-25 20:00:00 UTC</td><td>70960.89</td><td>71150.0</td><td>70684.84</td><td>70907.21</td><td>1.1657e8</td><td>127.05372</td><td>-0.000756</td><td>70960.89</td><td>66810.15</td><td>0</td><td>0</td><td>1</td><td>-1</td><td>0</td></tr><tr><td>2024-03-25 21:00:00 UTC</td><td>70907.21</td><td>70941.1</td><td>69562.09</td><td>69853.57</td><td>1.8090e8</td><td>-418.26244</td><td>-0.014859</td><td>70960.89</td><td>66810.15</td><td>0</td><td>0</td><td>1</td><td>0</td><td>0</td></tr><tr><td>2024-03-25 22:00:00 UTC</td><td>69853.58</td><td>70681.03</td><td>69850.0</td><td>70310.0</td><td>9.6759e7</td><td>137.01313</td><td>0.006534</td><td>70960.89</td><td>67079.99</td><td>0</td><td>0</td><td>1</td><td>0</td><td>0</td></tr><tr><td>2024-03-25 23:00:00 UTC</td><td>70309.99</td><td>70469.99</td><td>69725.51</td><td>69880.01</td><td>5.5378e7</td><td>-58.90734</td><td>-0.006116</td><td>70960.89</td><td>67984.0</td><td>0</td><td>0</td><td>1</td><td>0</td><td>0</td></tr><tr><td>2024-03-26 00:00:00 UTC</td><td>69880.0</td><td>70221.1</td><td>69742.08</td><td>69893.0</td><td>7.7336e7</td><td>-62.05095</td><td>0.000186</td><td>70960.89</td><td>69377.19</td><td>0</td><td>0</td><td>1</td><td>0</td><td>0</td></tr><tr><td>2024-03-26 01:00:00 UTC</td><td>69892.99</td><td>70323.79</td><td>69800.0</td><td>70284.19</td><td>7.0596e7</td><td>4.68376</td><td>0.005597</td><td>70960.89</td><td>69792.05</td><td>0</td><td>0</td><td>1</td><td>0</td><td>0</td></tr><tr><td>2024-03-26 02:00:00 UTC</td><td>70284.19</td><td>70549.54</td><td>70045.0</td><td>70530.0</td><td>7.7164e7</td><td>-75.832</td><td>0.003497</td><td>70960.89</td><td>69853.57</td><td>0</td><td>0</td><td>1</td><td>0</td><td>0</td></tr><tr><td>2024-03-26 03:00:00 UTC</td><td>70529.99</td><td>70606.0</td><td>70288.0</td><td>70423.11</td><td>6.4012e7</td><td>-62.9518</td><td>-0.001516</td><td>70960.89</td><td>69853.57</td><td>0</td><td>0</td><td>1</td><td>0</td><td>0</td></tr><tr><td>2024-03-26 04:00:00 UTC</td><td>70423.11</td><td>70665.83</td><td>70401.11</td><td>70600.83</td><td>5.2254e7</td><td>26.93711</td><td>0.002524</td><td>70960.89</td><td>69853.57</td><td>0</td><td>0</td><td>1</td><td>0</td><td>0</td></tr><tr><td>2024-03-26 05:00:00 UTC</td><td>70600.82</td><td>70609.17</td><td>70274.55</td><td>70300.0</td><td>5.8785e7</td><td>-184.14572</td><td>-0.004261</td><td>70960.89</td><td>69853.57</td><td>0</td><td>0</td><td>1</td><td>0</td><td>0</td></tr><tr><td>2024-03-26 06:00:00 UTC</td><td>70300.0</td><td>70616.64</td><td>70260.3</td><td>70616.01</td><td>6.5858e7</td><td>73.6267</td><td>0.004495</td><td>70907.21</td><td>69853.57</td><td>0</td><td>0</td><td>1</td><td>0</td><td>0</td></tr><tr><td>2024-03-26 07:00:00 UTC</td><td>70616.01</td><td>71561.1</td><td>70412.33</td><td>70486.38</td><td>2.5652e8</td><td>95.73072</td><td>-0.001836</td><td>70616.01</td><td>69853.57</td><td>0</td><td>0</td><td>1</td><td>0</td><td>0</td></tr><tr><td>2024-03-26 08:00:00 UTC</td><td>70486.38</td><td>70820.0</td><td>70268.66</td><td>70693.66</td><td>1.1766e8</td><td>-3.2879</td><td>0.002941</td><td>70616.01</td><td>69880.01</td><td>1</td><td>0</td><td>1</td><td>1</td><td>0</td></tr><tr><td>2024-03-26 09:00:00 UTC</td><td>70693.66</td><td>71280.0</td><td>70620.0</td><td>71142.23</td><td>1.0084e8</td><td>209.42945</td><td>0.006345</td><td>70693.66</td><td>69880.01</td><td>0</td><td>0</td><td>1</td><td>0</td><td>0</td></tr><tr><td>2024-03-26 10:00:00 UTC</td><td>71142.24</td><td>71194.99</td><td>71046.81</td><td>71046.81</td><td>1.2193e7</td><td>-28.16402</td><td>-0.001341</td><td>71142.23</td><td>69893.0</td><td>0</td><td>0</td><td>1</td><td>-1</td><td>0</td></tr></tbody></table></div>"
     },
     "execution_count": 42,
     "metadata": {},
     "output_type": "execute_result"
    }
   ],
   "source": [
    "df"
   ],
   "metadata": {
    "collapsed": false,
    "ExecuteTime": {
     "end_time": "2024-03-26T11:05:17.761132Z",
     "start_time": "2024-03-26T11:05:17.740297Z"
    }
   },
   "id": "3ce79b9bfd52608b",
   "execution_count": 42
  },
  {
   "cell_type": "code",
   "outputs": [
    {
     "data": {
      "application/vnd.plotly.v1+json": {
       "data": [
        {
         "hovertemplate": "variable=close<br>index=%{x}<br>value=%{y}<extra></extra>",
         "legendgroup": "close",
         "line": {
          "color": "#636efa",
          "dash": "solid"
         },
         "marker": {
          "symbol": "circle"
         },
         "mode": "lines",
         "name": "close",
         "orientation": "v",
         "showlegend": true,
         "x": [
          0,
          1,
          2,
          3,
          4,
          5,
          6,
          7,
          8,
          9,
          10,
          11,
          12,
          13,
          14,
          15,
          16,
          17,
          18,
          19,
          20,
          21,
          22,
          23,
          24,
          25,
          26,
          27,
          28,
          29,
          30,
          31,
          32,
          33,
          34,
          35,
          36,
          37,
          38,
          39,
          40,
          41,
          42,
          43,
          44,
          45,
          46,
          47,
          48,
          49,
          50,
          51,
          52,
          53,
          54,
          55,
          56,
          57,
          58,
          59,
          60,
          61,
          62,
          63,
          64,
          65,
          66,
          67,
          68,
          69,
          70,
          71,
          72,
          73,
          74,
          75,
          76,
          77,
          78,
          79,
          80,
          81,
          82,
          83,
          84,
          85,
          86,
          87,
          88,
          89,
          90,
          91,
          92,
          93,
          94,
          95,
          96,
          97,
          98,
          99
         ],
         "xaxis": "x",
         "y": [
          66178.01,
          65858.68,
          65481.99,
          64656.37,
          64233.9,
          64260.51,
          63058.61,
          62739.99,
          63877.04,
          63270.62,
          63579.37,
          63745.83,
          63866.93,
          63501.66,
          62974.0,
          63022.0,
          63796.64,
          63571.99,
          64111.63,
          63861.79,
          63556.0,
          63880.63,
          64075.12,
          64166.0,
          64575.41,
          64521.99,
          64470.0,
          64320.01,
          64629.62,
          64697.94,
          64596.06,
          65248.0,
          65104.05,
          65661.34,
          65652.7,
          65373.88,
          64872.9,
          65009.78,
          64944.69,
          64747.86,
          63990.01,
          64524.0,
          64470.0,
          64278.06,
          63962.98,
          64218.0,
          64304.57,
          64218.94,
          64583.43,
          65244.0,
          64880.02,
          65098.01,
          65334.01,
          65646.77,
          65357.71,
          65649.99,
          65673.36,
          65249.04,
          65345.99,
          65846.01,
          65843.02,
          66161.86,
          66530.01,
          66951.26,
          67209.99,
          66577.34,
          66556.0,
          66700.01,
          67350.0,
          67505.99,
          67350.0,
          67149.99,
          66821.19,
          66938.67,
          67055.96,
          66994.33,
          66810.15,
          67079.99,
          67984.0,
          69377.19,
          69792.05,
          70154.42,
          70559.09,
          70857.09,
          70960.89,
          70907.21,
          69853.57,
          70310.0,
          69880.01,
          69893.0,
          70284.19,
          70530.0,
          70423.11,
          70600.83,
          70300.0,
          70616.01,
          70486.38,
          70693.66,
          71142.23,
          71046.81
         ],
         "yaxis": "y",
         "type": "scatter"
        },
        {
         "hovertemplate": "variable=chan_hi<br>index=%{x}<br>value=%{y}<extra></extra>",
         "legendgroup": "chan_hi",
         "line": {
          "color": "#EF553B",
          "dash": "solid"
         },
         "marker": {
          "symbol": "circle"
         },
         "mode": "lines",
         "name": "chan_hi",
         "orientation": "v",
         "showlegend": true,
         "x": [
          0,
          1,
          2,
          3,
          4,
          5,
          6,
          7,
          8,
          9,
          10,
          11,
          12,
          13,
          14,
          15,
          16,
          17,
          18,
          19,
          20,
          21,
          22,
          23,
          24,
          25,
          26,
          27,
          28,
          29,
          30,
          31,
          32,
          33,
          34,
          35,
          36,
          37,
          38,
          39,
          40,
          41,
          42,
          43,
          44,
          45,
          46,
          47,
          48,
          49,
          50,
          51,
          52,
          53,
          54,
          55,
          56,
          57,
          58,
          59,
          60,
          61,
          62,
          63,
          64,
          65,
          66,
          67,
          68,
          69,
          70,
          71,
          72,
          73,
          74,
          75,
          76,
          77,
          78,
          79,
          80,
          81,
          82,
          83,
          84,
          85,
          86,
          87,
          88,
          89,
          90,
          91,
          92,
          93,
          94,
          95,
          96,
          97,
          98,
          99
         ],
         "xaxis": "x",
         "y": [
          66448.08,
          66448.08,
          66448.08,
          66448.08,
          66448.08,
          66448.08,
          66448.08,
          66448.08,
          66448.08,
          66448.08,
          66178.01,
          65858.68,
          65481.99,
          64656.37,
          64260.51,
          64260.51,
          63877.04,
          63877.04,
          63877.04,
          64111.63,
          64111.63,
          64111.63,
          64111.63,
          64111.63,
          64166.0,
          64575.41,
          64575.41,
          64575.41,
          64575.41,
          64629.62,
          64697.94,
          64697.94,
          65248.0,
          65248.0,
          65661.34,
          65661.34,
          65661.34,
          65661.34,
          65661.34,
          65661.34,
          65661.34,
          65661.34,
          65661.34,
          65661.34,
          65652.7,
          65373.88,
          65009.78,
          65009.78,
          64944.69,
          64747.86,
          65244.0,
          65244.0,
          65244.0,
          65334.01,
          65646.77,
          65646.77,
          65649.99,
          65673.36,
          65673.36,
          65673.36,
          65846.01,
          65846.01,
          66161.86,
          66530.01,
          66951.26,
          67209.99,
          67209.99,
          67209.99,
          67209.99,
          67350.0,
          67505.99,
          67505.99,
          67505.99,
          67505.99,
          67505.99,
          67505.99,
          67505.99,
          67505.99,
          67505.99,
          67984.0,
          69377.19,
          69792.05,
          70154.42,
          70559.09,
          70857.09,
          70960.89,
          70960.89,
          70960.89,
          70960.89,
          70960.89,
          70960.89,
          70960.89,
          70960.89,
          70960.89,
          70960.89,
          70907.21,
          70616.01,
          70616.01,
          70693.66,
          71142.23
         ],
         "yaxis": "y",
         "type": "scatter"
        },
        {
         "hovertemplate": "variable=chan_lo<br>index=%{x}<br>value=%{y}<extra></extra>",
         "legendgroup": "chan_lo",
         "line": {
          "color": "#00cc96",
          "dash": "solid"
         },
         "marker": {
          "symbol": "circle"
         },
         "mode": "lines",
         "name": "chan_lo",
         "orientation": "v",
         "showlegend": true,
         "x": [
          0,
          1,
          2,
          3,
          4,
          5,
          6,
          7,
          8,
          9,
          10,
          11,
          12,
          13,
          14,
          15,
          16,
          17,
          18,
          19,
          20,
          21,
          22,
          23,
          24,
          25,
          26,
          27,
          28,
          29,
          30,
          31,
          32,
          33,
          34,
          35,
          36,
          37,
          38,
          39,
          40,
          41,
          42,
          43,
          44,
          45,
          46,
          47,
          48,
          49,
          50,
          51,
          52,
          53,
          54,
          55,
          56,
          57,
          58,
          59,
          60,
          61,
          62,
          63,
          64,
          65,
          66,
          67,
          68,
          69,
          70,
          71,
          72,
          73,
          74,
          75,
          76,
          77,
          78,
          79,
          80,
          81,
          82,
          83,
          84,
          85,
          86,
          87,
          88,
          89,
          90,
          91,
          92,
          93,
          94,
          95,
          96,
          97,
          98,
          99
         ],
         "xaxis": "x",
         "y": [
          65243.99,
          65243.99,
          65243.99,
          65243.99,
          64656.37,
          64233.9,
          64233.9,
          63058.61,
          62739.99,
          62739.99,
          62739.99,
          62739.99,
          62739.99,
          62739.99,
          62739.99,
          62739.99,
          62739.99,
          62739.99,
          62974.0,
          62974.0,
          62974.0,
          62974.0,
          62974.0,
          62974.0,
          62974.0,
          63022.0,
          63556.0,
          63556.0,
          63556.0,
          63556.0,
          63556.0,
          63880.63,
          64075.12,
          64166.0,
          64320.01,
          64320.01,
          64320.01,
          64320.01,
          64596.06,
          64596.06,
          64596.06,
          63990.01,
          63990.01,
          63990.01,
          63990.01,
          63962.98,
          63962.98,
          63962.98,
          63962.98,
          63962.98,
          63962.98,
          63962.98,
          63962.98,
          63962.98,
          63962.98,
          64218.0,
          64218.94,
          64218.94,
          64583.43,
          64880.02,
          64880.02,
          65098.01,
          65249.04,
          65249.04,
          65249.04,
          65249.04,
          65249.04,
          65249.04,
          65345.99,
          65843.02,
          65843.02,
          66161.86,
          66530.01,
          66556.0,
          66556.0,
          66556.0,
          66556.0,
          66700.01,
          66810.15,
          66810.15,
          66810.15,
          66810.15,
          66810.15,
          66810.15,
          66810.15,
          66810.15,
          66810.15,
          67079.99,
          67984.0,
          69377.19,
          69792.05,
          69853.57,
          69853.57,
          69853.57,
          69853.57,
          69853.57,
          69853.57,
          69880.01,
          69880.01,
          69893.0
         ],
         "yaxis": "y",
         "type": "scatter"
        }
       ],
       "layout": {
        "template": {
         "data": {
          "histogram2dcontour": [
           {
            "type": "histogram2dcontour",
            "colorbar": {
             "outlinewidth": 0,
             "ticks": ""
            },
            "colorscale": [
             [
              0.0,
              "#0d0887"
             ],
             [
              0.1111111111111111,
              "#46039f"
             ],
             [
              0.2222222222222222,
              "#7201a8"
             ],
             [
              0.3333333333333333,
              "#9c179e"
             ],
             [
              0.4444444444444444,
              "#bd3786"
             ],
             [
              0.5555555555555556,
              "#d8576b"
             ],
             [
              0.6666666666666666,
              "#ed7953"
             ],
             [
              0.7777777777777778,
              "#fb9f3a"
             ],
             [
              0.8888888888888888,
              "#fdca26"
             ],
             [
              1.0,
              "#f0f921"
             ]
            ]
           }
          ],
          "choropleth": [
           {
            "type": "choropleth",
            "colorbar": {
             "outlinewidth": 0,
             "ticks": ""
            }
           }
          ],
          "histogram2d": [
           {
            "type": "histogram2d",
            "colorbar": {
             "outlinewidth": 0,
             "ticks": ""
            },
            "colorscale": [
             [
              0.0,
              "#0d0887"
             ],
             [
              0.1111111111111111,
              "#46039f"
             ],
             [
              0.2222222222222222,
              "#7201a8"
             ],
             [
              0.3333333333333333,
              "#9c179e"
             ],
             [
              0.4444444444444444,
              "#bd3786"
             ],
             [
              0.5555555555555556,
              "#d8576b"
             ],
             [
              0.6666666666666666,
              "#ed7953"
             ],
             [
              0.7777777777777778,
              "#fb9f3a"
             ],
             [
              0.8888888888888888,
              "#fdca26"
             ],
             [
              1.0,
              "#f0f921"
             ]
            ]
           }
          ],
          "heatmap": [
           {
            "type": "heatmap",
            "colorbar": {
             "outlinewidth": 0,
             "ticks": ""
            },
            "colorscale": [
             [
              0.0,
              "#0d0887"
             ],
             [
              0.1111111111111111,
              "#46039f"
             ],
             [
              0.2222222222222222,
              "#7201a8"
             ],
             [
              0.3333333333333333,
              "#9c179e"
             ],
             [
              0.4444444444444444,
              "#bd3786"
             ],
             [
              0.5555555555555556,
              "#d8576b"
             ],
             [
              0.6666666666666666,
              "#ed7953"
             ],
             [
              0.7777777777777778,
              "#fb9f3a"
             ],
             [
              0.8888888888888888,
              "#fdca26"
             ],
             [
              1.0,
              "#f0f921"
             ]
            ]
           }
          ],
          "heatmapgl": [
           {
            "type": "heatmapgl",
            "colorbar": {
             "outlinewidth": 0,
             "ticks": ""
            },
            "colorscale": [
             [
              0.0,
              "#0d0887"
             ],
             [
              0.1111111111111111,
              "#46039f"
             ],
             [
              0.2222222222222222,
              "#7201a8"
             ],
             [
              0.3333333333333333,
              "#9c179e"
             ],
             [
              0.4444444444444444,
              "#bd3786"
             ],
             [
              0.5555555555555556,
              "#d8576b"
             ],
             [
              0.6666666666666666,
              "#ed7953"
             ],
             [
              0.7777777777777778,
              "#fb9f3a"
             ],
             [
              0.8888888888888888,
              "#fdca26"
             ],
             [
              1.0,
              "#f0f921"
             ]
            ]
           }
          ],
          "contourcarpet": [
           {
            "type": "contourcarpet",
            "colorbar": {
             "outlinewidth": 0,
             "ticks": ""
            }
           }
          ],
          "contour": [
           {
            "type": "contour",
            "colorbar": {
             "outlinewidth": 0,
             "ticks": ""
            },
            "colorscale": [
             [
              0.0,
              "#0d0887"
             ],
             [
              0.1111111111111111,
              "#46039f"
             ],
             [
              0.2222222222222222,
              "#7201a8"
             ],
             [
              0.3333333333333333,
              "#9c179e"
             ],
             [
              0.4444444444444444,
              "#bd3786"
             ],
             [
              0.5555555555555556,
              "#d8576b"
             ],
             [
              0.6666666666666666,
              "#ed7953"
             ],
             [
              0.7777777777777778,
              "#fb9f3a"
             ],
             [
              0.8888888888888888,
              "#fdca26"
             ],
             [
              1.0,
              "#f0f921"
             ]
            ]
           }
          ],
          "surface": [
           {
            "type": "surface",
            "colorbar": {
             "outlinewidth": 0,
             "ticks": ""
            },
            "colorscale": [
             [
              0.0,
              "#0d0887"
             ],
             [
              0.1111111111111111,
              "#46039f"
             ],
             [
              0.2222222222222222,
              "#7201a8"
             ],
             [
              0.3333333333333333,
              "#9c179e"
             ],
             [
              0.4444444444444444,
              "#bd3786"
             ],
             [
              0.5555555555555556,
              "#d8576b"
             ],
             [
              0.6666666666666666,
              "#ed7953"
             ],
             [
              0.7777777777777778,
              "#fb9f3a"
             ],
             [
              0.8888888888888888,
              "#fdca26"
             ],
             [
              1.0,
              "#f0f921"
             ]
            ]
           }
          ],
          "mesh3d": [
           {
            "type": "mesh3d",
            "colorbar": {
             "outlinewidth": 0,
             "ticks": ""
            }
           }
          ],
          "scatter": [
           {
            "marker": {
             "line": {
              "color": "#283442"
             }
            },
            "type": "scatter"
           }
          ],
          "parcoords": [
           {
            "type": "parcoords",
            "line": {
             "colorbar": {
              "outlinewidth": 0,
              "ticks": ""
             }
            }
           }
          ],
          "scatterpolargl": [
           {
            "type": "scatterpolargl",
            "marker": {
             "colorbar": {
              "outlinewidth": 0,
              "ticks": ""
             }
            }
           }
          ],
          "bar": [
           {
            "error_x": {
             "color": "#f2f5fa"
            },
            "error_y": {
             "color": "#f2f5fa"
            },
            "marker": {
             "line": {
              "color": "rgb(17,17,17)",
              "width": 0.5
             },
             "pattern": {
              "fillmode": "overlay",
              "size": 10,
              "solidity": 0.2
             }
            },
            "type": "bar"
           }
          ],
          "scattergeo": [
           {
            "type": "scattergeo",
            "marker": {
             "colorbar": {
              "outlinewidth": 0,
              "ticks": ""
             }
            }
           }
          ],
          "scatterpolar": [
           {
            "type": "scatterpolar",
            "marker": {
             "colorbar": {
              "outlinewidth": 0,
              "ticks": ""
             }
            }
           }
          ],
          "histogram": [
           {
            "marker": {
             "pattern": {
              "fillmode": "overlay",
              "size": 10,
              "solidity": 0.2
             }
            },
            "type": "histogram"
           }
          ],
          "scattergl": [
           {
            "marker": {
             "line": {
              "color": "#283442"
             }
            },
            "type": "scattergl"
           }
          ],
          "scatter3d": [
           {
            "type": "scatter3d",
            "line": {
             "colorbar": {
              "outlinewidth": 0,
              "ticks": ""
             }
            },
            "marker": {
             "colorbar": {
              "outlinewidth": 0,
              "ticks": ""
             }
            }
           }
          ],
          "scattermapbox": [
           {
            "type": "scattermapbox",
            "marker": {
             "colorbar": {
              "outlinewidth": 0,
              "ticks": ""
             }
            }
           }
          ],
          "scatterternary": [
           {
            "type": "scatterternary",
            "marker": {
             "colorbar": {
              "outlinewidth": 0,
              "ticks": ""
             }
            }
           }
          ],
          "scattercarpet": [
           {
            "type": "scattercarpet",
            "marker": {
             "colorbar": {
              "outlinewidth": 0,
              "ticks": ""
             }
            }
           }
          ],
          "carpet": [
           {
            "aaxis": {
             "endlinecolor": "#A2B1C6",
             "gridcolor": "#506784",
             "linecolor": "#506784",
             "minorgridcolor": "#506784",
             "startlinecolor": "#A2B1C6"
            },
            "baxis": {
             "endlinecolor": "#A2B1C6",
             "gridcolor": "#506784",
             "linecolor": "#506784",
             "minorgridcolor": "#506784",
             "startlinecolor": "#A2B1C6"
            },
            "type": "carpet"
           }
          ],
          "table": [
           {
            "cells": {
             "fill": {
              "color": "#506784"
             },
             "line": {
              "color": "rgb(17,17,17)"
             }
            },
            "header": {
             "fill": {
              "color": "#2a3f5f"
             },
             "line": {
              "color": "rgb(17,17,17)"
             }
            },
            "type": "table"
           }
          ],
          "barpolar": [
           {
            "marker": {
             "line": {
              "color": "rgb(17,17,17)",
              "width": 0.5
             },
             "pattern": {
              "fillmode": "overlay",
              "size": 10,
              "solidity": 0.2
             }
            },
            "type": "barpolar"
           }
          ],
          "pie": [
           {
            "automargin": true,
            "type": "pie"
           }
          ]
         },
         "layout": {
          "autotypenumbers": "strict",
          "colorway": [
           "#636efa",
           "#EF553B",
           "#00cc96",
           "#ab63fa",
           "#FFA15A",
           "#19d3f3",
           "#FF6692",
           "#B6E880",
           "#FF97FF",
           "#FECB52"
          ],
          "font": {
           "color": "#f2f5fa"
          },
          "hovermode": "closest",
          "hoverlabel": {
           "align": "left"
          },
          "paper_bgcolor": "rgb(17,17,17)",
          "plot_bgcolor": "rgb(17,17,17)",
          "polar": {
           "bgcolor": "rgb(17,17,17)",
           "angularaxis": {
            "gridcolor": "#506784",
            "linecolor": "#506784",
            "ticks": ""
           },
           "radialaxis": {
            "gridcolor": "#506784",
            "linecolor": "#506784",
            "ticks": ""
           }
          },
          "ternary": {
           "bgcolor": "rgb(17,17,17)",
           "aaxis": {
            "gridcolor": "#506784",
            "linecolor": "#506784",
            "ticks": ""
           },
           "baxis": {
            "gridcolor": "#506784",
            "linecolor": "#506784",
            "ticks": ""
           },
           "caxis": {
            "gridcolor": "#506784",
            "linecolor": "#506784",
            "ticks": ""
           }
          },
          "coloraxis": {
           "colorbar": {
            "outlinewidth": 0,
            "ticks": ""
           }
          },
          "colorscale": {
           "sequential": [
            [
             0.0,
             "#0d0887"
            ],
            [
             0.1111111111111111,
             "#46039f"
            ],
            [
             0.2222222222222222,
             "#7201a8"
            ],
            [
             0.3333333333333333,
             "#9c179e"
            ],
            [
             0.4444444444444444,
             "#bd3786"
            ],
            [
             0.5555555555555556,
             "#d8576b"
            ],
            [
             0.6666666666666666,
             "#ed7953"
            ],
            [
             0.7777777777777778,
             "#fb9f3a"
            ],
            [
             0.8888888888888888,
             "#fdca26"
            ],
            [
             1.0,
             "#f0f921"
            ]
           ],
           "sequentialminus": [
            [
             0.0,
             "#0d0887"
            ],
            [
             0.1111111111111111,
             "#46039f"
            ],
            [
             0.2222222222222222,
             "#7201a8"
            ],
            [
             0.3333333333333333,
             "#9c179e"
            ],
            [
             0.4444444444444444,
             "#bd3786"
            ],
            [
             0.5555555555555556,
             "#d8576b"
            ],
            [
             0.6666666666666666,
             "#ed7953"
            ],
            [
             0.7777777777777778,
             "#fb9f3a"
            ],
            [
             0.8888888888888888,
             "#fdca26"
            ],
            [
             1.0,
             "#f0f921"
            ]
           ],
           "diverging": [
            [
             0,
             "#8e0152"
            ],
            [
             0.1,
             "#c51b7d"
            ],
            [
             0.2,
             "#de77ae"
            ],
            [
             0.3,
             "#f1b6da"
            ],
            [
             0.4,
             "#fde0ef"
            ],
            [
             0.5,
             "#f7f7f7"
            ],
            [
             0.6,
             "#e6f5d0"
            ],
            [
             0.7,
             "#b8e186"
            ],
            [
             0.8,
             "#7fbc41"
            ],
            [
             0.9,
             "#4d9221"
            ],
            [
             1,
             "#276419"
            ]
           ]
          },
          "xaxis": {
           "gridcolor": "#283442",
           "linecolor": "#506784",
           "ticks": "",
           "title": {
            "standoff": 15
           },
           "zerolinecolor": "#283442",
           "automargin": true,
           "zerolinewidth": 2
          },
          "yaxis": {
           "gridcolor": "#283442",
           "linecolor": "#506784",
           "ticks": "",
           "title": {
            "standoff": 15
           },
           "zerolinecolor": "#283442",
           "automargin": true,
           "zerolinewidth": 2
          },
          "scene": {
           "xaxis": {
            "backgroundcolor": "rgb(17,17,17)",
            "gridcolor": "#506784",
            "linecolor": "#506784",
            "showbackground": true,
            "ticks": "",
            "zerolinecolor": "#C8D4E3",
            "gridwidth": 2
           },
           "yaxis": {
            "backgroundcolor": "rgb(17,17,17)",
            "gridcolor": "#506784",
            "linecolor": "#506784",
            "showbackground": true,
            "ticks": "",
            "zerolinecolor": "#C8D4E3",
            "gridwidth": 2
           },
           "zaxis": {
            "backgroundcolor": "rgb(17,17,17)",
            "gridcolor": "#506784",
            "linecolor": "#506784",
            "showbackground": true,
            "ticks": "",
            "zerolinecolor": "#C8D4E3",
            "gridwidth": 2
           }
          },
          "shapedefaults": {
           "line": {
            "color": "#f2f5fa"
           }
          },
          "annotationdefaults": {
           "arrowcolor": "#f2f5fa",
           "arrowhead": 0,
           "arrowwidth": 1
          },
          "geo": {
           "bgcolor": "rgb(17,17,17)",
           "landcolor": "rgb(17,17,17)",
           "subunitcolor": "#506784",
           "showland": true,
           "showlakes": true,
           "lakecolor": "rgb(17,17,17)"
          },
          "title": {
           "x": 0.05
          },
          "updatemenudefaults": {
           "bgcolor": "#506784",
           "borderwidth": 0
          },
          "sliderdefaults": {
           "bgcolor": "#C8D4E3",
           "borderwidth": 1,
           "bordercolor": "rgb(17,17,17)",
           "tickwidth": 0
          },
          "mapbox": {
           "style": "dark"
          }
         }
        },
        "xaxis": {
         "anchor": "y",
         "domain": [
          0.0,
          1.0
         ],
         "title": {
          "text": "index"
         }
        },
        "yaxis": {
         "anchor": "x",
         "domain": [
          0.0,
          1.0
         ],
         "title": {
          "text": "value"
         }
        },
        "legend": {
         "title": {
          "text": "variable"
         },
         "tracegroupgap": 0
        },
        "margin": {
         "t": 60
        }
       },
       "config": {
        "plotlyServerURL": "https://plot.ly"
       }
      },
      "text/html": "<div>                            <div id=\"073daa2a-41ae-41cf-9027-e4116cc75614\" class=\"plotly-graph-div\" style=\"height:525px; width:100%;\"></div>            <script type=\"text/javascript\">                require([\"plotly\"], function(Plotly) {                    window.PLOTLYENV=window.PLOTLYENV || {};                                    if (document.getElementById(\"073daa2a-41ae-41cf-9027-e4116cc75614\")) {                    Plotly.newPlot(                        \"073daa2a-41ae-41cf-9027-e4116cc75614\",                        [{\"hovertemplate\":\"variable=close\\u003cbr\\u003eindex=%{x}\\u003cbr\\u003evalue=%{y}\\u003cextra\\u003e\\u003c\\u002fextra\\u003e\",\"legendgroup\":\"close\",\"line\":{\"color\":\"#636efa\",\"dash\":\"solid\"},\"marker\":{\"symbol\":\"circle\"},\"mode\":\"lines\",\"name\":\"close\",\"orientation\":\"v\",\"showlegend\":true,\"x\":[0,1,2,3,4,5,6,7,8,9,10,11,12,13,14,15,16,17,18,19,20,21,22,23,24,25,26,27,28,29,30,31,32,33,34,35,36,37,38,39,40,41,42,43,44,45,46,47,48,49,50,51,52,53,54,55,56,57,58,59,60,61,62,63,64,65,66,67,68,69,70,71,72,73,74,75,76,77,78,79,80,81,82,83,84,85,86,87,88,89,90,91,92,93,94,95,96,97,98,99],\"xaxis\":\"x\",\"y\":[66178.01,65858.68,65481.99,64656.37,64233.9,64260.51,63058.61,62739.99,63877.04,63270.62,63579.37,63745.83,63866.93,63501.66,62974.0,63022.0,63796.64,63571.99,64111.63,63861.79,63556.0,63880.63,64075.12,64166.0,64575.41,64521.99,64470.0,64320.01,64629.62,64697.94,64596.06,65248.0,65104.05,65661.34,65652.7,65373.88,64872.9,65009.78,64944.69,64747.86,63990.01,64524.0,64470.0,64278.06,63962.98,64218.0,64304.57,64218.94,64583.43,65244.0,64880.02,65098.01,65334.01,65646.77,65357.71,65649.99,65673.36,65249.04,65345.99,65846.01,65843.02,66161.86,66530.01,66951.26,67209.99,66577.34,66556.0,66700.01,67350.0,67505.99,67350.0,67149.99,66821.19,66938.67,67055.96,66994.33,66810.15,67079.99,67984.0,69377.19,69792.05,70154.42,70559.09,70857.09,70960.89,70907.21,69853.57,70310.0,69880.01,69893.0,70284.19,70530.0,70423.11,70600.83,70300.0,70616.01,70486.38,70693.66,71142.23,71046.81],\"yaxis\":\"y\",\"type\":\"scatter\"},{\"hovertemplate\":\"variable=chan_hi\\u003cbr\\u003eindex=%{x}\\u003cbr\\u003evalue=%{y}\\u003cextra\\u003e\\u003c\\u002fextra\\u003e\",\"legendgroup\":\"chan_hi\",\"line\":{\"color\":\"#EF553B\",\"dash\":\"solid\"},\"marker\":{\"symbol\":\"circle\"},\"mode\":\"lines\",\"name\":\"chan_hi\",\"orientation\":\"v\",\"showlegend\":true,\"x\":[0,1,2,3,4,5,6,7,8,9,10,11,12,13,14,15,16,17,18,19,20,21,22,23,24,25,26,27,28,29,30,31,32,33,34,35,36,37,38,39,40,41,42,43,44,45,46,47,48,49,50,51,52,53,54,55,56,57,58,59,60,61,62,63,64,65,66,67,68,69,70,71,72,73,74,75,76,77,78,79,80,81,82,83,84,85,86,87,88,89,90,91,92,93,94,95,96,97,98,99],\"xaxis\":\"x\",\"y\":[66448.08,66448.08,66448.08,66448.08,66448.08,66448.08,66448.08,66448.08,66448.08,66448.08,66178.01,65858.68,65481.99,64656.37,64260.51,64260.51,63877.04,63877.04,63877.04,64111.63,64111.63,64111.63,64111.63,64111.63,64166.0,64575.41,64575.41,64575.41,64575.41,64629.62,64697.94,64697.94,65248.0,65248.0,65661.34,65661.34,65661.34,65661.34,65661.34,65661.34,65661.34,65661.34,65661.34,65661.34,65652.7,65373.88,65009.78,65009.78,64944.69,64747.86,65244.0,65244.0,65244.0,65334.01,65646.77,65646.77,65649.99,65673.36,65673.36,65673.36,65846.01,65846.01,66161.86,66530.01,66951.26,67209.99,67209.99,67209.99,67209.99,67350.0,67505.99,67505.99,67505.99,67505.99,67505.99,67505.99,67505.99,67505.99,67505.99,67984.0,69377.19,69792.05,70154.42,70559.09,70857.09,70960.89,70960.89,70960.89,70960.89,70960.89,70960.89,70960.89,70960.89,70960.89,70960.89,70907.21,70616.01,70616.01,70693.66,71142.23],\"yaxis\":\"y\",\"type\":\"scatter\"},{\"hovertemplate\":\"variable=chan_lo\\u003cbr\\u003eindex=%{x}\\u003cbr\\u003evalue=%{y}\\u003cextra\\u003e\\u003c\\u002fextra\\u003e\",\"legendgroup\":\"chan_lo\",\"line\":{\"color\":\"#00cc96\",\"dash\":\"solid\"},\"marker\":{\"symbol\":\"circle\"},\"mode\":\"lines\",\"name\":\"chan_lo\",\"orientation\":\"v\",\"showlegend\":true,\"x\":[0,1,2,3,4,5,6,7,8,9,10,11,12,13,14,15,16,17,18,19,20,21,22,23,24,25,26,27,28,29,30,31,32,33,34,35,36,37,38,39,40,41,42,43,44,45,46,47,48,49,50,51,52,53,54,55,56,57,58,59,60,61,62,63,64,65,66,67,68,69,70,71,72,73,74,75,76,77,78,79,80,81,82,83,84,85,86,87,88,89,90,91,92,93,94,95,96,97,98,99],\"xaxis\":\"x\",\"y\":[65243.99,65243.99,65243.99,65243.99,64656.37,64233.9,64233.9,63058.61,62739.99,62739.99,62739.99,62739.99,62739.99,62739.99,62739.99,62739.99,62739.99,62739.99,62974.0,62974.0,62974.0,62974.0,62974.0,62974.0,62974.0,63022.0,63556.0,63556.0,63556.0,63556.0,63556.0,63880.63,64075.12,64166.0,64320.01,64320.01,64320.01,64320.01,64596.06,64596.06,64596.06,63990.01,63990.01,63990.01,63990.01,63962.98,63962.98,63962.98,63962.98,63962.98,63962.98,63962.98,63962.98,63962.98,63962.98,64218.0,64218.94,64218.94,64583.43,64880.02,64880.02,65098.01,65249.04,65249.04,65249.04,65249.04,65249.04,65249.04,65345.99,65843.02,65843.02,66161.86,66530.01,66556.0,66556.0,66556.0,66556.0,66700.01,66810.15,66810.15,66810.15,66810.15,66810.15,66810.15,66810.15,66810.15,66810.15,67079.99,67984.0,69377.19,69792.05,69853.57,69853.57,69853.57,69853.57,69853.57,69853.57,69880.01,69880.01,69893.0],\"yaxis\":\"y\",\"type\":\"scatter\"}],                        {\"template\":{\"data\":{\"histogram2dcontour\":[{\"type\":\"histogram2dcontour\",\"colorbar\":{\"outlinewidth\":0,\"ticks\":\"\"},\"colorscale\":[[0.0,\"#0d0887\"],[0.1111111111111111,\"#46039f\"],[0.2222222222222222,\"#7201a8\"],[0.3333333333333333,\"#9c179e\"],[0.4444444444444444,\"#bd3786\"],[0.5555555555555556,\"#d8576b\"],[0.6666666666666666,\"#ed7953\"],[0.7777777777777778,\"#fb9f3a\"],[0.8888888888888888,\"#fdca26\"],[1.0,\"#f0f921\"]]}],\"choropleth\":[{\"type\":\"choropleth\",\"colorbar\":{\"outlinewidth\":0,\"ticks\":\"\"}}],\"histogram2d\":[{\"type\":\"histogram2d\",\"colorbar\":{\"outlinewidth\":0,\"ticks\":\"\"},\"colorscale\":[[0.0,\"#0d0887\"],[0.1111111111111111,\"#46039f\"],[0.2222222222222222,\"#7201a8\"],[0.3333333333333333,\"#9c179e\"],[0.4444444444444444,\"#bd3786\"],[0.5555555555555556,\"#d8576b\"],[0.6666666666666666,\"#ed7953\"],[0.7777777777777778,\"#fb9f3a\"],[0.8888888888888888,\"#fdca26\"],[1.0,\"#f0f921\"]]}],\"heatmap\":[{\"type\":\"heatmap\",\"colorbar\":{\"outlinewidth\":0,\"ticks\":\"\"},\"colorscale\":[[0.0,\"#0d0887\"],[0.1111111111111111,\"#46039f\"],[0.2222222222222222,\"#7201a8\"],[0.3333333333333333,\"#9c179e\"],[0.4444444444444444,\"#bd3786\"],[0.5555555555555556,\"#d8576b\"],[0.6666666666666666,\"#ed7953\"],[0.7777777777777778,\"#fb9f3a\"],[0.8888888888888888,\"#fdca26\"],[1.0,\"#f0f921\"]]}],\"heatmapgl\":[{\"type\":\"heatmapgl\",\"colorbar\":{\"outlinewidth\":0,\"ticks\":\"\"},\"colorscale\":[[0.0,\"#0d0887\"],[0.1111111111111111,\"#46039f\"],[0.2222222222222222,\"#7201a8\"],[0.3333333333333333,\"#9c179e\"],[0.4444444444444444,\"#bd3786\"],[0.5555555555555556,\"#d8576b\"],[0.6666666666666666,\"#ed7953\"],[0.7777777777777778,\"#fb9f3a\"],[0.8888888888888888,\"#fdca26\"],[1.0,\"#f0f921\"]]}],\"contourcarpet\":[{\"type\":\"contourcarpet\",\"colorbar\":{\"outlinewidth\":0,\"ticks\":\"\"}}],\"contour\":[{\"type\":\"contour\",\"colorbar\":{\"outlinewidth\":0,\"ticks\":\"\"},\"colorscale\":[[0.0,\"#0d0887\"],[0.1111111111111111,\"#46039f\"],[0.2222222222222222,\"#7201a8\"],[0.3333333333333333,\"#9c179e\"],[0.4444444444444444,\"#bd3786\"],[0.5555555555555556,\"#d8576b\"],[0.6666666666666666,\"#ed7953\"],[0.7777777777777778,\"#fb9f3a\"],[0.8888888888888888,\"#fdca26\"],[1.0,\"#f0f921\"]]}],\"surface\":[{\"type\":\"surface\",\"colorbar\":{\"outlinewidth\":0,\"ticks\":\"\"},\"colorscale\":[[0.0,\"#0d0887\"],[0.1111111111111111,\"#46039f\"],[0.2222222222222222,\"#7201a8\"],[0.3333333333333333,\"#9c179e\"],[0.4444444444444444,\"#bd3786\"],[0.5555555555555556,\"#d8576b\"],[0.6666666666666666,\"#ed7953\"],[0.7777777777777778,\"#fb9f3a\"],[0.8888888888888888,\"#fdca26\"],[1.0,\"#f0f921\"]]}],\"mesh3d\":[{\"type\":\"mesh3d\",\"colorbar\":{\"outlinewidth\":0,\"ticks\":\"\"}}],\"scatter\":[{\"marker\":{\"line\":{\"color\":\"#283442\"}},\"type\":\"scatter\"}],\"parcoords\":[{\"type\":\"parcoords\",\"line\":{\"colorbar\":{\"outlinewidth\":0,\"ticks\":\"\"}}}],\"scatterpolargl\":[{\"type\":\"scatterpolargl\",\"marker\":{\"colorbar\":{\"outlinewidth\":0,\"ticks\":\"\"}}}],\"bar\":[{\"error_x\":{\"color\":\"#f2f5fa\"},\"error_y\":{\"color\":\"#f2f5fa\"},\"marker\":{\"line\":{\"color\":\"rgb(17,17,17)\",\"width\":0.5},\"pattern\":{\"fillmode\":\"overlay\",\"size\":10,\"solidity\":0.2}},\"type\":\"bar\"}],\"scattergeo\":[{\"type\":\"scattergeo\",\"marker\":{\"colorbar\":{\"outlinewidth\":0,\"ticks\":\"\"}}}],\"scatterpolar\":[{\"type\":\"scatterpolar\",\"marker\":{\"colorbar\":{\"outlinewidth\":0,\"ticks\":\"\"}}}],\"histogram\":[{\"marker\":{\"pattern\":{\"fillmode\":\"overlay\",\"size\":10,\"solidity\":0.2}},\"type\":\"histogram\"}],\"scattergl\":[{\"marker\":{\"line\":{\"color\":\"#283442\"}},\"type\":\"scattergl\"}],\"scatter3d\":[{\"type\":\"scatter3d\",\"line\":{\"colorbar\":{\"outlinewidth\":0,\"ticks\":\"\"}},\"marker\":{\"colorbar\":{\"outlinewidth\":0,\"ticks\":\"\"}}}],\"scattermapbox\":[{\"type\":\"scattermapbox\",\"marker\":{\"colorbar\":{\"outlinewidth\":0,\"ticks\":\"\"}}}],\"scatterternary\":[{\"type\":\"scatterternary\",\"marker\":{\"colorbar\":{\"outlinewidth\":0,\"ticks\":\"\"}}}],\"scattercarpet\":[{\"type\":\"scattercarpet\",\"marker\":{\"colorbar\":{\"outlinewidth\":0,\"ticks\":\"\"}}}],\"carpet\":[{\"aaxis\":{\"endlinecolor\":\"#A2B1C6\",\"gridcolor\":\"#506784\",\"linecolor\":\"#506784\",\"minorgridcolor\":\"#506784\",\"startlinecolor\":\"#A2B1C6\"},\"baxis\":{\"endlinecolor\":\"#A2B1C6\",\"gridcolor\":\"#506784\",\"linecolor\":\"#506784\",\"minorgridcolor\":\"#506784\",\"startlinecolor\":\"#A2B1C6\"},\"type\":\"carpet\"}],\"table\":[{\"cells\":{\"fill\":{\"color\":\"#506784\"},\"line\":{\"color\":\"rgb(17,17,17)\"}},\"header\":{\"fill\":{\"color\":\"#2a3f5f\"},\"line\":{\"color\":\"rgb(17,17,17)\"}},\"type\":\"table\"}],\"barpolar\":[{\"marker\":{\"line\":{\"color\":\"rgb(17,17,17)\",\"width\":0.5},\"pattern\":{\"fillmode\":\"overlay\",\"size\":10,\"solidity\":0.2}},\"type\":\"barpolar\"}],\"pie\":[{\"automargin\":true,\"type\":\"pie\"}]},\"layout\":{\"autotypenumbers\":\"strict\",\"colorway\":[\"#636efa\",\"#EF553B\",\"#00cc96\",\"#ab63fa\",\"#FFA15A\",\"#19d3f3\",\"#FF6692\",\"#B6E880\",\"#FF97FF\",\"#FECB52\"],\"font\":{\"color\":\"#f2f5fa\"},\"hovermode\":\"closest\",\"hoverlabel\":{\"align\":\"left\"},\"paper_bgcolor\":\"rgb(17,17,17)\",\"plot_bgcolor\":\"rgb(17,17,17)\",\"polar\":{\"bgcolor\":\"rgb(17,17,17)\",\"angularaxis\":{\"gridcolor\":\"#506784\",\"linecolor\":\"#506784\",\"ticks\":\"\"},\"radialaxis\":{\"gridcolor\":\"#506784\",\"linecolor\":\"#506784\",\"ticks\":\"\"}},\"ternary\":{\"bgcolor\":\"rgb(17,17,17)\",\"aaxis\":{\"gridcolor\":\"#506784\",\"linecolor\":\"#506784\",\"ticks\":\"\"},\"baxis\":{\"gridcolor\":\"#506784\",\"linecolor\":\"#506784\",\"ticks\":\"\"},\"caxis\":{\"gridcolor\":\"#506784\",\"linecolor\":\"#506784\",\"ticks\":\"\"}},\"coloraxis\":{\"colorbar\":{\"outlinewidth\":0,\"ticks\":\"\"}},\"colorscale\":{\"sequential\":[[0.0,\"#0d0887\"],[0.1111111111111111,\"#46039f\"],[0.2222222222222222,\"#7201a8\"],[0.3333333333333333,\"#9c179e\"],[0.4444444444444444,\"#bd3786\"],[0.5555555555555556,\"#d8576b\"],[0.6666666666666666,\"#ed7953\"],[0.7777777777777778,\"#fb9f3a\"],[0.8888888888888888,\"#fdca26\"],[1.0,\"#f0f921\"]],\"sequentialminus\":[[0.0,\"#0d0887\"],[0.1111111111111111,\"#46039f\"],[0.2222222222222222,\"#7201a8\"],[0.3333333333333333,\"#9c179e\"],[0.4444444444444444,\"#bd3786\"],[0.5555555555555556,\"#d8576b\"],[0.6666666666666666,\"#ed7953\"],[0.7777777777777778,\"#fb9f3a\"],[0.8888888888888888,\"#fdca26\"],[1.0,\"#f0f921\"]],\"diverging\":[[0,\"#8e0152\"],[0.1,\"#c51b7d\"],[0.2,\"#de77ae\"],[0.3,\"#f1b6da\"],[0.4,\"#fde0ef\"],[0.5,\"#f7f7f7\"],[0.6,\"#e6f5d0\"],[0.7,\"#b8e186\"],[0.8,\"#7fbc41\"],[0.9,\"#4d9221\"],[1,\"#276419\"]]},\"xaxis\":{\"gridcolor\":\"#283442\",\"linecolor\":\"#506784\",\"ticks\":\"\",\"title\":{\"standoff\":15},\"zerolinecolor\":\"#283442\",\"automargin\":true,\"zerolinewidth\":2},\"yaxis\":{\"gridcolor\":\"#283442\",\"linecolor\":\"#506784\",\"ticks\":\"\",\"title\":{\"standoff\":15},\"zerolinecolor\":\"#283442\",\"automargin\":true,\"zerolinewidth\":2},\"scene\":{\"xaxis\":{\"backgroundcolor\":\"rgb(17,17,17)\",\"gridcolor\":\"#506784\",\"linecolor\":\"#506784\",\"showbackground\":true,\"ticks\":\"\",\"zerolinecolor\":\"#C8D4E3\",\"gridwidth\":2},\"yaxis\":{\"backgroundcolor\":\"rgb(17,17,17)\",\"gridcolor\":\"#506784\",\"linecolor\":\"#506784\",\"showbackground\":true,\"ticks\":\"\",\"zerolinecolor\":\"#C8D4E3\",\"gridwidth\":2},\"zaxis\":{\"backgroundcolor\":\"rgb(17,17,17)\",\"gridcolor\":\"#506784\",\"linecolor\":\"#506784\",\"showbackground\":true,\"ticks\":\"\",\"zerolinecolor\":\"#C8D4E3\",\"gridwidth\":2}},\"shapedefaults\":{\"line\":{\"color\":\"#f2f5fa\"}},\"annotationdefaults\":{\"arrowcolor\":\"#f2f5fa\",\"arrowhead\":0,\"arrowwidth\":1},\"geo\":{\"bgcolor\":\"rgb(17,17,17)\",\"landcolor\":\"rgb(17,17,17)\",\"subunitcolor\":\"#506784\",\"showland\":true,\"showlakes\":true,\"lakecolor\":\"rgb(17,17,17)\"},\"title\":{\"x\":0.05},\"updatemenudefaults\":{\"bgcolor\":\"#506784\",\"borderwidth\":0},\"sliderdefaults\":{\"bgcolor\":\"#C8D4E3\",\"borderwidth\":1,\"bordercolor\":\"rgb(17,17,17)\",\"tickwidth\":0},\"mapbox\":{\"style\":\"dark\"}}},\"xaxis\":{\"anchor\":\"y\",\"domain\":[0.0,1.0],\"title\":{\"text\":\"index\"}},\"yaxis\":{\"anchor\":\"x\",\"domain\":[0.0,1.0],\"title\":{\"text\":\"value\"}},\"legend\":{\"title\":{\"text\":\"variable\"},\"tracegroupgap\":0},\"margin\":{\"t\":60}},                        {\"responsive\": true}                    ).then(function(){\n                            \nvar gd = document.getElementById('073daa2a-41ae-41cf-9027-e4116cc75614');\nvar x = new MutationObserver(function (mutations, observer) {{\n        var display = window.getComputedStyle(gd).display;\n        if (!display || display === 'none') {{\n            console.log([gd, 'removed!']);\n            Plotly.purge(gd);\n            observer.disconnect();\n        }}\n}});\n\n// Listen for the removal of the full notebook cells\nvar notebookContainer = gd.closest('#notebook-container');\nif (notebookContainer) {{\n    x.observe(notebookContainer, {childList: true});\n}}\n\n// Listen for the clearing of the current output cell\nvar outputEl = gd.closest('.output');\nif (outputEl) {{\n    x.observe(outputEl, {childList: true});\n}}\n\n                        })                };                });            </script>        </div>"
     },
     "metadata": {},
     "output_type": "display_data"
    },
    {
     "data": {
      "application/vnd.plotly.v1+json": {
       "data": [
        {
         "hovertemplate": "x=%{x}<br>y=%{y}<extra></extra>",
         "legendgroup": "",
         "line": {
          "color": "#636efa",
          "dash": "solid"
         },
         "marker": {
          "symbol": "circle"
         },
         "mode": "lines",
         "name": "",
         "orientation": "v",
         "showlegend": false,
         "x": [
          0,
          1,
          2,
          3,
          4,
          5,
          6,
          7,
          8,
          9,
          10,
          11,
          12,
          13,
          14,
          15,
          16,
          17,
          18,
          19,
          20,
          21,
          22,
          23,
          24,
          25,
          26,
          27,
          28,
          29,
          30,
          31,
          32,
          33,
          34,
          35,
          36,
          37,
          38,
          39,
          40,
          41,
          42,
          43,
          44,
          45,
          46,
          47,
          48,
          49,
          50,
          51,
          52,
          53,
          54,
          55,
          56,
          57,
          58,
          59,
          60,
          61,
          62,
          63,
          64,
          65,
          66,
          67,
          68,
          69,
          70,
          71,
          72,
          73,
          74,
          75,
          76,
          77,
          78,
          79,
          80,
          81,
          82,
          83,
          84,
          85,
          86,
          87,
          88,
          89,
          90,
          91,
          92,
          93,
          94,
          95,
          96,
          97,
          98,
          99
         ],
         "xaxis": "x",
         "y": [
          1,
          1,
          1,
          -1,
          -1,
          -1,
          -1,
          -1,
          -1,
          -1,
          -1,
          -1,
          -1,
          -1,
          -1,
          -1,
          -1,
          -1,
          1,
          1,
          1,
          1,
          1,
          1,
          1,
          1,
          1,
          1,
          1,
          1,
          1,
          1,
          1,
          1,
          1,
          1,
          1,
          1,
          1,
          1,
          -1,
          -1,
          -1,
          -1,
          -1,
          -1,
          -1,
          -1,
          -1,
          1,
          1,
          1,
          1,
          1,
          1,
          1,
          1,
          1,
          1,
          1,
          1,
          1,
          1,
          1,
          1,
          1,
          1,
          1,
          1,
          1,
          1,
          1,
          1,
          1,
          1,
          1,
          1,
          1,
          1,
          1,
          1,
          1,
          1,
          1,
          1,
          1,
          1,
          1,
          1,
          1,
          1,
          1,
          1,
          1,
          1,
          1,
          1,
          1,
          1,
          1
         ],
         "yaxis": "y",
         "type": "scatter"
        }
       ],
       "layout": {
        "template": {
         "data": {
          "histogram2dcontour": [
           {
            "type": "histogram2dcontour",
            "colorbar": {
             "outlinewidth": 0,
             "ticks": ""
            },
            "colorscale": [
             [
              0.0,
              "#0d0887"
             ],
             [
              0.1111111111111111,
              "#46039f"
             ],
             [
              0.2222222222222222,
              "#7201a8"
             ],
             [
              0.3333333333333333,
              "#9c179e"
             ],
             [
              0.4444444444444444,
              "#bd3786"
             ],
             [
              0.5555555555555556,
              "#d8576b"
             ],
             [
              0.6666666666666666,
              "#ed7953"
             ],
             [
              0.7777777777777778,
              "#fb9f3a"
             ],
             [
              0.8888888888888888,
              "#fdca26"
             ],
             [
              1.0,
              "#f0f921"
             ]
            ]
           }
          ],
          "choropleth": [
           {
            "type": "choropleth",
            "colorbar": {
             "outlinewidth": 0,
             "ticks": ""
            }
           }
          ],
          "histogram2d": [
           {
            "type": "histogram2d",
            "colorbar": {
             "outlinewidth": 0,
             "ticks": ""
            },
            "colorscale": [
             [
              0.0,
              "#0d0887"
             ],
             [
              0.1111111111111111,
              "#46039f"
             ],
             [
              0.2222222222222222,
              "#7201a8"
             ],
             [
              0.3333333333333333,
              "#9c179e"
             ],
             [
              0.4444444444444444,
              "#bd3786"
             ],
             [
              0.5555555555555556,
              "#d8576b"
             ],
             [
              0.6666666666666666,
              "#ed7953"
             ],
             [
              0.7777777777777778,
              "#fb9f3a"
             ],
             [
              0.8888888888888888,
              "#fdca26"
             ],
             [
              1.0,
              "#f0f921"
             ]
            ]
           }
          ],
          "heatmap": [
           {
            "type": "heatmap",
            "colorbar": {
             "outlinewidth": 0,
             "ticks": ""
            },
            "colorscale": [
             [
              0.0,
              "#0d0887"
             ],
             [
              0.1111111111111111,
              "#46039f"
             ],
             [
              0.2222222222222222,
              "#7201a8"
             ],
             [
              0.3333333333333333,
              "#9c179e"
             ],
             [
              0.4444444444444444,
              "#bd3786"
             ],
             [
              0.5555555555555556,
              "#d8576b"
             ],
             [
              0.6666666666666666,
              "#ed7953"
             ],
             [
              0.7777777777777778,
              "#fb9f3a"
             ],
             [
              0.8888888888888888,
              "#fdca26"
             ],
             [
              1.0,
              "#f0f921"
             ]
            ]
           }
          ],
          "heatmapgl": [
           {
            "type": "heatmapgl",
            "colorbar": {
             "outlinewidth": 0,
             "ticks": ""
            },
            "colorscale": [
             [
              0.0,
              "#0d0887"
             ],
             [
              0.1111111111111111,
              "#46039f"
             ],
             [
              0.2222222222222222,
              "#7201a8"
             ],
             [
              0.3333333333333333,
              "#9c179e"
             ],
             [
              0.4444444444444444,
              "#bd3786"
             ],
             [
              0.5555555555555556,
              "#d8576b"
             ],
             [
              0.6666666666666666,
              "#ed7953"
             ],
             [
              0.7777777777777778,
              "#fb9f3a"
             ],
             [
              0.8888888888888888,
              "#fdca26"
             ],
             [
              1.0,
              "#f0f921"
             ]
            ]
           }
          ],
          "contourcarpet": [
           {
            "type": "contourcarpet",
            "colorbar": {
             "outlinewidth": 0,
             "ticks": ""
            }
           }
          ],
          "contour": [
           {
            "type": "contour",
            "colorbar": {
             "outlinewidth": 0,
             "ticks": ""
            },
            "colorscale": [
             [
              0.0,
              "#0d0887"
             ],
             [
              0.1111111111111111,
              "#46039f"
             ],
             [
              0.2222222222222222,
              "#7201a8"
             ],
             [
              0.3333333333333333,
              "#9c179e"
             ],
             [
              0.4444444444444444,
              "#bd3786"
             ],
             [
              0.5555555555555556,
              "#d8576b"
             ],
             [
              0.6666666666666666,
              "#ed7953"
             ],
             [
              0.7777777777777778,
              "#fb9f3a"
             ],
             [
              0.8888888888888888,
              "#fdca26"
             ],
             [
              1.0,
              "#f0f921"
             ]
            ]
           }
          ],
          "surface": [
           {
            "type": "surface",
            "colorbar": {
             "outlinewidth": 0,
             "ticks": ""
            },
            "colorscale": [
             [
              0.0,
              "#0d0887"
             ],
             [
              0.1111111111111111,
              "#46039f"
             ],
             [
              0.2222222222222222,
              "#7201a8"
             ],
             [
              0.3333333333333333,
              "#9c179e"
             ],
             [
              0.4444444444444444,
              "#bd3786"
             ],
             [
              0.5555555555555556,
              "#d8576b"
             ],
             [
              0.6666666666666666,
              "#ed7953"
             ],
             [
              0.7777777777777778,
              "#fb9f3a"
             ],
             [
              0.8888888888888888,
              "#fdca26"
             ],
             [
              1.0,
              "#f0f921"
             ]
            ]
           }
          ],
          "mesh3d": [
           {
            "type": "mesh3d",
            "colorbar": {
             "outlinewidth": 0,
             "ticks": ""
            }
           }
          ],
          "scatter": [
           {
            "marker": {
             "line": {
              "color": "#283442"
             }
            },
            "type": "scatter"
           }
          ],
          "parcoords": [
           {
            "type": "parcoords",
            "line": {
             "colorbar": {
              "outlinewidth": 0,
              "ticks": ""
             }
            }
           }
          ],
          "scatterpolargl": [
           {
            "type": "scatterpolargl",
            "marker": {
             "colorbar": {
              "outlinewidth": 0,
              "ticks": ""
             }
            }
           }
          ],
          "bar": [
           {
            "error_x": {
             "color": "#f2f5fa"
            },
            "error_y": {
             "color": "#f2f5fa"
            },
            "marker": {
             "line": {
              "color": "rgb(17,17,17)",
              "width": 0.5
             },
             "pattern": {
              "fillmode": "overlay",
              "size": 10,
              "solidity": 0.2
             }
            },
            "type": "bar"
           }
          ],
          "scattergeo": [
           {
            "type": "scattergeo",
            "marker": {
             "colorbar": {
              "outlinewidth": 0,
              "ticks": ""
             }
            }
           }
          ],
          "scatterpolar": [
           {
            "type": "scatterpolar",
            "marker": {
             "colorbar": {
              "outlinewidth": 0,
              "ticks": ""
             }
            }
           }
          ],
          "histogram": [
           {
            "marker": {
             "pattern": {
              "fillmode": "overlay",
              "size": 10,
              "solidity": 0.2
             }
            },
            "type": "histogram"
           }
          ],
          "scattergl": [
           {
            "marker": {
             "line": {
              "color": "#283442"
             }
            },
            "type": "scattergl"
           }
          ],
          "scatter3d": [
           {
            "type": "scatter3d",
            "line": {
             "colorbar": {
              "outlinewidth": 0,
              "ticks": ""
             }
            },
            "marker": {
             "colorbar": {
              "outlinewidth": 0,
              "ticks": ""
             }
            }
           }
          ],
          "scattermapbox": [
           {
            "type": "scattermapbox",
            "marker": {
             "colorbar": {
              "outlinewidth": 0,
              "ticks": ""
             }
            }
           }
          ],
          "scatterternary": [
           {
            "type": "scatterternary",
            "marker": {
             "colorbar": {
              "outlinewidth": 0,
              "ticks": ""
             }
            }
           }
          ],
          "scattercarpet": [
           {
            "type": "scattercarpet",
            "marker": {
             "colorbar": {
              "outlinewidth": 0,
              "ticks": ""
             }
            }
           }
          ],
          "carpet": [
           {
            "aaxis": {
             "endlinecolor": "#A2B1C6",
             "gridcolor": "#506784",
             "linecolor": "#506784",
             "minorgridcolor": "#506784",
             "startlinecolor": "#A2B1C6"
            },
            "baxis": {
             "endlinecolor": "#A2B1C6",
             "gridcolor": "#506784",
             "linecolor": "#506784",
             "minorgridcolor": "#506784",
             "startlinecolor": "#A2B1C6"
            },
            "type": "carpet"
           }
          ],
          "table": [
           {
            "cells": {
             "fill": {
              "color": "#506784"
             },
             "line": {
              "color": "rgb(17,17,17)"
             }
            },
            "header": {
             "fill": {
              "color": "#2a3f5f"
             },
             "line": {
              "color": "rgb(17,17,17)"
             }
            },
            "type": "table"
           }
          ],
          "barpolar": [
           {
            "marker": {
             "line": {
              "color": "rgb(17,17,17)",
              "width": 0.5
             },
             "pattern": {
              "fillmode": "overlay",
              "size": 10,
              "solidity": 0.2
             }
            },
            "type": "barpolar"
           }
          ],
          "pie": [
           {
            "automargin": true,
            "type": "pie"
           }
          ]
         },
         "layout": {
          "autotypenumbers": "strict",
          "colorway": [
           "#636efa",
           "#EF553B",
           "#00cc96",
           "#ab63fa",
           "#FFA15A",
           "#19d3f3",
           "#FF6692",
           "#B6E880",
           "#FF97FF",
           "#FECB52"
          ],
          "font": {
           "color": "#f2f5fa"
          },
          "hovermode": "closest",
          "hoverlabel": {
           "align": "left"
          },
          "paper_bgcolor": "rgb(17,17,17)",
          "plot_bgcolor": "rgb(17,17,17)",
          "polar": {
           "bgcolor": "rgb(17,17,17)",
           "angularaxis": {
            "gridcolor": "#506784",
            "linecolor": "#506784",
            "ticks": ""
           },
           "radialaxis": {
            "gridcolor": "#506784",
            "linecolor": "#506784",
            "ticks": ""
           }
          },
          "ternary": {
           "bgcolor": "rgb(17,17,17)",
           "aaxis": {
            "gridcolor": "#506784",
            "linecolor": "#506784",
            "ticks": ""
           },
           "baxis": {
            "gridcolor": "#506784",
            "linecolor": "#506784",
            "ticks": ""
           },
           "caxis": {
            "gridcolor": "#506784",
            "linecolor": "#506784",
            "ticks": ""
           }
          },
          "coloraxis": {
           "colorbar": {
            "outlinewidth": 0,
            "ticks": ""
           }
          },
          "colorscale": {
           "sequential": [
            [
             0.0,
             "#0d0887"
            ],
            [
             0.1111111111111111,
             "#46039f"
            ],
            [
             0.2222222222222222,
             "#7201a8"
            ],
            [
             0.3333333333333333,
             "#9c179e"
            ],
            [
             0.4444444444444444,
             "#bd3786"
            ],
            [
             0.5555555555555556,
             "#d8576b"
            ],
            [
             0.6666666666666666,
             "#ed7953"
            ],
            [
             0.7777777777777778,
             "#fb9f3a"
            ],
            [
             0.8888888888888888,
             "#fdca26"
            ],
            [
             1.0,
             "#f0f921"
            ]
           ],
           "sequentialminus": [
            [
             0.0,
             "#0d0887"
            ],
            [
             0.1111111111111111,
             "#46039f"
            ],
            [
             0.2222222222222222,
             "#7201a8"
            ],
            [
             0.3333333333333333,
             "#9c179e"
            ],
            [
             0.4444444444444444,
             "#bd3786"
            ],
            [
             0.5555555555555556,
             "#d8576b"
            ],
            [
             0.6666666666666666,
             "#ed7953"
            ],
            [
             0.7777777777777778,
             "#fb9f3a"
            ],
            [
             0.8888888888888888,
             "#fdca26"
            ],
            [
             1.0,
             "#f0f921"
            ]
           ],
           "diverging": [
            [
             0,
             "#8e0152"
            ],
            [
             0.1,
             "#c51b7d"
            ],
            [
             0.2,
             "#de77ae"
            ],
            [
             0.3,
             "#f1b6da"
            ],
            [
             0.4,
             "#fde0ef"
            ],
            [
             0.5,
             "#f7f7f7"
            ],
            [
             0.6,
             "#e6f5d0"
            ],
            [
             0.7,
             "#b8e186"
            ],
            [
             0.8,
             "#7fbc41"
            ],
            [
             0.9,
             "#4d9221"
            ],
            [
             1,
             "#276419"
            ]
           ]
          },
          "xaxis": {
           "gridcolor": "#283442",
           "linecolor": "#506784",
           "ticks": "",
           "title": {
            "standoff": 15
           },
           "zerolinecolor": "#283442",
           "automargin": true,
           "zerolinewidth": 2
          },
          "yaxis": {
           "gridcolor": "#283442",
           "linecolor": "#506784",
           "ticks": "",
           "title": {
            "standoff": 15
           },
           "zerolinecolor": "#283442",
           "automargin": true,
           "zerolinewidth": 2
          },
          "scene": {
           "xaxis": {
            "backgroundcolor": "rgb(17,17,17)",
            "gridcolor": "#506784",
            "linecolor": "#506784",
            "showbackground": true,
            "ticks": "",
            "zerolinecolor": "#C8D4E3",
            "gridwidth": 2
           },
           "yaxis": {
            "backgroundcolor": "rgb(17,17,17)",
            "gridcolor": "#506784",
            "linecolor": "#506784",
            "showbackground": true,
            "ticks": "",
            "zerolinecolor": "#C8D4E3",
            "gridwidth": 2
           },
           "zaxis": {
            "backgroundcolor": "rgb(17,17,17)",
            "gridcolor": "#506784",
            "linecolor": "#506784",
            "showbackground": true,
            "ticks": "",
            "zerolinecolor": "#C8D4E3",
            "gridwidth": 2
           }
          },
          "shapedefaults": {
           "line": {
            "color": "#f2f5fa"
           }
          },
          "annotationdefaults": {
           "arrowcolor": "#f2f5fa",
           "arrowhead": 0,
           "arrowwidth": 1
          },
          "geo": {
           "bgcolor": "rgb(17,17,17)",
           "landcolor": "rgb(17,17,17)",
           "subunitcolor": "#506784",
           "showland": true,
           "showlakes": true,
           "lakecolor": "rgb(17,17,17)"
          },
          "title": {
           "x": 0.05
          },
          "updatemenudefaults": {
           "bgcolor": "#506784",
           "borderwidth": 0
          },
          "sliderdefaults": {
           "bgcolor": "#C8D4E3",
           "borderwidth": 1,
           "bordercolor": "rgb(17,17,17)",
           "tickwidth": 0
          },
          "mapbox": {
           "style": "dark"
          }
         }
        },
        "xaxis": {
         "anchor": "y",
         "domain": [
          0.0,
          1.0
         ],
         "title": {
          "text": "x"
         }
        },
        "yaxis": {
         "anchor": "x",
         "domain": [
          0.0,
          1.0
         ],
         "title": {
          "text": "y"
         }
        },
        "legend": {
         "tracegroupgap": 0
        },
        "margin": {
         "t": 60
        }
       },
       "config": {
        "plotlyServerURL": "https://plot.ly"
       }
      },
      "text/html": "<div>                            <div id=\"69024e86-ec5d-45a9-8ab7-11d1828d8301\" class=\"plotly-graph-div\" style=\"height:525px; width:100%;\"></div>            <script type=\"text/javascript\">                require([\"plotly\"], function(Plotly) {                    window.PLOTLYENV=window.PLOTLYENV || {};                                    if (document.getElementById(\"69024e86-ec5d-45a9-8ab7-11d1828d8301\")) {                    Plotly.newPlot(                        \"69024e86-ec5d-45a9-8ab7-11d1828d8301\",                        [{\"hovertemplate\":\"x=%{x}\\u003cbr\\u003ey=%{y}\\u003cextra\\u003e\\u003c\\u002fextra\\u003e\",\"legendgroup\":\"\",\"line\":{\"color\":\"#636efa\",\"dash\":\"solid\"},\"marker\":{\"symbol\":\"circle\"},\"mode\":\"lines\",\"name\":\"\",\"orientation\":\"v\",\"showlegend\":false,\"x\":[0,1,2,3,4,5,6,7,8,9,10,11,12,13,14,15,16,17,18,19,20,21,22,23,24,25,26,27,28,29,30,31,32,33,34,35,36,37,38,39,40,41,42,43,44,45,46,47,48,49,50,51,52,53,54,55,56,57,58,59,60,61,62,63,64,65,66,67,68,69,70,71,72,73,74,75,76,77,78,79,80,81,82,83,84,85,86,87,88,89,90,91,92,93,94,95,96,97,98,99],\"xaxis\":\"x\",\"y\":[1,1,1,-1,-1,-1,-1,-1,-1,-1,-1,-1,-1,-1,-1,-1,-1,-1,1,1,1,1,1,1,1,1,1,1,1,1,1,1,1,1,1,1,1,1,1,1,-1,-1,-1,-1,-1,-1,-1,-1,-1,1,1,1,1,1,1,1,1,1,1,1,1,1,1,1,1,1,1,1,1,1,1,1,1,1,1,1,1,1,1,1,1,1,1,1,1,1,1,1,1,1,1,1,1,1,1,1,1,1,1,1],\"yaxis\":\"y\",\"type\":\"scatter\"}],                        {\"template\":{\"data\":{\"histogram2dcontour\":[{\"type\":\"histogram2dcontour\",\"colorbar\":{\"outlinewidth\":0,\"ticks\":\"\"},\"colorscale\":[[0.0,\"#0d0887\"],[0.1111111111111111,\"#46039f\"],[0.2222222222222222,\"#7201a8\"],[0.3333333333333333,\"#9c179e\"],[0.4444444444444444,\"#bd3786\"],[0.5555555555555556,\"#d8576b\"],[0.6666666666666666,\"#ed7953\"],[0.7777777777777778,\"#fb9f3a\"],[0.8888888888888888,\"#fdca26\"],[1.0,\"#f0f921\"]]}],\"choropleth\":[{\"type\":\"choropleth\",\"colorbar\":{\"outlinewidth\":0,\"ticks\":\"\"}}],\"histogram2d\":[{\"type\":\"histogram2d\",\"colorbar\":{\"outlinewidth\":0,\"ticks\":\"\"},\"colorscale\":[[0.0,\"#0d0887\"],[0.1111111111111111,\"#46039f\"],[0.2222222222222222,\"#7201a8\"],[0.3333333333333333,\"#9c179e\"],[0.4444444444444444,\"#bd3786\"],[0.5555555555555556,\"#d8576b\"],[0.6666666666666666,\"#ed7953\"],[0.7777777777777778,\"#fb9f3a\"],[0.8888888888888888,\"#fdca26\"],[1.0,\"#f0f921\"]]}],\"heatmap\":[{\"type\":\"heatmap\",\"colorbar\":{\"outlinewidth\":0,\"ticks\":\"\"},\"colorscale\":[[0.0,\"#0d0887\"],[0.1111111111111111,\"#46039f\"],[0.2222222222222222,\"#7201a8\"],[0.3333333333333333,\"#9c179e\"],[0.4444444444444444,\"#bd3786\"],[0.5555555555555556,\"#d8576b\"],[0.6666666666666666,\"#ed7953\"],[0.7777777777777778,\"#fb9f3a\"],[0.8888888888888888,\"#fdca26\"],[1.0,\"#f0f921\"]]}],\"heatmapgl\":[{\"type\":\"heatmapgl\",\"colorbar\":{\"outlinewidth\":0,\"ticks\":\"\"},\"colorscale\":[[0.0,\"#0d0887\"],[0.1111111111111111,\"#46039f\"],[0.2222222222222222,\"#7201a8\"],[0.3333333333333333,\"#9c179e\"],[0.4444444444444444,\"#bd3786\"],[0.5555555555555556,\"#d8576b\"],[0.6666666666666666,\"#ed7953\"],[0.7777777777777778,\"#fb9f3a\"],[0.8888888888888888,\"#fdca26\"],[1.0,\"#f0f921\"]]}],\"contourcarpet\":[{\"type\":\"contourcarpet\",\"colorbar\":{\"outlinewidth\":0,\"ticks\":\"\"}}],\"contour\":[{\"type\":\"contour\",\"colorbar\":{\"outlinewidth\":0,\"ticks\":\"\"},\"colorscale\":[[0.0,\"#0d0887\"],[0.1111111111111111,\"#46039f\"],[0.2222222222222222,\"#7201a8\"],[0.3333333333333333,\"#9c179e\"],[0.4444444444444444,\"#bd3786\"],[0.5555555555555556,\"#d8576b\"],[0.6666666666666666,\"#ed7953\"],[0.7777777777777778,\"#fb9f3a\"],[0.8888888888888888,\"#fdca26\"],[1.0,\"#f0f921\"]]}],\"surface\":[{\"type\":\"surface\",\"colorbar\":{\"outlinewidth\":0,\"ticks\":\"\"},\"colorscale\":[[0.0,\"#0d0887\"],[0.1111111111111111,\"#46039f\"],[0.2222222222222222,\"#7201a8\"],[0.3333333333333333,\"#9c179e\"],[0.4444444444444444,\"#bd3786\"],[0.5555555555555556,\"#d8576b\"],[0.6666666666666666,\"#ed7953\"],[0.7777777777777778,\"#fb9f3a\"],[0.8888888888888888,\"#fdca26\"],[1.0,\"#f0f921\"]]}],\"mesh3d\":[{\"type\":\"mesh3d\",\"colorbar\":{\"outlinewidth\":0,\"ticks\":\"\"}}],\"scatter\":[{\"marker\":{\"line\":{\"color\":\"#283442\"}},\"type\":\"scatter\"}],\"parcoords\":[{\"type\":\"parcoords\",\"line\":{\"colorbar\":{\"outlinewidth\":0,\"ticks\":\"\"}}}],\"scatterpolargl\":[{\"type\":\"scatterpolargl\",\"marker\":{\"colorbar\":{\"outlinewidth\":0,\"ticks\":\"\"}}}],\"bar\":[{\"error_x\":{\"color\":\"#f2f5fa\"},\"error_y\":{\"color\":\"#f2f5fa\"},\"marker\":{\"line\":{\"color\":\"rgb(17,17,17)\",\"width\":0.5},\"pattern\":{\"fillmode\":\"overlay\",\"size\":10,\"solidity\":0.2}},\"type\":\"bar\"}],\"scattergeo\":[{\"type\":\"scattergeo\",\"marker\":{\"colorbar\":{\"outlinewidth\":0,\"ticks\":\"\"}}}],\"scatterpolar\":[{\"type\":\"scatterpolar\",\"marker\":{\"colorbar\":{\"outlinewidth\":0,\"ticks\":\"\"}}}],\"histogram\":[{\"marker\":{\"pattern\":{\"fillmode\":\"overlay\",\"size\":10,\"solidity\":0.2}},\"type\":\"histogram\"}],\"scattergl\":[{\"marker\":{\"line\":{\"color\":\"#283442\"}},\"type\":\"scattergl\"}],\"scatter3d\":[{\"type\":\"scatter3d\",\"line\":{\"colorbar\":{\"outlinewidth\":0,\"ticks\":\"\"}},\"marker\":{\"colorbar\":{\"outlinewidth\":0,\"ticks\":\"\"}}}],\"scattermapbox\":[{\"type\":\"scattermapbox\",\"marker\":{\"colorbar\":{\"outlinewidth\":0,\"ticks\":\"\"}}}],\"scatterternary\":[{\"type\":\"scatterternary\",\"marker\":{\"colorbar\":{\"outlinewidth\":0,\"ticks\":\"\"}}}],\"scattercarpet\":[{\"type\":\"scattercarpet\",\"marker\":{\"colorbar\":{\"outlinewidth\":0,\"ticks\":\"\"}}}],\"carpet\":[{\"aaxis\":{\"endlinecolor\":\"#A2B1C6\",\"gridcolor\":\"#506784\",\"linecolor\":\"#506784\",\"minorgridcolor\":\"#506784\",\"startlinecolor\":\"#A2B1C6\"},\"baxis\":{\"endlinecolor\":\"#A2B1C6\",\"gridcolor\":\"#506784\",\"linecolor\":\"#506784\",\"minorgridcolor\":\"#506784\",\"startlinecolor\":\"#A2B1C6\"},\"type\":\"carpet\"}],\"table\":[{\"cells\":{\"fill\":{\"color\":\"#506784\"},\"line\":{\"color\":\"rgb(17,17,17)\"}},\"header\":{\"fill\":{\"color\":\"#2a3f5f\"},\"line\":{\"color\":\"rgb(17,17,17)\"}},\"type\":\"table\"}],\"barpolar\":[{\"marker\":{\"line\":{\"color\":\"rgb(17,17,17)\",\"width\":0.5},\"pattern\":{\"fillmode\":\"overlay\",\"size\":10,\"solidity\":0.2}},\"type\":\"barpolar\"}],\"pie\":[{\"automargin\":true,\"type\":\"pie\"}]},\"layout\":{\"autotypenumbers\":\"strict\",\"colorway\":[\"#636efa\",\"#EF553B\",\"#00cc96\",\"#ab63fa\",\"#FFA15A\",\"#19d3f3\",\"#FF6692\",\"#B6E880\",\"#FF97FF\",\"#FECB52\"],\"font\":{\"color\":\"#f2f5fa\"},\"hovermode\":\"closest\",\"hoverlabel\":{\"align\":\"left\"},\"paper_bgcolor\":\"rgb(17,17,17)\",\"plot_bgcolor\":\"rgb(17,17,17)\",\"polar\":{\"bgcolor\":\"rgb(17,17,17)\",\"angularaxis\":{\"gridcolor\":\"#506784\",\"linecolor\":\"#506784\",\"ticks\":\"\"},\"radialaxis\":{\"gridcolor\":\"#506784\",\"linecolor\":\"#506784\",\"ticks\":\"\"}},\"ternary\":{\"bgcolor\":\"rgb(17,17,17)\",\"aaxis\":{\"gridcolor\":\"#506784\",\"linecolor\":\"#506784\",\"ticks\":\"\"},\"baxis\":{\"gridcolor\":\"#506784\",\"linecolor\":\"#506784\",\"ticks\":\"\"},\"caxis\":{\"gridcolor\":\"#506784\",\"linecolor\":\"#506784\",\"ticks\":\"\"}},\"coloraxis\":{\"colorbar\":{\"outlinewidth\":0,\"ticks\":\"\"}},\"colorscale\":{\"sequential\":[[0.0,\"#0d0887\"],[0.1111111111111111,\"#46039f\"],[0.2222222222222222,\"#7201a8\"],[0.3333333333333333,\"#9c179e\"],[0.4444444444444444,\"#bd3786\"],[0.5555555555555556,\"#d8576b\"],[0.6666666666666666,\"#ed7953\"],[0.7777777777777778,\"#fb9f3a\"],[0.8888888888888888,\"#fdca26\"],[1.0,\"#f0f921\"]],\"sequentialminus\":[[0.0,\"#0d0887\"],[0.1111111111111111,\"#46039f\"],[0.2222222222222222,\"#7201a8\"],[0.3333333333333333,\"#9c179e\"],[0.4444444444444444,\"#bd3786\"],[0.5555555555555556,\"#d8576b\"],[0.6666666666666666,\"#ed7953\"],[0.7777777777777778,\"#fb9f3a\"],[0.8888888888888888,\"#fdca26\"],[1.0,\"#f0f921\"]],\"diverging\":[[0,\"#8e0152\"],[0.1,\"#c51b7d\"],[0.2,\"#de77ae\"],[0.3,\"#f1b6da\"],[0.4,\"#fde0ef\"],[0.5,\"#f7f7f7\"],[0.6,\"#e6f5d0\"],[0.7,\"#b8e186\"],[0.8,\"#7fbc41\"],[0.9,\"#4d9221\"],[1,\"#276419\"]]},\"xaxis\":{\"gridcolor\":\"#283442\",\"linecolor\":\"#506784\",\"ticks\":\"\",\"title\":{\"standoff\":15},\"zerolinecolor\":\"#283442\",\"automargin\":true,\"zerolinewidth\":2},\"yaxis\":{\"gridcolor\":\"#283442\",\"linecolor\":\"#506784\",\"ticks\":\"\",\"title\":{\"standoff\":15},\"zerolinecolor\":\"#283442\",\"automargin\":true,\"zerolinewidth\":2},\"scene\":{\"xaxis\":{\"backgroundcolor\":\"rgb(17,17,17)\",\"gridcolor\":\"#506784\",\"linecolor\":\"#506784\",\"showbackground\":true,\"ticks\":\"\",\"zerolinecolor\":\"#C8D4E3\",\"gridwidth\":2},\"yaxis\":{\"backgroundcolor\":\"rgb(17,17,17)\",\"gridcolor\":\"#506784\",\"linecolor\":\"#506784\",\"showbackground\":true,\"ticks\":\"\",\"zerolinecolor\":\"#C8D4E3\",\"gridwidth\":2},\"zaxis\":{\"backgroundcolor\":\"rgb(17,17,17)\",\"gridcolor\":\"#506784\",\"linecolor\":\"#506784\",\"showbackground\":true,\"ticks\":\"\",\"zerolinecolor\":\"#C8D4E3\",\"gridwidth\":2}},\"shapedefaults\":{\"line\":{\"color\":\"#f2f5fa\"}},\"annotationdefaults\":{\"arrowcolor\":\"#f2f5fa\",\"arrowhead\":0,\"arrowwidth\":1},\"geo\":{\"bgcolor\":\"rgb(17,17,17)\",\"landcolor\":\"rgb(17,17,17)\",\"subunitcolor\":\"#506784\",\"showland\":true,\"showlakes\":true,\"lakecolor\":\"rgb(17,17,17)\"},\"title\":{\"x\":0.05},\"updatemenudefaults\":{\"bgcolor\":\"#506784\",\"borderwidth\":0},\"sliderdefaults\":{\"bgcolor\":\"#C8D4E3\",\"borderwidth\":1,\"bordercolor\":\"rgb(17,17,17)\",\"tickwidth\":0},\"mapbox\":{\"style\":\"dark\"}}},\"xaxis\":{\"anchor\":\"y\",\"domain\":[0.0,1.0],\"title\":{\"text\":\"x\"}},\"yaxis\":{\"anchor\":\"x\",\"domain\":[0.0,1.0],\"title\":{\"text\":\"y\"}},\"legend\":{\"tracegroupgap\":0},\"margin\":{\"t\":60}},                        {\"responsive\": true}                    ).then(function(){\n                            \nvar gd = document.getElementById('69024e86-ec5d-45a9-8ab7-11d1828d8301');\nvar x = new MutationObserver(function (mutations, observer) {{\n        var display = window.getComputedStyle(gd).display;\n        if (!display || display === 'none') {{\n            console.log([gd, 'removed!']);\n            Plotly.purge(gd);\n            observer.disconnect();\n        }}\n}});\n\n// Listen for the removal of the full notebook cells\nvar notebookContainer = gd.closest('#notebook-container');\nif (notebookContainer) {{\n    x.observe(notebookContainer, {childList: true});\n}}\n\n// Listen for the clearing of the current output cell\nvar outputEl = gd.closest('.output');\nif (outputEl) {{\n    x.observe(outputEl, {childList: true});\n}}\n\n                        })                };                });            </script>        </div>"
     },
     "metadata": {},
     "output_type": "display_data"
    }
   ],
   "source": [
    "px.line(data_frame=df.select(['close', 'chan_hi', 'chan_lo']).tail(100)).show()\n",
    "px.line(y=df['forecast'].tail(100)).show()"
   ],
   "metadata": {
    "collapsed": false,
    "ExecuteTime": {
     "end_time": "2024-03-26T11:05:18.527269Z",
     "start_time": "2024-03-26T11:05:18.415756Z"
    }
   },
   "id": "af2d1c5b0d4a177a",
   "execution_count": 43
  },
  {
   "cell_type": "code",
   "outputs": [],
   "source": [
    "# TODO get an rsi strategy that works well\n",
    "# TODO implement other strats that work in different ways, look at ones i have collected on notion etc\n",
    "# TODO when it's all working quite well, implement sequential forwards selection for portfolio construction\n",
    "\n",
    "std_lb = 50\n",
    "tau = 0.25\n",
    "fees = 0.005 # 50bps should cover trading fees, spread and slippage\n",
    "q = 0.2 # step size to round to\n",
    "lens = (8, 16, 32, 64, 128)\n",
    "timeframe = '1d'\n",
    "annualiser = {'1h': 94, '4h': 47, '8h': 33, '1d': 19, '2d': 14, '3d': 11, '1w': 7}[timeframe]\n",
    "\n",
    "results = {}\n",
    "\n",
    "# all_pairs = [p.name.split('.')[0] for p in Path('/home/ross/coding/modular_trader/bin_ohlc_5m').glob('*')]\n",
    "# my_pairs = all_pairs[3::10]\n",
    "my_pairs = [\n",
    "    'BTCUSDT', \n",
    "#     'ETHUSDT', \n",
    "#     'SOLUSDT', \n",
    "#     'LINKUSDT', \n",
    "#     'FXSUSDT',\n",
    "#     'ROSEUSDT',\n",
    "]\n",
    "\n",
    "for pair in my_pairs:\n",
    "    try:\n",
    "        data = time_bars(pair, timeframe)\n",
    "        # data = vol_bars(pair, 4_000)\n",
    "    except pl.exceptions.ComputeError as e:\n",
    "        print(pair)\n",
    "        print(e)\n",
    "        continue\n",
    "    \n",
    "    # if len(data) < 8760:\n",
    "    #     continue\n",
    "    \n",
    "    data = dyn_risk_target(data, tau, std_lb, annualiser)\n",
    "    \n",
    "    # buy & hold with dynamic risk scaling\n",
    "    data = data.with_columns(pl.col('dyn_risk_mult').alias('dyn_bnh_size'))\n",
    "    data = data.with_columns(pl.col('dyn_bnh_size').truediv(q).round().mul(q).alias('final_dyn_size'))\n",
    "    \n",
    "    # ensemble of ema trend forecasts\n",
    "    for l in lens:\n",
    "        data = ma_cross_forecast(data, l, ema, 'ema')    \n",
    "    data = data.with_columns(data.select(cs.contains('ema_diff')).mean_horizontal().alias('ema_size'))\n",
    "    # TODO forecast diversification multiplier goes here\n",
    "    data = standard_forecast(data, 'ema_size', flip=False)\n",
    "    data = data.with_columns(pl.col('ema_size').mul('dyn_risk_mult').alias('ema_size')) # TODO try a/b testing with or without this line\n",
    "    \n",
    "    # rsi mean reversion\n",
    "    rsi_len = 3\n",
    "    data = rsi_forecast(data, rsi_len)\n",
    "    # data = rsi_forecast(data, 32)\n",
    "    # data = rsi_forecast(data, 64)\n",
    "    # data = rsi_forecast(data, 128)\n",
    "    \n",
    "    # ichimoku strategies\n",
    "    data = ichi_trend_forecast(data, 10, 30)\n",
    "    \n",
    "    # plt.figure(figsize=(19, 8))\n",
    "    # sns.lineplot(data=data, x='timestamp', y=f'rsi_{rsi_len}_combined', label='rsi_forecast')\n",
    "    # sns.lineplot(data=data, x='timestamp', y='ema_size')\n",
    "    # sns.lineplot(data=data, x='timestamp', y='dyn_ema_size')\n",
    "    # sns.lineplot(data=data, x='timestamp', y='final_ema_size')\n",
    "    # plt.show()\n",
    "    \n",
    "    # TODO long term volatility regime\n",
    "    \n",
    "    crossfade = 0\n",
    "    data = data.with_columns(\n",
    "        (\n",
    "            pl.col('ema_size')\n",
    "            .mul(1 - crossfade)\n",
    "            .add(\n",
    "                pl.col('ichi_trend_10_30')\n",
    "                .mul(crossfade)\n",
    "            )\n",
    "        ).alias('final_size')\n",
    "    )\n",
    "    \n",
    "    # normalise avg size and quantise to reduce trading costs\n",
    "    print(f\"mean size: {data['final_size'].abs().mean()}\")\n",
    "    data = data.with_columns(pl.col('final_size').truediv(pl.col('final_size').abs().mean()).clip(lower_bound=-2, upper_bound=2).alias('final_size'))\n",
    "    data = data.with_columns(pl.col('final_size').truediv(q).round().mul(q).alias('final_size'))\n",
    "    print(f\"mean size: {data['final_size'].abs().mean()}\")\n",
    "\n",
    "    results[f\"{pair}_returns\"] = data['pct_change']\n",
    "    results[f\"{pair}_size\"] = data['final_size']\n",
    "    results[f\"{pair}_abs_size\"] = data['final_size'].abs()\n",
    "    \n",
    "longest = 0\n",
    "for l in results.values():\n",
    "    longest = max(longest, len(l))\n",
    "\n",
    "portfolio = pl.DataFrame()  \n",
    "for k, v in results.items():\n",
    "    portfolio = portfolio.with_columns(pl.Series([0.0] * (longest - len(v)), dtype=pl.Float64).extend(v).alias(k))\n",
    "\n",
    "lev = 1\n",
    "\n",
    "for c in my_pairs:\n",
    "    portfolio = portfolio.with_columns(pl.col(f\"{c}_size\").mul(lev).truediv(pl.lit(len(my_pairs))).alias(f\"{c}_size\"), \n",
    "                                       pl.col(f\"{c}_abs_size\").mul(lev).truediv(pl.lit(len(my_pairs))).alias(f\"{c}_abs_size\"))\n",
    "\n",
    "for pair in my_pairs:\n",
    "    portfolio = size_to_pnl(portfolio, pair, fees)\n",
    "\n",
    "portfolio = portfolio.with_columns(portfolio.select(cs.contains('pnl')).mean_horizontal().alias('total_pnl'))\n",
    "portfolio = portfolio.with_columns(portfolio.select(cs.contains('abs_size')).sum_horizontal().alias('total_size'))\n",
    "\n",
    "print(f\"Max exposure: {portfolio['total_size'].max():.1f}x, Avg exposure: {portfolio['total_size'].mean():.1f}x\")\n",
    "\n",
    "portfolio = portfolio.with_columns(pl.col('total_pnl').cum_prod().fill_null(1.0).alias('port_pnl'))\n",
    "\n",
    "perf_stats('portfolio', portfolio['port_pnl'], annualiser)\n",
    "\n",
    "plt.figure(figsize=(19, 8))\n",
    "t = f\"{' '.join(my_pairs)} pnl\" if len(my_pairs) <= 10 else f\"{len(my_pairs)} pairs pnl\"\n",
    "sns.lineplot(data=portfolio['port_pnl'], label=t)\n",
    "# sns.lineplot(data=portfolio['total_size'], label=f'exposure')\n",
    "plt.show()"
   ],
   "metadata": {
    "collapsed": false
   },
   "id": "29c169b4602b7283",
   "execution_count": null
  },
  {
   "cell_type": "code",
   "outputs": [],
   "source": [
    "ha_df = time_bars('BTCUSDT', '8h')\n",
    "ha_df = ichimoku(ha_df, 20, 60)\n",
    "\n",
    "fig = go.Figure(data=[go.Candlestick(x=ha_df['timestamp'],\n",
    "                open=ha_df['open'],\n",
    "                high=ha_df['high'],\n",
    "                low=ha_df['low'],\n",
    "                close=ha_df['close'])])\n",
    "\n",
    "# fig.add_trace(trace={'x': ha_df['timestamp'], 'y': ha_df['tenkan']})\n",
    "# fig.add_trace(trace={'x': ha_df['timestamp'], 'y': ha_df['kijun']})\n",
    "# fig.add_trace(trace={'x': ha_df['timestamp'], 'y': ha_df['chikou']})\n",
    "fig.add_trace(trace={'x': ha_df['timestamp'], 'y': ha_df['senkou_a']})\n",
    "fig.add_trace(trace={'x': ha_df['timestamp'], 'y': ha_df['senkou_b']})\n",
    "\n",
    "fig.update_layout(\n",
    "    height=800,\n",
    "    width=1600,\n",
    "    # xaxis_rangeslider_visible=False\n",
    ")\n",
    "fig.show()"
   ],
   "metadata": {
    "collapsed": false
   },
   "id": "b0958653a2f1bd1d",
   "execution_count": null
  },
  {
   "cell_type": "code",
   "outputs": [
    {
     "name": "stdout",
     "output_type": "stream",
     "text": [
      "shape: (1_461, 2)\n",
      "┌────────────┬──────────────────┐\n",
      "│ pct_change ┆ ichi_trend_score │\n",
      "│ ---        ┆ ---              │\n",
      "│ f64        ┆ f64              │\n",
      "╞════════════╪══════════════════╡\n",
      "│ 0.0        ┆ null             │\n",
      "│ 0.001267   ┆ null             │\n",
      "│ -0.021303  ┆ null             │\n",
      "│ 0.04726    ┆ null             │\n",
      "│ -0.056167  ┆ null             │\n",
      "│ …          ┆ …                │\n",
      "│ 0.013831   ┆ 1.0              │\n",
      "│ 0.011461   ┆ 1.0              │\n",
      "│ 0.033484   ┆ 1.0              │\n",
      "│ -0.003996  ┆ 1.0              │\n",
      "│ 0.043804   ┆ 1.0              │\n",
      "└────────────┴──────────────────┘\n"
     ]
    },
    {
     "data": {
      "text/plain": "<AxesSubplot: xlabel='timestamp', ylabel='ichi_pnl'>"
     },
     "execution_count": 45,
     "metadata": {},
     "output_type": "execute_result"
    },
    {
     "data": {
      "text/plain": "<Figure size 1900x800 with 1 Axes>",
      "image/png": "[encoded data removed]"
     },
     "metadata": {},
     "output_type": "display_data"
    }
   ],
   "source": [
    "df = time_bars('BTCUSDT', '1d')\n",
    "df = ichimoku(df, 10, 30)\n",
    "\n",
    "df = df.with_columns(\n",
    "    pl.col('pct_change').add(1).cum_prod().alias('cum_ret'),\n",
    "    pl.col('pct_change').mul(pl.col('ichi_trend_score').shift()).fill_null(0).add(1).cum_prod().alias('ichi_pnl')\n",
    ")\n",
    "\n",
    "print(df.select(['pct_change', 'ichi_trend_score']))\n",
    "\n",
    "plt.figure(figsize=(19, 8))\n",
    "# sns.lineplot(data=df, x='timestamp', y='ichi_trend_score', label='ichi_trend_score')\n",
    "# sns.lineplot(data=df, x='timestamp', y='cum_ret', label='pct_change')\n",
    "sns.lineplot(data=df, x='timestamp', y='ichi_pnl', label='ichi_pnl')"
   ],
   "metadata": {
    "collapsed": false,
    "ExecuteTime": {
     "end_time": "2024-02-14T15:06:56.165000861Z",
     "start_time": "2024-02-14T15:06:55.757122189Z"
    }
   },
   "id": "40dae88678cfa20b",
   "execution_count": 45
  },
  {
   "cell_type": "code",
   "outputs": [
    {
     "name": "stdout",
     "output_type": "stream",
     "text": [
      "['ichitrend_1h_10_30', 'ichitrend_1h_20_60', 'ichitrend_4h_10_30', 'ichitrend_4h_20_60', 'ichitrend_8h_10_30', 'ichitrend_8h_20_60', 'ichitrend_1d_10_30', 'ichitrend_1d_20_60', 'ichitrend_1w_10_30', 'ichitrend_1w_20_60']\n"
     ]
    }
   ],
   "source": [
    "ichitrends = [\n",
    "    {'tf': '1h', 'f': 10, 's': 30}, {'tf': '1h', 'f': 20, 's': 60},\n",
    "    {'tf': '4h', 'f': 10, 's': 30}, {'tf': '4h', 'f': 20, 's': 60},\n",
    "    {'tf': '8h', 'f': 10, 's': 30}, {'tf': '8h', 'f': 20, 's': 60},\n",
    "    {'tf': '1d', 'f': 10, 's': 30}, {'tf': '1d', 'f': 20, 's': 60},\n",
    "    {'tf': '1w', 'f': 10, 's': 30}, {'tf': '1w', 'f': 20, 's': 60},\n",
    "]\n",
    "\n",
    "strats = [f\"ichitrend_{it['tf']}_{it['f']}_{it['s']}\" for it in ichitrends]\n",
    "print(strats)"
   ],
   "metadata": {
    "collapsed": false,
    "ExecuteTime": {
     "end_time": "2024-02-22T13:06:09.626647026Z",
     "start_time": "2024-02-22T13:06:09.513566156Z"
    }
   },
   "id": "5f28e23976c57f4d",
   "execution_count": 177
  },
  {
   "cell_type": "code",
   "outputs": [],
   "source": [
    "amt = float(client.get_max_margin_transfer(asset='USDT')['amount'])"
   ],
   "metadata": {
    "collapsed": false,
    "ExecuteTime": {
     "end_time": "2024-03-18T11:12:01.781986Z",
     "start_time": "2024-03-18T11:12:01.508677Z"
    }
   },
   "id": "b7511465d004826e",
   "execution_count": 8
  },
  {
   "cell_type": "code",
   "outputs": [
    {
     "data": {
      "text/plain": "1710761941.77251"
     },
     "execution_count": 12,
     "metadata": {},
     "output_type": "execute_result"
    }
   ],
   "source": [
    "datetime.now().timestamp()"
   ],
   "metadata": {
    "collapsed": false,
    "ExecuteTime": {
     "end_time": "2024-03-18T11:39:01.774938Z",
     "start_time": "2024-03-18T11:39:01.771295Z"
    }
   },
   "id": "b2877711abf39a44",
   "execution_count": 12
  },
  {
   "cell_type": "code",
   "outputs": [
    {
     "data": {
      "text/plain": "1710157234.462524"
     },
     "execution_count": 14,
     "metadata": {},
     "output_type": "execute_result"
    }
   ],
   "source": [
    "(datetime.now() - timedelta(weeks=1)).timestamp()"
   ],
   "metadata": {
    "collapsed": false,
    "ExecuteTime": {
     "end_time": "2024-03-18T11:40:34.465385Z",
     "start_time": "2024-03-18T11:40:34.461560Z"
    }
   },
   "id": "ff9b68124009315a",
   "execution_count": 14
  },
  {
   "cell_type": "code",
   "outputs": [
    {
     "data": {
      "text/plain": "0"
     },
     "execution_count": 20,
     "metadata": {},
     "output_type": "execute_result"
    }
   ],
   "source": [
    "datetime.now().weekday()"
   ],
   "metadata": {
    "collapsed": false,
    "ExecuteTime": {
     "end_time": "2024-03-18T11:50:46.342890Z",
     "start_time": "2024-03-18T11:50:46.339279Z"
    }
   },
   "id": "801d45e6b9c99b89",
   "execution_count": 20
  },
  {
   "cell_type": "code",
   "outputs": [],
   "source": [],
   "metadata": {
    "collapsed": false
   },
   "id": "7e3de6ac033e2d5b"
  }
 ],
 "metadata": {
  "kernelspec": {
   "display_name": "Python 3",
   "language": "python",
   "name": "python3"
  },
  "language_info": {
   "codemirror_mode": {
    "name": "ipython",
    "version": 2
   },
   "file_extension": ".py",
   "mimetype": "text/x-python",
   "name": "python",
   "nbconvert_exporter": "python",
   "pygments_lexer": "ipython2",
   "version": "2.7.6"
  }
 },
 "nbformat": 4,
 "nbformat_minor": 5
}
