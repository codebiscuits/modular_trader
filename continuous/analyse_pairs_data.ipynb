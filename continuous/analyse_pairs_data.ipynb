{
 "cells": [
  {
   "cell_type": "code",
   "execution_count": 3,
   "id": "initial_id",
   "metadata": {
    "collapsed": true,
    "ExecuteTime": {
     "end_time": "2024-03-15T18:30:46.845017Z",
     "start_time": "2024-03-15T18:30:46.756398Z"
    }
   },
   "outputs": [],
   "source": [
    "from pathlib import Path\n",
    "import polars as pl\n",
    "from pprint import pprint\n",
    "from continuous import components"
   ]
  },
  {
   "cell_type": "code",
   "outputs": [],
   "source": [
    "def choose_by_length(minimum: int|str, maximum:int|str=420000):\n",
    "    \"\"\"checks the length of ohlc history of each trading pair, then makes a list of all pairs whos history length falls\n",
    "    within the stated range\"\"\"\n",
    "\n",
    "    lengths = {'1 month': 8750, '2 months': 17500, '3 months': 26250, '6 months': 52500,\n",
    "               '1 year': 105000, '2 years': 210000, '3 years': 315000, '4 years': 420000}\n",
    "\n",
    "    if isinstance(minimum, str):\n",
    "        minimum = lengths[minimum]\n",
    "    if isinstance(maximum, str):\n",
    "        maximum = lengths[maximum]\n",
    "\n",
    "    info = {}\n",
    "    data_path = Path(\"/home/ross/coding/modular_trader/bin_ohlc_5m\")\n",
    "    for pair_path in list(data_path.glob('*')):\n",
    "        df = pl.read_parquet(pair_path)\n",
    "        info[pair_path.stem] = len(df)\n",
    "    \n",
    "    print(min(info.values()))\n",
    "\n",
    "    return [p for p, v in info.items() if minimum < v <= maximum]"
   ],
   "metadata": {
    "collapsed": false,
    "ExecuteTime": {
     "end_time": "2024-03-16T17:31:41.387091Z",
     "start_time": "2024-03-16T17:31:41.378773Z"
    }
   },
   "id": "6cbdf0e6e83ba1e2",
   "execution_count": 12
  },
  {
   "cell_type": "code",
   "outputs": [
    {
     "name": "stdout",
     "output_type": "stream",
     "text": [
      "56\n"
     ]
    },
    {
     "data": {
      "text/plain": "['BOMEUSDT']"
     },
     "execution_count": 14,
     "metadata": {},
     "output_type": "execute_result"
    }
   ],
   "source": [
    "choose_by_length(0, 100)"
   ],
   "metadata": {
    "collapsed": false,
    "ExecuteTime": {
     "end_time": "2024-03-16T17:32:03.760264Z",
     "start_time": "2024-03-16T17:31:59.611562Z"
    }
   },
   "id": "88be8a478eeb0215",
   "execution_count": 14
  },
  {
   "cell_type": "code",
   "outputs": [],
   "source": [],
   "metadata": {
    "collapsed": false
   },
   "id": "429df7f9e10575a6"
  }
 ],
 "metadata": {
  "kernelspec": {
   "display_name": "Python 3",
   "language": "python",
   "name": "python3"
  },
  "language_info": {
   "codemirror_mode": {
    "name": "ipython",
    "version": 2
   },
   "file_extension": ".py",
   "mimetype": "text/x-python",
   "name": "python",
   "nbconvert_exporter": "python",
   "pygments_lexer": "ipython2",
   "version": "2.7.6"
  }
 },
 "nbformat": 4,
 "nbformat_minor": 5
}
