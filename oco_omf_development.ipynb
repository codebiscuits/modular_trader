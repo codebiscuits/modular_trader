{
 "cells": [
  {
   "cell_type": "code",
   "execution_count": 11,
   "id": "initial_id",
   "metadata": {
    "collapsed": true,
    "ExecuteTime": {
     "end_time": "2023-11-06T11:40:04.717235391Z",
     "start_time": "2023-11-06T11:40:04.376712814Z"
    }
   },
   "outputs": [],
   "source": [
    "import statistics as stats\n",
    "import pandas as pd\n",
    "import polars as pl\n",
    "from binance.client import Client\n",
    "import binance.enums as be\n",
    "import binance.exceptions as bx\n",
    "from decimal import Decimal, getcontext\n",
    "from pathlib import Path\n",
    "from datetime import datetime, timedelta, timezone\n",
    "from mt.resources import keys, indicators as ind, utility_funcs as uf\n",
    "from pprint import pprint\n",
    "ctx = getcontext()\n",
    "ctx.prec = 12\n",
    "client = Client(keys.bPkey, keys.bSkey)"
   ]
  },
  {
   "cell_type": "code",
   "execution_count": 5,
   "outputs": [
    {
     "data": {
      "text/plain": "{'symbol': 'NEARUSDT',\n 'orderId': 2043420475,\n 'clientOrderId': 'ruELkLRkkunD7pNlFRKLTF',\n 'transactTime': 1699270591646,\n 'price': '0',\n 'origQty': '10',\n 'executedQty': '10',\n 'cummulativeQuoteQty': '16.22',\n 'status': 'FILLED',\n 'timeInForce': 'GTC',\n 'type': 'MARKET',\n 'side': 'BUY',\n 'fills': [{'price': '1.622',\n   'qty': '10',\n   'commission': '0.00004977',\n   'commissionAsset': 'BNB',\n   'tradeId': 132641131}],\n 'isIsolated': False,\n 'selfTradePreventionMode': 'EXPIRE_MAKER'}"
     },
     "execution_count": 5,
     "metadata": {},
     "output_type": "execute_result"
    }
   ],
   "source": [
    "client.create_margin_order(symbol='NEARUSDT', side=be.SIDE_BUY, type=be.ORDER_TYPE_MARKET, quantity='10')"
   ],
   "metadata": {
    "collapsed": false,
    "ExecuteTime": {
     "end_time": "2023-11-06T11:36:31.769229295Z",
     "start_time": "2023-11-06T11:36:31.352233758Z"
    }
   },
   "id": "9736aab80d0cbc9d"
  },
  {
   "cell_type": "code",
   "execution_count": 17,
   "outputs": [
    {
     "data": {
      "text/plain": "{'orderListId': 93690883,\n 'contingencyType': 'OCO',\n 'listStatusType': 'EXEC_STARTED',\n 'listOrderStatus': 'EXECUTING',\n 'listClientOrderId': '20zARpp1Lzh9yeNj2pMOIV',\n 'transactionTime': 1699271158060,\n 'symbol': 'NEARUSDT',\n 'isIsolated': False,\n 'orders': [{'symbol': 'NEARUSDT',\n   'orderId': 2043425959,\n   'clientOrderId': 'cUrdiiW44LIvGBPviCi5TE'},\n  {'symbol': 'NEARUSDT',\n   'orderId': 2043425960,\n   'clientOrderId': '8AXYjlj0bH9DLcncwKF1XR'}],\n 'orderReports': [{'symbol': 'NEARUSDT',\n   'orderId': 2043425959,\n   'orderListId': 93690883,\n   'clientOrderId': 'cUrdiiW44LIvGBPviCi5TE',\n   'transactTime': 1699271158060,\n   'price': '1.41000000',\n   'origQty': '10.00000000',\n   'executedQty': '0',\n   'cummulativeQuoteQty': '0',\n   'status': 'NEW',\n   'timeInForce': 'GTC',\n   'type': 'STOP_LOSS_LIMIT',\n   'side': 'SELL',\n   'stopPrice': '1.40000000',\n   'selfTradePreventionMode': 'EXPIRE_MAKER'},\n  {'symbol': 'NEARUSDT',\n   'orderId': 2043425960,\n   'orderListId': 93690883,\n   'clientOrderId': '8AXYjlj0bH9DLcncwKF1XR',\n   'transactTime': 1699271158060,\n   'price': '1.80000000',\n   'origQty': '10.00000000',\n   'executedQty': '0',\n   'cummulativeQuoteQty': '0',\n   'status': 'NEW',\n   'timeInForce': 'GTC',\n   'type': 'LIMIT_MAKER',\n   'side': 'SELL',\n   'selfTradePreventionMode': 'EXPIRE_MAKER'}]}"
     },
     "execution_count": 17,
     "metadata": {},
     "output_type": "execute_result"
    }
   ],
   "source": [
    "client.create_margin_oco_order(\n",
    "    symbol='NEARUSDT', \n",
    "    side=be.SIDE_SELL, \n",
    "    quantity='10', \n",
    "    price='1.8', \n",
    "    stopPrice='1.4', \n",
    "    stopLimitPrice='1.41', \n",
    "    stopLimitTimeInForce=be.TIME_IN_FORCE_GTC\n",
    ")"
   ],
   "metadata": {
    "collapsed": false,
    "ExecuteTime": {
     "end_time": "2023-11-06T11:45:58.208619028Z",
     "start_time": "2023-11-06T11:45:57.880539473Z"
    }
   },
   "id": "ba6689d1eb7e955c"
  },
  {
   "cell_type": "code",
   "execution_count": 8,
   "outputs": [],
   "source": [
    "coins_info = client.get_all_coins_info()"
   ],
   "metadata": {
    "collapsed": false,
    "ExecuteTime": {
     "end_time": "2023-11-06T11:38:36.422312367Z",
     "start_time": "2023-11-06T11:38:36.056524561Z"
    }
   },
   "id": "586fad140443b57"
  },
  {
   "cell_type": "code",
   "execution_count": 12,
   "outputs": [
    {
     "name": "stdout",
     "output_type": "stream",
     "text": [
      "{'coin': 'NEAR',\n",
      " 'depositAllEnable': True,\n",
      " 'free': '0',\n",
      " 'freeze': '0',\n",
      " 'ipoable': '0',\n",
      " 'ipoing': '0',\n",
      " 'isLegalMoney': False,\n",
      " 'locked': '0',\n",
      " 'name': 'NEAR Protocol',\n",
      " 'networkList': [{'addressRegex': '^(0x)[0-9A-Fa-f]{40}$',\n",
      "                  'addressRule': '',\n",
      "                  'busy': False,\n",
      "                  'coin': 'NEAR',\n",
      "                  'contractAddress': '0x1fa4a73a3f0133f0025378af00236f3abdee5d63',\n",
      "                  'contractAddressUrl': 'https://bscscan.com/token/',\n",
      "                  'country': 'AE,BINANCE_BAHRAIN_BSC,KZ,FR,ES,PL,IT,SE,JP,NL,PL_BE,PL_BE_PAYSAFE,ES_PAYSAFE,IT_PAYSAFE,FR_PAYSAFE,SE_PAYSAFE,PL_PAYSAFE,MAIN_PAYSAFE,UK,UK_TITAN',\n",
      "                  'depositDesc': '',\n",
      "                  'depositEnable': True,\n",
      "                  'entityTag': 'main',\n",
      "                  'estimatedArrivalTime': 5,\n",
      "                  'isDefault': False,\n",
      "                  'memoRegex': '',\n",
      "                  'minConfirm': 15,\n",
      "                  'name': 'BNB Smart Chain (BEP20)',\n",
      "                  'network': 'BSC',\n",
      "                  'resetAddressStatus': False,\n",
      "                  'sameAddress': False,\n",
      "                  'specialTips': '',\n",
      "                  'specialWithdrawTips': 'The network you have selected is '\n",
      "                                         'BSC. Please ensure that the '\n",
      "                                         'withdrawal address supports the BNB '\n",
      "                                         'Smart Chain network. You will '\n",
      "                                         'potentially lose your assets if the '\n",
      "                                         'chosen platform does not support '\n",
      "                                         'refunds of wrongfully deposited '\n",
      "                                         'assets.',\n",
      "                  'unLockConfirm': 0,\n",
      "                  'withdrawDesc': '',\n",
      "                  'withdrawEnable': True,\n",
      "                  'withdrawFee': '0.074',\n",
      "                  'withdrawIntegerMultiple': '0.00000001',\n",
      "                  'withdrawMax': '10000000000',\n",
      "                  'withdrawMin': '0.15'},\n",
      "                 {'addressRegex': '^(?!0x)(?!bc1)(?!bnb1)[a-z0-9_-]{1}[a-z0-9_.-]{0,62}[a-z0-9_-]{1}$',\n",
      "                  'addressRule': '',\n",
      "                  'busy': False,\n",
      "                  'coin': 'NEAR',\n",
      "                  'contractAddressUrl': 'https://nearblocks.io/token/',\n",
      "                  'country': 'BINANCE_BAHRAIN_BSC,AE,FR,ES,PL,IT,SE,KZ,NL,PL_BE,PL_BE_PAYSAFE,ES_PAYSAFE,IT_PAYSAFE,FR_PAYSAFE,SE_PAYSAFE,PL_PAYSAFE,MAIN_PAYSAFE,UK,UK_TITAN',\n",
      "                  'depositDesc': '',\n",
      "                  'depositEnable': True,\n",
      "                  'entityTag': 'main',\n",
      "                  'estimatedArrivalTime': 0,\n",
      "                  'isDefault': True,\n",
      "                  'memoRegex': '',\n",
      "                  'minConfirm': 1,\n",
      "                  'name': 'NEAR Protocol',\n",
      "                  'network': 'NEAR',\n",
      "                  'resetAddressStatus': False,\n",
      "                  'sameAddress': False,\n",
      "                  'specialTips': '',\n",
      "                  'unLockConfirm': 5,\n",
      "                  'withdrawDesc': '',\n",
      "                  'withdrawEnable': True,\n",
      "                  'withdrawFee': '0.01',\n",
      "                  'withdrawIntegerMultiple': '0.00000001',\n",
      "                  'withdrawMax': '10000000000',\n",
      "                  'withdrawMin': '0.2'},\n",
      "                 {'addressRegex': '^(bnb1)[0-9a-z]{38}$',\n",
      "                  'addressRule': '',\n",
      "                  'busy': False,\n",
      "                  'coin': 'NEAR',\n",
      "                  'contractAddress': 'NEAR-4FD',\n",
      "                  'contractAddressUrl': 'https://binance.mintscan.io/assets/',\n",
      "                  'country': 'AE,BINANCE_BAHRAIN_BSC,KZ,FR,ES,PL,IT,SE,JP,NL,PL_BE,PL_BE_PAYSAFE,ES_PAYSAFE,IT_PAYSAFE,FR_PAYSAFE,SE_PAYSAFE,PL_PAYSAFE,MAIN_PAYSAFE,UK,UK_TITAN',\n",
      "                  'depositDesc': '',\n",
      "                  'depositEnable': True,\n",
      "                  'entityTag': 'main',\n",
      "                  'estimatedArrivalTime': 0,\n",
      "                  'isDefault': False,\n",
      "                  'memoRegex': '^[0-9A-Za-z\\\\-_]{1,120}$',\n",
      "                  'minConfirm': 1,\n",
      "                  'name': 'BNB Beacon Chain (BEP2)',\n",
      "                  'network': 'BNB',\n",
      "                  'resetAddressStatus': False,\n",
      "                  'sameAddress': True,\n",
      "                  'specialTips': 'Both a memo/tag and an address are required '\n",
      "                                 'to successfully deposit your assets to '\n",
      "                                 'Binance.',\n",
      "                  'unLockConfirm': 0,\n",
      "                  'withdrawDesc': '',\n",
      "                  'withdrawEnable': True,\n",
      "                  'withdrawFee': '0.074',\n",
      "                  'withdrawIntegerMultiple': '0.00000001',\n",
      "                  'withdrawMax': '10000000000',\n",
      "                  'withdrawMin': '0.15'}],\n",
      " 'storage': '0',\n",
      " 'trading': True,\n",
      " 'withdrawAllEnable': True,\n",
      " 'withdrawing': '0'}\n"
     ]
    }
   ],
   "source": [
    "for coin in coins_info:\n",
    "    if coin['coin'] == 'NEAR':\n",
    "        pprint(coin)"
   ],
   "metadata": {
    "collapsed": false,
    "ExecuteTime": {
     "end_time": "2023-11-06T11:40:09.908632102Z",
     "start_time": "2023-11-06T11:40:09.901112261Z"
    }
   },
   "id": "e823a69e61c34395"
  },
  {
   "cell_type": "code",
   "execution_count": 15,
   "outputs": [
    {
     "data": {
      "text/plain": "{'symbol': 'NEARUSDT',\n 'status': 'TRADING',\n 'baseAsset': 'NEAR',\n 'baseAssetPrecision': 8,\n 'quoteAsset': 'USDT',\n 'quotePrecision': 8,\n 'quoteAssetPrecision': 8,\n 'baseCommissionPrecision': 8,\n 'quoteCommissionPrecision': 8,\n 'orderTypes': ['LIMIT',\n  'LIMIT_MAKER',\n  'MARKET',\n  'STOP_LOSS_LIMIT',\n  'TAKE_PROFIT_LIMIT'],\n 'icebergAllowed': True,\n 'ocoAllowed': True,\n 'quoteOrderQtyMarketAllowed': True,\n 'allowTrailingStop': True,\n 'cancelReplaceAllowed': True,\n 'isSpotTradingAllowed': True,\n 'isMarginTradingAllowed': True,\n 'filters': [{'filterType': 'PRICE_FILTER',\n   'minPrice': '0.00100000',\n   'maxPrice': '1000.00000000',\n   'tickSize': '0.00100000'},\n  {'filterType': 'LOT_SIZE',\n   'minQty': '0.10000000',\n   'maxQty': '900000.00000000',\n   'stepSize': '0.10000000'},\n  {'filterType': 'ICEBERG_PARTS', 'limit': 10},\n  {'filterType': 'MARKET_LOT_SIZE',\n   'minQty': '0.00000000',\n   'maxQty': '302207.71083333',\n   'stepSize': '0.00000000'},\n  {'filterType': 'TRAILING_DELTA',\n   'minTrailingAboveDelta': 10,\n   'maxTrailingAboveDelta': 2000,\n   'minTrailingBelowDelta': 10,\n   'maxTrailingBelowDelta': 2000},\n  {'filterType': 'PERCENT_PRICE_BY_SIDE',\n   'bidMultiplierUp': '5',\n   'bidMultiplierDown': '0.2',\n   'askMultiplierUp': '5',\n   'askMultiplierDown': '0.2',\n   'avgPriceMins': 5},\n  {'filterType': 'NOTIONAL',\n   'minNotional': '5.00000000',\n   'applyMinToMarket': True,\n   'maxNotional': '9000000.00000000',\n   'applyMaxToMarket': False,\n   'avgPriceMins': 5},\n  {'filterType': 'MAX_NUM_ORDERS', 'maxNumOrders': 200},\n  {'filterType': 'MAX_NUM_ALGO_ORDERS', 'maxNumAlgoOrders': 5}],\n 'permissions': ['SPOT',\n  'MARGIN',\n  'TRD_GRP_004',\n  'TRD_GRP_005',\n  'TRD_GRP_006',\n  'TRD_GRP_009',\n  'TRD_GRP_010',\n  'TRD_GRP_011',\n  'TRD_GRP_012',\n  'TRD_GRP_013',\n  'TRD_GRP_014',\n  'TRD_GRP_015',\n  'TRD_GRP_016',\n  'TRD_GRP_017',\n  'TRD_GRP_018',\n  'TRD_GRP_019',\n  'TRD_GRP_020',\n  'TRD_GRP_021',\n  'TRD_GRP_022',\n  'TRD_GRP_023'],\n 'defaultSelfTradePreventionMode': 'EXPIRE_MAKER',\n 'allowedSelfTradePreventionModes': ['EXPIRE_TAKER',\n  'EXPIRE_MAKER',\n  'EXPIRE_BOTH']}"
     },
     "execution_count": 15,
     "metadata": {},
     "output_type": "execute_result"
    }
   ],
   "source": [
    "client.get_symbol_info('NEARUSDT')"
   ],
   "metadata": {
    "collapsed": false,
    "ExecuteTime": {
     "end_time": "2023-11-06T11:41:51.286651879Z",
     "start_time": "2023-11-06T11:41:50.899015691Z"
    }
   },
   "id": "a1e1db1d5896c11c"
  },
  {
   "cell_type": "code",
   "execution_count": null,
   "outputs": [],
   "source": [],
   "metadata": {
    "collapsed": false
   },
   "id": "dbdf843031f34cbf"
  }
 ],
 "metadata": {
  "kernelspec": {
   "display_name": "Python 3",
   "language": "python",
   "name": "python3"
  },
  "language_info": {
   "codemirror_mode": {
    "name": "ipython",
    "version": 2
   },
   "file_extension": ".py",
   "mimetype": "text/x-python",
   "name": "python",
   "nbconvert_exporter": "python",
   "pygments_lexer": "ipython2",
   "version": "2.7.6"
  }
 },
 "nbformat": 4,
 "nbformat_minor": 5
}
