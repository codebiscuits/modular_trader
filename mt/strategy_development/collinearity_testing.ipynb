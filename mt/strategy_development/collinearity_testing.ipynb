{
 "cells": [
  {
   "cell_type": "code",
   "execution_count": 95,
   "id": "initial_id",
   "metadata": {
    "collapsed": true,
    "ExecuteTime": {
     "end_time": "2023-11-09T11:43:38.943520216Z",
     "start_time": "2023-11-09T11:43:38.873590131Z"
    }
   },
   "outputs": [],
   "source": [
    "import mt.ml_model_training as training\n",
    "import mt.resources.ml_funcs as mlf\n",
    "import numpy as np\n",
    "import pandas as pd\n",
    "from sklearn.ensemble import RandomForestClassifier\n",
    "from sklearn.model_selection import train_test_split, cross_val_score\n",
    "from sklearn.preprocessing import MinMaxScaler, QuantileTransformer\n",
    "from sklearn.metrics import fbeta_score\n",
    "from sklearn.metrics import confusion_matrix, roc_auc_score, make_scorer\n",
    "from sklearn.inspection import permutation_importance\n",
    "from sklearn.feature_selection import SelectKBest, mutual_info_classif, f_classif, chi2\n",
    "from mlxtend.feature_selection import SequentialFeatureSelector as SFS\n",
    "from imblearn.under_sampling import RandomUnderSampler, ClusterCentroids"
   ]
  },
  {
   "cell_type": "code",
   "execution_count": 96,
   "outputs": [
    {
     "name": "stdout",
     "output_type": "stream",
     "text": [
      "data generation began: 2023/11/09 11:43\n"
     ]
    }
   ],
   "source": [
    "strat_name = 'ChannelRun'\n",
    "side = 'long'\n",
    "timeframe = '1h'\n",
    "strat_params = (200, 'edge')\n",
    "num_pairs = 150\n",
    "selection_method = '1w_volumes'\n",
    "thresh = 0.4\n",
    "data_len = 2500\n",
    "pairs = mlf.get_margin_pairs(selection_method, num_pairs)\n",
    "# results = training.create_risk_dataset(strat_name, side, timeframe, strat_params, num_pairs, selection_method, thresh)\n",
    "results = training.generate_channel_run_dataset(pairs, side, timeframe, strat_params, data_len)"
   ],
   "metadata": {
    "collapsed": false,
    "ExecuteTime": {
     "end_time": "2023-11-09T11:48:22.938295380Z",
     "start_time": "2023-11-09T11:43:49.440885807Z"
    }
   },
   "id": "e875fdaf0209ceb1"
  },
  {
   "cell_type": "code",
   "execution_count": 79,
   "outputs": [
    {
     "data": {
      "text/plain": "    conf_l  conf_s  inval_dist  mkt_rank_1d  mkt_rank_1w  mkt_rank_1m    pnl    win\n0   0.3588  1.0000      0.0508       0.0254       0.0881       0.9630   True   True\n1   0.7476  1.0000      0.0164       0.0623       0.0399       0.0257  False  False\n2   0.8338  1.0000      0.0158       0.2918       0.0741       0.1457  False  False\n3   0.8407  1.0000      0.0147       0.1785       0.0370       0.0571   True   True\n4   0.2949  0.0277      0.0343       0.1756       0.0285       0.9486   True   True\n5   0.4048  0.5052      0.0214       0.1558       0.0399       0.0200   True   True\n6   0.6952  1.0000      0.0333       0.0763       0.0142       0.9031   True   True\n7   0.6229  1.0000      0.0381       0.1586       0.0085       0.9857   True   True\n8   0.3269  1.0000      0.0502       0.0989       0.0114       0.0028   True   True\n9   0.1905  0.5052      0.0537       0.0085       0.0142       0.6571   True   True\n10  0.5665  1.0000      0.0468       0.2181       0.0456       0.9257   True   True",
      "text/html": "<div>\n<style scoped>\n    .dataframe tbody tr th:only-of-type {\n        vertical-align: middle;\n    }\n\n    .dataframe tbody tr th {\n        vertical-align: top;\n    }\n\n    .dataframe thead th {\n        text-align: right;\n    }\n</style>\n<table border=\"1\" class=\"dataframe\">\n  <thead>\n    <tr style=\"text-align: right;\">\n      <th></th>\n      <th>conf_l</th>\n      <th>conf_s</th>\n      <th>inval_dist</th>\n      <th>mkt_rank_1d</th>\n      <th>mkt_rank_1w</th>\n      <th>mkt_rank_1m</th>\n      <th>pnl</th>\n      <th>win</th>\n    </tr>\n  </thead>\n  <tbody>\n    <tr>\n      <th>0</th>\n      <td>0.3588</td>\n      <td>1.0000</td>\n      <td>0.0508</td>\n      <td>0.0254</td>\n      <td>0.0881</td>\n      <td>0.9630</td>\n      <td>True</td>\n      <td>True</td>\n    </tr>\n    <tr>\n      <th>1</th>\n      <td>0.7476</td>\n      <td>1.0000</td>\n      <td>0.0164</td>\n      <td>0.0623</td>\n      <td>0.0399</td>\n      <td>0.0257</td>\n      <td>False</td>\n      <td>False</td>\n    </tr>\n    <tr>\n      <th>2</th>\n      <td>0.8338</td>\n      <td>1.0000</td>\n      <td>0.0158</td>\n      <td>0.2918</td>\n      <td>0.0741</td>\n      <td>0.1457</td>\n      <td>False</td>\n      <td>False</td>\n    </tr>\n    <tr>\n      <th>3</th>\n      <td>0.8407</td>\n      <td>1.0000</td>\n      <td>0.0147</td>\n      <td>0.1785</td>\n      <td>0.0370</td>\n      <td>0.0571</td>\n      <td>True</td>\n      <td>True</td>\n    </tr>\n    <tr>\n      <th>4</th>\n      <td>0.2949</td>\n      <td>0.0277</td>\n      <td>0.0343</td>\n      <td>0.1756</td>\n      <td>0.0285</td>\n      <td>0.9486</td>\n      <td>True</td>\n      <td>True</td>\n    </tr>\n    <tr>\n      <th>5</th>\n      <td>0.4048</td>\n      <td>0.5052</td>\n      <td>0.0214</td>\n      <td>0.1558</td>\n      <td>0.0399</td>\n      <td>0.0200</td>\n      <td>True</td>\n      <td>True</td>\n    </tr>\n    <tr>\n      <th>6</th>\n      <td>0.6952</td>\n      <td>1.0000</td>\n      <td>0.0333</td>\n      <td>0.0763</td>\n      <td>0.0142</td>\n      <td>0.9031</td>\n      <td>True</td>\n      <td>True</td>\n    </tr>\n    <tr>\n      <th>7</th>\n      <td>0.6229</td>\n      <td>1.0000</td>\n      <td>0.0381</td>\n      <td>0.1586</td>\n      <td>0.0085</td>\n      <td>0.9857</td>\n      <td>True</td>\n      <td>True</td>\n    </tr>\n    <tr>\n      <th>8</th>\n      <td>0.3269</td>\n      <td>1.0000</td>\n      <td>0.0502</td>\n      <td>0.0989</td>\n      <td>0.0114</td>\n      <td>0.0028</td>\n      <td>True</td>\n      <td>True</td>\n    </tr>\n    <tr>\n      <th>9</th>\n      <td>0.1905</td>\n      <td>0.5052</td>\n      <td>0.0537</td>\n      <td>0.0085</td>\n      <td>0.0142</td>\n      <td>0.6571</td>\n      <td>True</td>\n      <td>True</td>\n    </tr>\n    <tr>\n      <th>10</th>\n      <td>0.5665</td>\n      <td>1.0000</td>\n      <td>0.0468</td>\n      <td>0.2181</td>\n      <td>0.0456</td>\n      <td>0.9257</td>\n      <td>True</td>\n      <td>True</td>\n    </tr>\n  </tbody>\n</table>\n</div>"
     },
     "execution_count": 79,
     "metadata": {},
     "output_type": "execute_result"
    }
   ],
   "source": [
    "results"
   ],
   "metadata": {
    "collapsed": false,
    "ExecuteTime": {
     "end_time": "2023-11-09T11:40:16.064958041Z",
     "start_time": "2023-11-09T11:40:16.061814937Z"
    }
   },
   "id": "47b9740df28dc951"
  },
  {
   "cell_type": "code",
   "execution_count": 80,
   "outputs": [],
   "source": [
    "# split features from labels\n",
    "X = results.drop(['win', 'pnl'], axis=1)\n",
    "y = results.win  # pnl > threshold\n",
    "\n",
    "# balance classes\n",
    "# us = RandomUnderSampler(random_state=0)\n",
    "us = ClusterCentroids(random_state=0)\n",
    "X, y = us.fit_resample(X, y)\n",
    "\n",
    "original_cols = list(X.columns)  # list of strings, names of all features\n",
    "X = pd.DataFrame(QuantileTransformer().fit_transform(X), columns=original_cols)"
   ],
   "metadata": {
    "collapsed": false,
    "ExecuteTime": {
     "end_time": "2023-11-09T11:40:16.820143990Z",
     "start_time": "2023-11-09T11:40:16.798026752Z"
    }
   },
   "id": "a170ba6c3617dc3c"
  },
  {
   "cell_type": "code",
   "execution_count": 81,
   "outputs": [],
   "source": [
    "# eliminate features\n",
    "nan_condition = X.columns[X.isnull().mean(axis=0) < 0.1]\n",
    "X = X[nan_condition]\n",
    "variance_condition = X.columns[X.var() > 0.001]\n",
    "X = X[variance_condition]"
   ],
   "metadata": {
    "collapsed": false,
    "ExecuteTime": {
     "end_time": "2023-11-09T11:40:17.527076491Z",
     "start_time": "2023-11-09T11:40:17.506036308Z"
    }
   },
   "id": "c6d8c81be5f25c3c"
  },
  {
   "cell_type": "code",
   "execution_count": 91,
   "outputs": [],
   "source": [
    "# find collinearity\n",
    "corr_thresh = 0.5\n",
    "corr_matrix = X.corr()\n",
    "# Extract the upper triangle of the correlation matrix\n",
    "upper = corr_matrix.where(np.triu(np.ones(corr_matrix.shape), k=1).astype(bool))"
   ],
   "metadata": {
    "collapsed": false,
    "ExecuteTime": {
     "end_time": "2023-11-09T11:40:54.346964657Z",
     "start_time": "2023-11-09T11:40:54.323300986Z"
    }
   },
   "id": "65bbe43ae6bfaf44"
  },
  {
   "cell_type": "code",
   "execution_count": 92,
   "outputs": [
    {
     "data": {
      "text/plain": "             conf_l  mkt_rank_1d\nconf_l          NaN          0.4\nmkt_rank_1d     NaN          NaN",
      "text/html": "<div>\n<style scoped>\n    .dataframe tbody tr th:only-of-type {\n        vertical-align: middle;\n    }\n\n    .dataframe tbody tr th {\n        vertical-align: top;\n    }\n\n    .dataframe thead th {\n        text-align: right;\n    }\n</style>\n<table border=\"1\" class=\"dataframe\">\n  <thead>\n    <tr style=\"text-align: right;\">\n      <th></th>\n      <th>conf_l</th>\n      <th>mkt_rank_1d</th>\n    </tr>\n  </thead>\n  <tbody>\n    <tr>\n      <th>conf_l</th>\n      <td>NaN</td>\n      <td>0.4</td>\n    </tr>\n    <tr>\n      <th>mkt_rank_1d</th>\n      <td>NaN</td>\n      <td>NaN</td>\n    </tr>\n  </tbody>\n</table>\n</div>"
     },
     "execution_count": 92,
     "metadata": {},
     "output_type": "execute_result"
    }
   ],
   "source": [
    "upper"
   ],
   "metadata": {
    "collapsed": false,
    "ExecuteTime": {
     "end_time": "2023-11-09T11:40:54.710399225Z",
     "start_time": "2023-11-09T11:40:54.692159400Z"
    }
   },
   "id": "cdb97cdb6ade99"
  },
  {
   "cell_type": "code",
   "execution_count": 93,
   "outputs": [],
   "source": [
    "\n",
    "# Select the features with correlations above the threshold\n",
    "# Need to use the absolute value\n",
    "to_drop = [column for column in upper.columns if any(upper[column].abs() > corr_thresh)]"
   ],
   "metadata": {
    "collapsed": false,
    "ExecuteTime": {
     "end_time": "2023-11-09T11:40:55.311491026Z",
     "start_time": "2023-11-09T11:40:55.307223573Z"
    }
   },
   "id": "5783fa4c84ca5ae6"
  },
  {
   "cell_type": "code",
   "execution_count": 94,
   "outputs": [
    {
     "data": {
      "text/plain": "[]"
     },
     "execution_count": 94,
     "metadata": {},
     "output_type": "execute_result"
    }
   ],
   "source": [
    "to_drop"
   ],
   "metadata": {
    "collapsed": false,
    "ExecuteTime": {
     "end_time": "2023-11-09T11:40:56.050109906Z",
     "start_time": "2023-11-09T11:40:56.013296128Z"
    }
   },
   "id": "ab6d8ebcc2771027"
  },
  {
   "cell_type": "code",
   "execution_count": 86,
   "outputs": [],
   "source": [
    "\n",
    "# Iterate through the columns to drop to record pairs of correlated features\n",
    "record_collinear = []\n",
    "for column in to_drop:\n",
    "    # Find the correlated features\n",
    "    corr_features = list(upper.index[upper[column].abs() > corr_thresh])\n",
    "\n",
    "    # Find the correlated values\n",
    "    corr_values = list(upper[column][upper[column].abs() > corr_thresh])\n",
    "    drop_features = [column for _ in range(len(corr_features))]\n",
    "\n",
    "    # Record the information (need a temp df for now)\n",
    "    temp_df = pd.DataFrame.from_dict({'drop_feature': drop_features,\n",
    "                                      'corr_feature': corr_features,\n",
    "                                      'corr_value': corr_values})\n",
    "\n",
    "    # Add to dataframe\n",
    "    record_collinear.append(temp_df)\n",
    "\n",
    "if record_collinear:\n",
    "    collinear_features = pd.concat(record_collinear, axis=0, ignore_index=True)\n",
    "else:\n",
    "    collinear_features = None"
   ],
   "metadata": {
    "collapsed": false,
    "ExecuteTime": {
     "end_time": "2023-11-09T11:40:23.579718064Z",
     "start_time": "2023-11-09T11:40:23.568596065Z"
    }
   },
   "id": "a4ce36f174371146"
  },
  {
   "cell_type": "code",
   "execution_count": 87,
   "outputs": [
    {
     "data": {
      "text/plain": "  drop_feature corr_feature  corr_value\n0       conf_s       conf_l      0.9467\n1   inval_dist       conf_l     -1.0000\n2   inval_dist       conf_s     -0.9467\n3  mkt_rank_1w       conf_l      0.8000\n4  mkt_rank_1w       conf_s      0.7746\n5  mkt_rank_1w   inval_dist     -0.8000\n6  mkt_rank_1m       conf_s     -0.6025",
      "text/html": "<div>\n<style scoped>\n    .dataframe tbody tr th:only-of-type {\n        vertical-align: middle;\n    }\n\n    .dataframe tbody tr th {\n        vertical-align: top;\n    }\n\n    .dataframe thead th {\n        text-align: right;\n    }\n</style>\n<table border=\"1\" class=\"dataframe\">\n  <thead>\n    <tr style=\"text-align: right;\">\n      <th></th>\n      <th>drop_feature</th>\n      <th>corr_feature</th>\n      <th>corr_value</th>\n    </tr>\n  </thead>\n  <tbody>\n    <tr>\n      <th>0</th>\n      <td>conf_s</td>\n      <td>conf_l</td>\n      <td>0.9467</td>\n    </tr>\n    <tr>\n      <th>1</th>\n      <td>inval_dist</td>\n      <td>conf_l</td>\n      <td>-1.0000</td>\n    </tr>\n    <tr>\n      <th>2</th>\n      <td>inval_dist</td>\n      <td>conf_s</td>\n      <td>-0.9467</td>\n    </tr>\n    <tr>\n      <th>3</th>\n      <td>mkt_rank_1w</td>\n      <td>conf_l</td>\n      <td>0.8000</td>\n    </tr>\n    <tr>\n      <th>4</th>\n      <td>mkt_rank_1w</td>\n      <td>conf_s</td>\n      <td>0.7746</td>\n    </tr>\n    <tr>\n      <th>5</th>\n      <td>mkt_rank_1w</td>\n      <td>inval_dist</td>\n      <td>-0.8000</td>\n    </tr>\n    <tr>\n      <th>6</th>\n      <td>mkt_rank_1m</td>\n      <td>conf_s</td>\n      <td>-0.6025</td>\n    </tr>\n  </tbody>\n</table>\n</div>"
     },
     "execution_count": 87,
     "metadata": {},
     "output_type": "execute_result"
    }
   ],
   "source": [
    "collinear_features"
   ],
   "metadata": {
    "collapsed": false,
    "ExecuteTime": {
     "end_time": "2023-11-09T11:40:26.668785340Z",
     "start_time": "2023-11-09T11:40:26.649042080Z"
    }
   },
   "id": "9086f2417837cd3f"
  },
  {
   "cell_type": "code",
   "execution_count": 88,
   "outputs": [
    {
     "data": {
      "text/plain": "['conf_s', 'inval_dist', 'mkt_rank_1w', 'mkt_rank_1m']"
     },
     "execution_count": 88,
     "metadata": {},
     "output_type": "execute_result"
    }
   ],
   "source": [
    "list(collinear_features.drop_feature.unique())"
   ],
   "metadata": {
    "collapsed": false,
    "ExecuteTime": {
     "end_time": "2023-11-09T11:40:30.796913285Z",
     "start_time": "2023-11-09T11:40:30.784233626Z"
    }
   },
   "id": "9de7728c4493b621"
  },
  {
   "cell_type": "code",
   "execution_count": 89,
   "outputs": [
    {
     "data": {
      "text/plain": "['conf_l', 'conf_s', 'inval_dist']"
     },
     "execution_count": 89,
     "metadata": {},
     "output_type": "execute_result"
    }
   ],
   "source": [
    "list(collinear_features.corr_feature.unique())"
   ],
   "metadata": {
    "collapsed": false,
    "ExecuteTime": {
     "end_time": "2023-11-09T11:40:31.619714652Z",
     "start_time": "2023-11-09T11:40:31.603610368Z"
    }
   },
   "id": "726f87f630ebdf69"
  },
  {
   "cell_type": "code",
   "execution_count": 90,
   "outputs": [],
   "source": [
    "X = X.drop(list(collinear_features.drop_feature), axis=1)"
   ],
   "metadata": {
    "collapsed": false,
    "ExecuteTime": {
     "end_time": "2023-11-09T11:40:49.774689567Z",
     "start_time": "2023-11-09T11:40:49.731691694Z"
    }
   },
   "id": "e2659b38dac0bce7"
  },
  {
   "cell_type": "code",
   "execution_count": null,
   "outputs": [],
   "source": [],
   "metadata": {
    "collapsed": false
   },
   "id": "39dc7d53b37a6324"
  }
 ],
 "metadata": {
  "kernelspec": {
   "display_name": "Python 3",
   "language": "python",
   "name": "python3"
  },
  "language_info": {
   "codemirror_mode": {
    "name": "ipython",
    "version": 2
   },
   "file_extension": ".py",
   "mimetype": "text/x-python",
   "name": "python",
   "nbconvert_exporter": "python",
   "pygments_lexer": "ipython2",
   "version": "2.7.6"
  }
 },
 "nbformat": 4,
 "nbformat_minor": 5
}
