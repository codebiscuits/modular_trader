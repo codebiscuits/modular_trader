{
 "cells": [
  {
   "cell_type": "code",
   "execution_count": 50,
   "id": "initial_id",
   "metadata": {
    "collapsed": true,
    "ExecuteTime": {
     "end_time": "2023-11-07T13:00:06.684885284Z",
     "start_time": "2023-11-07T13:00:06.639788503Z"
    }
   },
   "outputs": [],
   "source": [
    "from pathlib import Path\n",
    "import json\n",
    "from json import JSONDecodeError\n",
    "from datetime import datetime, timezone\n",
    "from pprint import pprint\n",
    "from mt.resources import keys\n",
    "import requests"
   ]
  },
  {
   "cell_type": "markdown",
   "source": [
    "The thesis is that the average pnl of the launchpad projects is the most obvious way to value the launchpad token (assuming that the launchpad token grants access to the launches) because people will see which launchpad is producing the most winners and that will drive demand for the token, so it can be used to derive a relative valuation and therefore show which projects are overvalued or undervalued on that basis."
   ],
   "metadata": {
    "collapsed": false
   },
   "id": "82cd716d56a555ab"
  },
  {
   "cell_type": "code",
   "execution_count": 31,
   "outputs": [],
   "source": [
    "fund = 1000 # update this with current fund value\n",
    "withdrew = 0 # how much cash withdrawn this rebalance period (so i can correct for this when calculating pnl)\n",
    "current_data = [\n",
    "    {'name': 'seedify', 'pnl': 128.1, 'mcap': 70176940, 'fdv': 120_759_052},\n",
    "    {'name': 'enjinstarter', 'pnl': 71.8, 'mcap': 18788146, 'fdv': 25_009_249},\n",
    "    {'name': 'trustswap', 'pnl': 62.7, 'mcap': 12000323, 'fdv': 12_000_323},\n",
    "    {'name': 'poolz_finance', 'pnl': 38.1, 'mcap': 15987043, 'fdv': 18_618_291},\n",
    "    {'name': 'bullstarter', 'pnl': 36.3, 'mcap': 385356, 'fdv': 15_667_073}\n",
    "]"
   ],
   "metadata": {
    "collapsed": false,
    "ExecuteTime": {
     "start_time": "2023-11-07T11:40:04.412421990Z"
    }
   },
   "id": "d203f58f6d48cbe9"
  },
  {
   "cell_type": "code",
   "execution_count": 49,
   "outputs": [
    {
     "data": {
      "text/plain": "['1699357368', '1699357669', '1699357807']"
     },
     "execution_count": 49,
     "metadata": {},
     "output_type": "execute_result"
    }
   ],
   "source": [
    "records_path = Path(\"/home/ross/coding/modular_trader/records/launchpad_rebalancer\")\n",
    "records_path.mkdir(parents=True, exist_ok=True)\n",
    "records_path = records_path / 'lp_rebal.json'\n",
    "try:\n",
    "    with open(records_path, 'r') as file:\n",
    "        records = json.load(file)\n",
    "except (FileNotFoundError, JSONDecodeError):\n",
    "    records = dict()\n",
    "\n",
    "if records:\n",
    "    sorted_keys = list(sorted(records.keys()))\n",
    "    most_recent = records[sorted_keys[-1]]\n",
    "    prev_total = most_recent['total_value']\n",
    "else:\n",
    "    prev_total = fund\n",
    "\n",
    "period_pnl = round((fund - prev_total) / prev_total, 5)"
   ],
   "metadata": {
    "collapsed": false,
    "ExecuteTime": {
     "end_time": "2023-11-07T11:58:05.738658949Z",
     "start_time": "2023-11-07T11:58:05.695244536Z"
    }
   },
   "id": "377436bf83fc8f67"
  },
  {
   "cell_type": "code",
   "execution_count": 44,
   "outputs": [],
   "source": [
    "for ido in current_data:\n",
    "    ido['score'] = round(100000 * ido['pnl'] / ido['fdv'], 5)"
   ],
   "metadata": {
    "collapsed": false,
    "ExecuteTime": {
     "start_time": "2023-11-07T11:50:05.379105653Z"
    }
   },
   "id": "f186c592d269fa62"
  },
  {
   "cell_type": "code",
   "execution_count": 45,
   "outputs": [],
   "source": [
    "scores = [ido['score'] for ido in current_data]"
   ],
   "metadata": {
    "collapsed": false,
    "ExecuteTime": {
     "start_time": "2023-11-07T11:50:05.814178001Z"
    }
   },
   "id": "b67b3cc0353542ea"
  },
  {
   "cell_type": "code",
   "execution_count": 46,
   "outputs": [
    {
     "name": "stdout",
     "output_type": "stream",
     "text": [
      "seedify allocation: $78.46\n",
      "enjinstarter allocation: $212.35\n",
      "trustswap allocation: $386.46\n",
      "poolz_finance allocation: $151.36\n",
      "bullstarter allocation: $171.37\n"
     ]
    }
   ],
   "source": [
    "for ido in current_data:\n",
    "    ido['allocation_pct'] = round(ido['score'] / sum(scores), 5)\n",
    "    ido['allocation_usdt'] = round(ido['allocation_pct'] * fund, 5)\n",
    "    print(f\"{ido['name']} allocation: ${ido['allocation'] * fund:.2f}\")"
   ],
   "metadata": {
    "collapsed": false,
    "ExecuteTime": {
     "start_time": "2023-11-07T11:50:06.334316099Z"
    }
   },
   "id": "17b580f3fab2ae10"
  },
  {
   "cell_type": "code",
   "execution_count": 47,
   "outputs": [],
   "source": [
    "timestamp = round(datetime.now(tz=timezone.utc).timestamp())\n",
    "new_record = dict(\n",
    "    total_value=fund,\n",
    "    asset_1=current_data[0],\n",
    "    asset_2=current_data[1],\n",
    "    asset_3=current_data[2],\n",
    "    asset_4=current_data[3],\n",
    "    asset_5=current_data[4],\n",
    ")\n",
    "\n",
    "records[timestamp] = new_record\n",
    "\n",
    "with open(records_path, 'w') as file:\n",
    "    json.dump(records, file)"
   ],
   "metadata": {
    "collapsed": false,
    "ExecuteTime": {
     "start_time": "2023-11-07T11:50:06.925703020Z"
    }
   },
   "id": "2275ffee1ad72bc7"
  },
  {
   "cell_type": "code",
   "execution_count": 48,
   "outputs": [
    {
     "name": "stdout",
     "output_type": "stream",
     "text": [
      "{1699357807: {'asset_1': {'allocation': 0.07846124784915337,\n",
      "                          'allocation_pct': 0.07846,\n",
      "                          'allocation_usdt': 78.46,\n",
      "                          'fdv': 120759052,\n",
      "                          'mcap': 70176940,\n",
      "                          'name': 'seedify',\n",
      "                          'pnl': 128.1,\n",
      "                          'score': 0.10608},\n",
      "              'asset_2': {'allocation': 0.21234868203155893,\n",
      "                          'allocation_pct': 0.21234,\n",
      "                          'allocation_usdt': 212.34,\n",
      "                          'fdv': 25009249,\n",
      "                          'mcap': 18788146,\n",
      "                          'name': 'enjinstarter',\n",
      "                          'pnl': 71.8,\n",
      "                          'score': 0.28709},\n",
      "              'asset_3': {'allocation': 0.38645629089443223,\n",
      "                          'allocation_pct': 0.38646,\n",
      "                          'allocation_usdt': 386.46,\n",
      "                          'fdv': 12000323,\n",
      "                          'mcap': 12000323,\n",
      "                          'name': 'trustswap',\n",
      "                          'pnl': 62.7,\n",
      "                          'score': 0.52249},\n",
      "              'asset_4': {'allocation': 0.15135993684833074,\n",
      "                          'allocation_pct': 0.15136,\n",
      "                          'allocation_usdt': 151.36,\n",
      "                          'fdv': 18618291,\n",
      "                          'mcap': 15987043,\n",
      "                          'name': 'poolz_finance',\n",
      "                          'pnl': 38.1,\n",
      "                          'score': 0.20464},\n",
      "              'asset_5': {'allocation': 0.17137384237652464,\n",
      "                          'allocation_pct': 0.17138,\n",
      "                          'allocation_usdt': 171.38,\n",
      "                          'fdv': 15667073,\n",
      "                          'mcap': 385356,\n",
      "                          'name': 'bullstarter',\n",
      "                          'pnl': 36.3,\n",
      "                          'score': 0.2317},\n",
      "              'total_value': 1000},\n",
      " '1699357368': {'asset_1': {'allocation': 0.07846124784915337,\n",
      "                            'fdv': 120759052,\n",
      "                            'mcap': 70176940,\n",
      "                            'name': 'seedify',\n",
      "                            'pnl': 128.1,\n",
      "                            'score': 0.10607900433004393},\n",
      "                'asset_2': {'allocation': 0.21234868203155893,\n",
      "                            'fdv': 25009249,\n",
      "                            'mcap': 18788146,\n",
      "                            'name': 'enjinstarter',\n",
      "                            'pnl': 71.8,\n",
      "                            'score': 0.2870937867826419},\n",
      "                'asset_3': {'allocation': 0.38645629089443223,\n",
      "                            'fdv': 12000323,\n",
      "                            'mcap': 12000323,\n",
      "                            'name': 'trustswap',\n",
      "                            'pnl': 62.7,\n",
      "                            'score': 0.5224859364202113},\n",
      "                'asset_4': {'allocation': 0.15135993684833074,\n",
      "                            'fdv': 18618291,\n",
      "                            'mcap': 15987043,\n",
      "                            'name': 'poolz_finance',\n",
      "                            'pnl': 38.1,\n",
      "                            'score': 0.2046374718281071},\n",
      "                'asset_5': {'allocation': 0.17137384237652464,\n",
      "                            'fdv': 15667073,\n",
      "                            'mcap': 385356,\n",
      "                            'name': 'bullstarter',\n",
      "                            'pnl': 36.3,\n",
      "                            'score': 0.2316961183496113},\n",
      "                'total_value': 1000},\n",
      " '1699357669': {'asset_1': {'allocation': 0.07846124784915337,\n",
      "                            'allocation_pct': 0.07846,\n",
      "                            'allocation_usdt': 78.46,\n",
      "                            'fdv': 120759052,\n",
      "                            'mcap': 70176940,\n",
      "                            'name': 'seedify',\n",
      "                            'pnl': 128.1,\n",
      "                            'score': 0.10607900433004393},\n",
      "                'asset_2': {'allocation': 0.21234868203155893,\n",
      "                            'allocation_pct': 0.21235,\n",
      "                            'allocation_usdt': 212.35,\n",
      "                            'fdv': 25009249,\n",
      "                            'mcap': 18788146,\n",
      "                            'name': 'enjinstarter',\n",
      "                            'pnl': 71.8,\n",
      "                            'score': 0.2870937867826419},\n",
      "                'asset_3': {'allocation': 0.38645629089443223,\n",
      "                            'allocation_pct': 0.38646,\n",
      "                            'allocation_usdt': 386.46,\n",
      "                            'fdv': 12000323,\n",
      "                            'mcap': 12000323,\n",
      "                            'name': 'trustswap',\n",
      "                            'pnl': 62.7,\n",
      "                            'score': 0.5224859364202113},\n",
      "                'asset_4': {'allocation': 0.15135993684833074,\n",
      "                            'allocation_pct': 0.15136,\n",
      "                            'allocation_usdt': 151.36,\n",
      "                            'fdv': 18618291,\n",
      "                            'mcap': 15987043,\n",
      "                            'name': 'poolz_finance',\n",
      "                            'pnl': 38.1,\n",
      "                            'score': 0.2046374718281071},\n",
      "                'asset_5': {'allocation': 0.17137384237652464,\n",
      "                            'allocation_pct': 0.17137,\n",
      "                            'allocation_usdt': 171.37,\n",
      "                            'fdv': 15667073,\n",
      "                            'mcap': 385356,\n",
      "                            'name': 'bullstarter',\n",
      "                            'pnl': 36.3,\n",
      "                            'score': 0.2316961183496113},\n",
      "                'total_value': 1000}}\n"
     ]
    }
   ],
   "source": [
    "pprint(records)"
   ],
   "metadata": {
    "collapsed": false,
    "ExecuteTime": {
     "end_time": "2023-11-07T11:50:08.339075863Z",
     "start_time": "2023-11-07T11:50:08.332076715Z"
    }
   },
   "id": "ed9f5ad3aeced904"
  },
  {
   "cell_type": "code",
   "execution_count": 53,
   "outputs": [
    {
     "data": {
      "text/plain": "<Response [401]>"
     },
     "execution_count": 53,
     "metadata": {},
     "output_type": "execute_result"
    }
   ],
   "source": [
    "endpoint = \"https://api.cryptorank.io/v1/currencies? api_key=keys.cr_key\"\n",
    "data = requests.get(endpoint)\n",
    "data"
   ],
   "metadata": {
    "collapsed": false,
    "ExecuteTime": {
     "end_time": "2023-11-07T13:03:15.754741175Z",
     "start_time": "2023-11-07T13:03:15.268617991Z"
    }
   },
   "id": "cf98715994289791"
  },
  {
   "cell_type": "code",
   "execution_count": null,
   "outputs": [],
   "source": [],
   "metadata": {
    "collapsed": false
   },
   "id": "9891999db5aec34f"
  }
 ],
 "metadata": {
  "kernelspec": {
   "display_name": "Python 3",
   "language": "python",
   "name": "python3"
  },
  "language_info": {
   "codemirror_mode": {
    "name": "ipython",
    "version": 2
   },
   "file_extension": ".py",
   "mimetype": "text/x-python",
   "name": "python",
   "nbconvert_exporter": "python",
   "pygments_lexer": "ipython2",
   "version": "2.7.6"
  }
 },
 "nbformat": 4,
 "nbformat_minor": 5
}
