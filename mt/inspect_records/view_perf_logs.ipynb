{
 "cells": [
  {
   "cell_type": "code",
   "execution_count": 8,
   "id": "initial_id",
   "metadata": {
    "collapsed": true,
    "ExecuteTime": {
     "end_time": "2023-11-03T10:54:34.487863567Z",
     "start_time": "2023-11-03T10:54:33.861893367Z"
    }
   },
   "outputs": [],
   "source": [
    "import json\n",
    "from pathlib import Path\n",
    "from pprint import pprint\n",
    "import pandas as pd"
   ]
  },
  {
   "cell_type": "code",
   "execution_count": 3,
   "outputs": [],
   "source": [
    "strat_name = 'ChannelRun'\n",
    "tf = '15m_None'\n",
    "strat_params = '200'\n",
    "sel_method = '1w_volumes'\n",
    "num_pairs = 150\n",
    "\n",
    "records_folder = Path(\"/home/ross/coding/modular_trader/records\")\n",
    "strat_folder = f\"{strat_name}_{tf}_{strat_params}_{sel_method}_{num_pairs}\"\n",
    "records = records_folder / strat_folder\n",
    "\n",
    "with open(records / 'perf_log.json', 'r') as file:\n",
    "    perf_log = json.load(file)"
   ],
   "metadata": {
    "collapsed": false,
    "ExecuteTime": {
     "end_time": "2023-11-03T10:48:37.151721036Z",
     "start_time": "2023-11-03T10:48:37.108047980Z"
    }
   },
   "id": "262d55641bbd0f7f"
  },
  {
   "cell_type": "code",
   "execution_count": 11,
   "outputs": [
    {
     "data": {
      "text/plain": "55"
     },
     "execution_count": 11,
     "metadata": {},
     "output_type": "execute_result"
    }
   ],
   "source": [
    "len(perf_log)"
   ],
   "metadata": {
    "collapsed": false,
    "ExecuteTime": {
     "end_time": "2023-11-03T10:57:22.483988291Z",
     "start_time": "2023-11-03T10:57:22.433050146Z"
    }
   },
   "id": "72b98e82855682a3"
  },
  {
   "cell_type": "code",
   "execution_count": 10,
   "outputs": [
    {
     "data": {
      "text/plain": "    rl  sl  wl      ul  rs  ss  ws     us  ul_cumm\n0    0   0   0   0.000   0   0   0  0.000    0.000\n1    0   0   0  -0.288   0   0   0  0.000   -0.288\n2    0   0   0   0.721   0   0   0  0.000    0.433\n3    0   0   0   0.986   0   0   0  0.000    1.419\n4    0   0   0   3.063   0   0   0  0.000    4.482\n5    0   0   0   3.295   0   0   0  0.000    7.777\n6    0   0   0   0.788   0   0   0  0.000    8.565\n7    0   0   0   0.000   0   0   0  0.000    8.565\n8    0   0   0   0.761   0   0   0  0.000    9.326\n9    0   0   0   0.000   0   0   0  0.000    9.326\n10   0   0   0   1.052   0   0   0  0.000   10.378\n11   0   0   0   2.682   0   0   0  0.000   13.060\n12   0   0   0   0.855   0   0   0  0.868   13.915\n13   0   0   0   0.000   0   0   0  1.868   13.915\n14   0   0   0   0.000   0   0   0  0.000   13.915\n15   0   0   0   0.000   0   0   0  0.000   13.915\n16   0   0   0   0.000   0   0   0  0.849   13.915\n17   0   0   0   0.000   0   0   0  0.000   13.915\n18   0   0   0   0.000   0   0   0  0.000   13.915\n19   0   0   0   0.000   0   0   0  0.000   13.915\n20   0   0   0   0.000   0   0   0  0.000   13.915\n21   0   0   0  -1.000   0   0   0  0.000   12.915\n22   0   0   0   0.944   0   0   0  0.000   13.859\n23   0   0   0   0.000   0   0   0  3.319   13.859\n24   0   0   0  -3.000   0   0   0  4.753   10.859\n25   0   0   0  -3.000   0   0   0  1.020    7.859\n26   0   0   0  -9.000   0   0   0  0.000   -1.141\n27   0   0   0  49.581   0   0   0  0.000   48.440\n28   0   0   0  -1.000   0   0   0  0.000   47.440\n29   0   0   0   6.477   0   0   0  0.000   53.917\n30   0   0   0   1.683   0   0   0  0.000   55.600\n31   0   0   0   6.108   0   0   0  0.000   61.708\n32   0   0   0   0.000   0   0   0  1.563   61.708\n33   0   0   0   2.588   0   0   0  0.000   64.296\n34   0   0   0   6.033   0   0   0  0.000   70.329\n35   0   0   0   0.000   0   0   0  0.000   70.329\n36   0   0   0   0.000   0   0   0  0.846   70.329\n37   0   0   0   0.000   0   0   0 -1.000   70.329\n38   0   0   0   0.000   0   0   0  0.000   70.329\n39   0   0   0   0.000   0   0   0 -2.000   70.329\n40   0   0   0   1.075   0   0   0  0.000   71.404\n41   0   0   0   2.814   0   0   0 -1.000   74.218\n42   0   0   0   1.718   0   0   0  1.782   75.936\n43   0   0   0   0.945   0   0   0 -1.000   76.881\n44   0   0   0   0.000   0   0   0  0.000   76.881\n45   0   0   0   1.641   0   0   0  0.000   78.522\n46   0   0   0   0.000   0   0   0  0.000   78.522\n47   0   0   0   2.737   0   0   0 -1.000   81.259\n48   0   0   0   0.980   0   0   0  0.000   82.239\n49   0   0   0   0.000   0   0   0  0.000   82.239\n50   0   0   0   0.000   0   0   0  0.000   82.239\n51   0   0   0   0.000   0   0   0  1.036   82.239\n52   0   0   0   0.961   0   0   0  2.221   83.200\n53   0   0   0  -6.000   0   0   0  0.000   77.200\n54   0   0   0  -0.137   0   0   0  0.000   77.063",
      "text/html": "<div>\n<style scoped>\n    .dataframe tbody tr th:only-of-type {\n        vertical-align: middle;\n    }\n\n    .dataframe tbody tr th {\n        vertical-align: top;\n    }\n\n    .dataframe thead th {\n        text-align: right;\n    }\n</style>\n<table border=\"1\" class=\"dataframe\">\n  <thead>\n    <tr style=\"text-align: right;\">\n      <th></th>\n      <th>rl</th>\n      <th>sl</th>\n      <th>wl</th>\n      <th>ul</th>\n      <th>rs</th>\n      <th>ss</th>\n      <th>ws</th>\n      <th>us</th>\n      <th>ul_cumm</th>\n    </tr>\n  </thead>\n  <tbody>\n    <tr>\n      <th>0</th>\n      <td>0</td>\n      <td>0</td>\n      <td>0</td>\n      <td>0.000</td>\n      <td>0</td>\n      <td>0</td>\n      <td>0</td>\n      <td>0.000</td>\n      <td>0.000</td>\n    </tr>\n    <tr>\n      <th>1</th>\n      <td>0</td>\n      <td>0</td>\n      <td>0</td>\n      <td>-0.288</td>\n      <td>0</td>\n      <td>0</td>\n      <td>0</td>\n      <td>0.000</td>\n      <td>-0.288</td>\n    </tr>\n    <tr>\n      <th>2</th>\n      <td>0</td>\n      <td>0</td>\n      <td>0</td>\n      <td>0.721</td>\n      <td>0</td>\n      <td>0</td>\n      <td>0</td>\n      <td>0.000</td>\n      <td>0.433</td>\n    </tr>\n    <tr>\n      <th>3</th>\n      <td>0</td>\n      <td>0</td>\n      <td>0</td>\n      <td>0.986</td>\n      <td>0</td>\n      <td>0</td>\n      <td>0</td>\n      <td>0.000</td>\n      <td>1.419</td>\n    </tr>\n    <tr>\n      <th>4</th>\n      <td>0</td>\n      <td>0</td>\n      <td>0</td>\n      <td>3.063</td>\n      <td>0</td>\n      <td>0</td>\n      <td>0</td>\n      <td>0.000</td>\n      <td>4.482</td>\n    </tr>\n    <tr>\n      <th>5</th>\n      <td>0</td>\n      <td>0</td>\n      <td>0</td>\n      <td>3.295</td>\n      <td>0</td>\n      <td>0</td>\n      <td>0</td>\n      <td>0.000</td>\n      <td>7.777</td>\n    </tr>\n    <tr>\n      <th>6</th>\n      <td>0</td>\n      <td>0</td>\n      <td>0</td>\n      <td>0.788</td>\n      <td>0</td>\n      <td>0</td>\n      <td>0</td>\n      <td>0.000</td>\n      <td>8.565</td>\n    </tr>\n    <tr>\n      <th>7</th>\n      <td>0</td>\n      <td>0</td>\n      <td>0</td>\n      <td>0.000</td>\n      <td>0</td>\n      <td>0</td>\n      <td>0</td>\n      <td>0.000</td>\n      <td>8.565</td>\n    </tr>\n    <tr>\n      <th>8</th>\n      <td>0</td>\n      <td>0</td>\n      <td>0</td>\n      <td>0.761</td>\n      <td>0</td>\n      <td>0</td>\n      <td>0</td>\n      <td>0.000</td>\n      <td>9.326</td>\n    </tr>\n    <tr>\n      <th>9</th>\n      <td>0</td>\n      <td>0</td>\n      <td>0</td>\n      <td>0.000</td>\n      <td>0</td>\n      <td>0</td>\n      <td>0</td>\n      <td>0.000</td>\n      <td>9.326</td>\n    </tr>\n    <tr>\n      <th>10</th>\n      <td>0</td>\n      <td>0</td>\n      <td>0</td>\n      <td>1.052</td>\n      <td>0</td>\n      <td>0</td>\n      <td>0</td>\n      <td>0.000</td>\n      <td>10.378</td>\n    </tr>\n    <tr>\n      <th>11</th>\n      <td>0</td>\n      <td>0</td>\n      <td>0</td>\n      <td>2.682</td>\n      <td>0</td>\n      <td>0</td>\n      <td>0</td>\n      <td>0.000</td>\n      <td>13.060</td>\n    </tr>\n    <tr>\n      <th>12</th>\n      <td>0</td>\n      <td>0</td>\n      <td>0</td>\n      <td>0.855</td>\n      <td>0</td>\n      <td>0</td>\n      <td>0</td>\n      <td>0.868</td>\n      <td>13.915</td>\n    </tr>\n    <tr>\n      <th>13</th>\n      <td>0</td>\n      <td>0</td>\n      <td>0</td>\n      <td>0.000</td>\n      <td>0</td>\n      <td>0</td>\n      <td>0</td>\n      <td>1.868</td>\n      <td>13.915</td>\n    </tr>\n    <tr>\n      <th>14</th>\n      <td>0</td>\n      <td>0</td>\n      <td>0</td>\n      <td>0.000</td>\n      <td>0</td>\n      <td>0</td>\n      <td>0</td>\n      <td>0.000</td>\n      <td>13.915</td>\n    </tr>\n    <tr>\n      <th>15</th>\n      <td>0</td>\n      <td>0</td>\n      <td>0</td>\n      <td>0.000</td>\n      <td>0</td>\n      <td>0</td>\n      <td>0</td>\n      <td>0.000</td>\n      <td>13.915</td>\n    </tr>\n    <tr>\n      <th>16</th>\n      <td>0</td>\n      <td>0</td>\n      <td>0</td>\n      <td>0.000</td>\n      <td>0</td>\n      <td>0</td>\n      <td>0</td>\n      <td>0.849</td>\n      <td>13.915</td>\n    </tr>\n    <tr>\n      <th>17</th>\n      <td>0</td>\n      <td>0</td>\n      <td>0</td>\n      <td>0.000</td>\n      <td>0</td>\n      <td>0</td>\n      <td>0</td>\n      <td>0.000</td>\n      <td>13.915</td>\n    </tr>\n    <tr>\n      <th>18</th>\n      <td>0</td>\n      <td>0</td>\n      <td>0</td>\n      <td>0.000</td>\n      <td>0</td>\n      <td>0</td>\n      <td>0</td>\n      <td>0.000</td>\n      <td>13.915</td>\n    </tr>\n    <tr>\n      <th>19</th>\n      <td>0</td>\n      <td>0</td>\n      <td>0</td>\n      <td>0.000</td>\n      <td>0</td>\n      <td>0</td>\n      <td>0</td>\n      <td>0.000</td>\n      <td>13.915</td>\n    </tr>\n    <tr>\n      <th>20</th>\n      <td>0</td>\n      <td>0</td>\n      <td>0</td>\n      <td>0.000</td>\n      <td>0</td>\n      <td>0</td>\n      <td>0</td>\n      <td>0.000</td>\n      <td>13.915</td>\n    </tr>\n    <tr>\n      <th>21</th>\n      <td>0</td>\n      <td>0</td>\n      <td>0</td>\n      <td>-1.000</td>\n      <td>0</td>\n      <td>0</td>\n      <td>0</td>\n      <td>0.000</td>\n      <td>12.915</td>\n    </tr>\n    <tr>\n      <th>22</th>\n      <td>0</td>\n      <td>0</td>\n      <td>0</td>\n      <td>0.944</td>\n      <td>0</td>\n      <td>0</td>\n      <td>0</td>\n      <td>0.000</td>\n      <td>13.859</td>\n    </tr>\n    <tr>\n      <th>23</th>\n      <td>0</td>\n      <td>0</td>\n      <td>0</td>\n      <td>0.000</td>\n      <td>0</td>\n      <td>0</td>\n      <td>0</td>\n      <td>3.319</td>\n      <td>13.859</td>\n    </tr>\n    <tr>\n      <th>24</th>\n      <td>0</td>\n      <td>0</td>\n      <td>0</td>\n      <td>-3.000</td>\n      <td>0</td>\n      <td>0</td>\n      <td>0</td>\n      <td>4.753</td>\n      <td>10.859</td>\n    </tr>\n    <tr>\n      <th>25</th>\n      <td>0</td>\n      <td>0</td>\n      <td>0</td>\n      <td>-3.000</td>\n      <td>0</td>\n      <td>0</td>\n      <td>0</td>\n      <td>1.020</td>\n      <td>7.859</td>\n    </tr>\n    <tr>\n      <th>26</th>\n      <td>0</td>\n      <td>0</td>\n      <td>0</td>\n      <td>-9.000</td>\n      <td>0</td>\n      <td>0</td>\n      <td>0</td>\n      <td>0.000</td>\n      <td>-1.141</td>\n    </tr>\n    <tr>\n      <th>27</th>\n      <td>0</td>\n      <td>0</td>\n      <td>0</td>\n      <td>49.581</td>\n      <td>0</td>\n      <td>0</td>\n      <td>0</td>\n      <td>0.000</td>\n      <td>48.440</td>\n    </tr>\n    <tr>\n      <th>28</th>\n      <td>0</td>\n      <td>0</td>\n      <td>0</td>\n      <td>-1.000</td>\n      <td>0</td>\n      <td>0</td>\n      <td>0</td>\n      <td>0.000</td>\n      <td>47.440</td>\n    </tr>\n    <tr>\n      <th>29</th>\n      <td>0</td>\n      <td>0</td>\n      <td>0</td>\n      <td>6.477</td>\n      <td>0</td>\n      <td>0</td>\n      <td>0</td>\n      <td>0.000</td>\n      <td>53.917</td>\n    </tr>\n    <tr>\n      <th>30</th>\n      <td>0</td>\n      <td>0</td>\n      <td>0</td>\n      <td>1.683</td>\n      <td>0</td>\n      <td>0</td>\n      <td>0</td>\n      <td>0.000</td>\n      <td>55.600</td>\n    </tr>\n    <tr>\n      <th>31</th>\n      <td>0</td>\n      <td>0</td>\n      <td>0</td>\n      <td>6.108</td>\n      <td>0</td>\n      <td>0</td>\n      <td>0</td>\n      <td>0.000</td>\n      <td>61.708</td>\n    </tr>\n    <tr>\n      <th>32</th>\n      <td>0</td>\n      <td>0</td>\n      <td>0</td>\n      <td>0.000</td>\n      <td>0</td>\n      <td>0</td>\n      <td>0</td>\n      <td>1.563</td>\n      <td>61.708</td>\n    </tr>\n    <tr>\n      <th>33</th>\n      <td>0</td>\n      <td>0</td>\n      <td>0</td>\n      <td>2.588</td>\n      <td>0</td>\n      <td>0</td>\n      <td>0</td>\n      <td>0.000</td>\n      <td>64.296</td>\n    </tr>\n    <tr>\n      <th>34</th>\n      <td>0</td>\n      <td>0</td>\n      <td>0</td>\n      <td>6.033</td>\n      <td>0</td>\n      <td>0</td>\n      <td>0</td>\n      <td>0.000</td>\n      <td>70.329</td>\n    </tr>\n    <tr>\n      <th>35</th>\n      <td>0</td>\n      <td>0</td>\n      <td>0</td>\n      <td>0.000</td>\n      <td>0</td>\n      <td>0</td>\n      <td>0</td>\n      <td>0.000</td>\n      <td>70.329</td>\n    </tr>\n    <tr>\n      <th>36</th>\n      <td>0</td>\n      <td>0</td>\n      <td>0</td>\n      <td>0.000</td>\n      <td>0</td>\n      <td>0</td>\n      <td>0</td>\n      <td>0.846</td>\n      <td>70.329</td>\n    </tr>\n    <tr>\n      <th>37</th>\n      <td>0</td>\n      <td>0</td>\n      <td>0</td>\n      <td>0.000</td>\n      <td>0</td>\n      <td>0</td>\n      <td>0</td>\n      <td>-1.000</td>\n      <td>70.329</td>\n    </tr>\n    <tr>\n      <th>38</th>\n      <td>0</td>\n      <td>0</td>\n      <td>0</td>\n      <td>0.000</td>\n      <td>0</td>\n      <td>0</td>\n      <td>0</td>\n      <td>0.000</td>\n      <td>70.329</td>\n    </tr>\n    <tr>\n      <th>39</th>\n      <td>0</td>\n      <td>0</td>\n      <td>0</td>\n      <td>0.000</td>\n      <td>0</td>\n      <td>0</td>\n      <td>0</td>\n      <td>-2.000</td>\n      <td>70.329</td>\n    </tr>\n    <tr>\n      <th>40</th>\n      <td>0</td>\n      <td>0</td>\n      <td>0</td>\n      <td>1.075</td>\n      <td>0</td>\n      <td>0</td>\n      <td>0</td>\n      <td>0.000</td>\n      <td>71.404</td>\n    </tr>\n    <tr>\n      <th>41</th>\n      <td>0</td>\n      <td>0</td>\n      <td>0</td>\n      <td>2.814</td>\n      <td>0</td>\n      <td>0</td>\n      <td>0</td>\n      <td>-1.000</td>\n      <td>74.218</td>\n    </tr>\n    <tr>\n      <th>42</th>\n      <td>0</td>\n      <td>0</td>\n      <td>0</td>\n      <td>1.718</td>\n      <td>0</td>\n      <td>0</td>\n      <td>0</td>\n      <td>1.782</td>\n      <td>75.936</td>\n    </tr>\n    <tr>\n      <th>43</th>\n      <td>0</td>\n      <td>0</td>\n      <td>0</td>\n      <td>0.945</td>\n      <td>0</td>\n      <td>0</td>\n      <td>0</td>\n      <td>-1.000</td>\n      <td>76.881</td>\n    </tr>\n    <tr>\n      <th>44</th>\n      <td>0</td>\n      <td>0</td>\n      <td>0</td>\n      <td>0.000</td>\n      <td>0</td>\n      <td>0</td>\n      <td>0</td>\n      <td>0.000</td>\n      <td>76.881</td>\n    </tr>\n    <tr>\n      <th>45</th>\n      <td>0</td>\n      <td>0</td>\n      <td>0</td>\n      <td>1.641</td>\n      <td>0</td>\n      <td>0</td>\n      <td>0</td>\n      <td>0.000</td>\n      <td>78.522</td>\n    </tr>\n    <tr>\n      <th>46</th>\n      <td>0</td>\n      <td>0</td>\n      <td>0</td>\n      <td>0.000</td>\n      <td>0</td>\n      <td>0</td>\n      <td>0</td>\n      <td>0.000</td>\n      <td>78.522</td>\n    </tr>\n    <tr>\n      <th>47</th>\n      <td>0</td>\n      <td>0</td>\n      <td>0</td>\n      <td>2.737</td>\n      <td>0</td>\n      <td>0</td>\n      <td>0</td>\n      <td>-1.000</td>\n      <td>81.259</td>\n    </tr>\n    <tr>\n      <th>48</th>\n      <td>0</td>\n      <td>0</td>\n      <td>0</td>\n      <td>0.980</td>\n      <td>0</td>\n      <td>0</td>\n      <td>0</td>\n      <td>0.000</td>\n      <td>82.239</td>\n    </tr>\n    <tr>\n      <th>49</th>\n      <td>0</td>\n      <td>0</td>\n      <td>0</td>\n      <td>0.000</td>\n      <td>0</td>\n      <td>0</td>\n      <td>0</td>\n      <td>0.000</td>\n      <td>82.239</td>\n    </tr>\n    <tr>\n      <th>50</th>\n      <td>0</td>\n      <td>0</td>\n      <td>0</td>\n      <td>0.000</td>\n      <td>0</td>\n      <td>0</td>\n      <td>0</td>\n      <td>0.000</td>\n      <td>82.239</td>\n    </tr>\n    <tr>\n      <th>51</th>\n      <td>0</td>\n      <td>0</td>\n      <td>0</td>\n      <td>0.000</td>\n      <td>0</td>\n      <td>0</td>\n      <td>0</td>\n      <td>1.036</td>\n      <td>82.239</td>\n    </tr>\n    <tr>\n      <th>52</th>\n      <td>0</td>\n      <td>0</td>\n      <td>0</td>\n      <td>0.961</td>\n      <td>0</td>\n      <td>0</td>\n      <td>0</td>\n      <td>2.221</td>\n      <td>83.200</td>\n    </tr>\n    <tr>\n      <th>53</th>\n      <td>0</td>\n      <td>0</td>\n      <td>0</td>\n      <td>-6.000</td>\n      <td>0</td>\n      <td>0</td>\n      <td>0</td>\n      <td>0.000</td>\n      <td>77.200</td>\n    </tr>\n    <tr>\n      <th>54</th>\n      <td>0</td>\n      <td>0</td>\n      <td>0</td>\n      <td>-0.137</td>\n      <td>0</td>\n      <td>0</td>\n      <td>0</td>\n      <td>0.000</td>\n      <td>77.063</td>\n    </tr>\n  </tbody>\n</table>\n</div>"
     },
     "execution_count": 10,
     "metadata": {},
     "output_type": "execute_result"
    }
   ],
   "source": [
    "rpnls = [{'rl': p['real_rpnl_long'], 'sl': p['real_rpnl_long'], 'wl': p['wanted_rpnl_long'], 'ul': p['unwanted_rpnl_long'], \n",
    "         'rs': p['real_rpnl_short'], 'ss': p['real_rpnl_short'], 'ws': p['wanted_rpnl_short'], 'us': p['unwanted_rpnl_short']} for p in perf_log]\n",
    "df = pd.DataFrame(rpnls)\n",
    "df['ul_cumm'] = df.ul.cumsum()\n",
    "df"
   ],
   "metadata": {
    "collapsed": false,
    "ExecuteTime": {
     "end_time": "2023-11-03T10:56:27.916948986Z",
     "start_time": "2023-11-03T10:56:27.865004283Z"
    }
   },
   "id": "3aace3d6b6ef086a"
  },
  {
   "cell_type": "code",
   "execution_count": null,
   "outputs": [],
   "source": [],
   "metadata": {
    "collapsed": false
   },
   "id": "895e48c7e0bcbc2a"
  }
 ],
 "metadata": {
  "kernelspec": {
   "display_name": "Python 3",
   "language": "python",
   "name": "python3"
  },
  "language_info": {
   "codemirror_mode": {
    "name": "ipython",
    "version": 2
   },
   "file_extension": ".py",
   "mimetype": "text/x-python",
   "name": "python",
   "nbconvert_exporter": "python",
   "pygments_lexer": "ipython2",
   "version": "2.7.6"
  }
 },
 "nbformat": 4,
 "nbformat_minor": 5
}
