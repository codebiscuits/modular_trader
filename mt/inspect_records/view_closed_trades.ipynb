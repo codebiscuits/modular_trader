{
 "cells": [
  {
   "cell_type": "code",
   "execution_count": 22,
   "id": "initial_id",
   "metadata": {
    "collapsed": true,
    "ExecuteTime": {
     "end_time": "2023-11-03T11:02:43.827642152Z",
     "start_time": "2023-11-03T11:02:43.783856699Z"
    }
   },
   "outputs": [],
   "source": [
    "import json\n",
    "from pathlib import Path\n",
    "from pprint import pprint"
   ]
  },
  {
   "cell_type": "code",
   "execution_count": 27,
   "outputs": [],
   "source": [
    "strat_name = 'ChannelRun'\n",
    "tf = '15m_None'\n",
    "strat_params = '200'\n",
    "sel_method = '1w_volumes'\n",
    "num_pairs = 150\n",
    "\n",
    "records_folder = Path(\"/home/ross/coding/modular_trader/records\")\n",
    "strat_folder = f\"{strat_name}_{tf}_{strat_params}_{sel_method}_{num_pairs}\"\n",
    "records = records_folder / strat_folder"
   ],
   "metadata": {
    "collapsed": false,
    "ExecuteTime": {
     "end_time": "2023-11-03T11:48:57.871784984Z",
     "start_time": "2023-11-03T11:48:57.828542598Z"
    }
   },
   "id": "1f6fb6b358520dd3"
  },
  {
   "cell_type": "code",
   "execution_count": 28,
   "outputs": [],
   "source": [
    "with open(records / 'closed_trades.json', 'r') as file:\n",
    "    closed_trades = json.load(file)\n",
    "\n",
    "with open(records / 'closed_sim_trades.json', 'r') as file:\n",
    "    closed_sim_trades = json.load(file)"
   ],
   "metadata": {
    "collapsed": false,
    "ExecuteTime": {
     "end_time": "2023-11-03T11:48:58.788128378Z",
     "start_time": "2023-11-03T11:48:58.777457801Z"
    }
   },
   "id": "cd0d0587e609718a"
  },
  {
   "cell_type": "code",
   "execution_count": 29,
   "outputs": [
    {
     "name": "stdout",
     "output_type": "stream",
     "text": [
      "0\n"
     ]
    }
   ],
   "source": [
    "# pprint(closed_trades)\n",
    "# pprint(closed_sim_trades)\n",
    "print(len(closed_sim_trades))"
   ],
   "metadata": {
    "collapsed": false,
    "ExecuteTime": {
     "end_time": "2023-11-03T11:48:59.735454362Z",
     "start_time": "2023-11-03T11:48:59.725440292Z"
    }
   },
   "id": "1224f1b03a9c5db5"
  },
  {
   "cell_type": "code",
   "execution_count": 30,
   "outputs": [
    {
     "data": {
      "text/plain": "[]"
     },
     "execution_count": 30,
     "metadata": {},
     "output_type": "execute_result"
    }
   ],
   "source": [
    "[{'direction': r['signal']['direction'], 'score': r['signal']['score'], 'rpnl': r['trade'][1]['rpnl']} for r in closed_sim_trades.values()]"
   ],
   "metadata": {
    "collapsed": false,
    "ExecuteTime": {
     "end_time": "2023-11-03T11:49:01.914657628Z",
     "start_time": "2023-11-03T11:49:01.907748291Z"
    }
   },
   "id": "b22bd86451845cc9"
  },
  {
   "cell_type": "code",
   "execution_count": null,
   "outputs": [],
   "source": [],
   "metadata": {
    "collapsed": false
   },
   "id": "ff9f986e40a6053d"
  }
 ],
 "metadata": {
  "kernelspec": {
   "display_name": "Python 3",
   "language": "python",
   "name": "python3"
  },
  "language_info": {
   "codemirror_mode": {
    "name": "ipython",
    "version": 2
   },
   "file_extension": ".py",
   "mimetype": "text/x-python",
   "name": "python",
   "nbconvert_exporter": "python",
   "pygments_lexer": "ipython2",
   "version": "2.7.6"
  }
 },
 "nbformat": 4,
 "nbformat_minor": 5
}
