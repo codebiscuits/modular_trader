{
 "cells": [
  {
   "cell_type": "code",
   "execution_count": 5,
   "id": "initial_id",
   "metadata": {
    "collapsed": true,
    "ExecuteTime": {
     "end_time": "2023-10-06T09:48:11.883165412Z",
     "start_time": "2023-10-06T09:48:11.874638824Z"
    }
   },
   "outputs": [],
   "source": [
    "from binance import Client\n",
    "from resources import keys\n",
    "from pprint import pprint"
   ]
  },
  {
   "cell_type": "code",
   "execution_count": 3,
   "outputs": [],
   "source": [
    "client = Client(keys.bPkey, keys.bSkey)"
   ],
   "metadata": {
    "collapsed": false,
    "ExecuteTime": {
     "end_time": "2023-10-06T09:46:19.046710147Z",
     "start_time": "2023-10-06T09:46:18.645781683Z"
    }
   },
   "id": "9c6282546606b181"
  },
  {
   "cell_type": "code",
   "execution_count": 4,
   "outputs": [],
   "source": [
    "info = client.get_exchange_info()"
   ],
   "metadata": {
    "collapsed": false,
    "ExecuteTime": {
     "end_time": "2023-10-06T09:47:54.822200662Z",
     "start_time": "2023-10-06T09:47:54.036247588Z"
    }
   },
   "id": "9ade485b0ec2067e"
  }
 ],
 "metadata": {
  "kernelspec": {
   "display_name": "Python 3",
   "language": "python",
   "name": "python3"
  },
  "language_info": {
   "codemirror_mode": {
    "name": "ipython",
    "version": 2
   },
   "file_extension": ".py",
   "mimetype": "text/x-python",
   "name": "python",
   "nbconvert_exporter": "python",
   "pygments_lexer": "ipython2",
   "version": "2.7.6"
  }
 },
 "nbformat": 4,
 "nbformat_minor": 5
}
